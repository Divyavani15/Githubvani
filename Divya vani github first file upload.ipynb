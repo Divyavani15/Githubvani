{
 "cells": [
  {
   "cell_type": "code",
   "execution_count": 1,
   "id": "a67f546b",
   "metadata": {},
   "outputs": [
    {
     "name": "stdout",
     "output_type": "stream",
     "text": [
      "hello\n"
     ]
    }
   ],
   "source": [
    "print(\"hello\")"
   ]
  },
  {
   "cell_type": "code",
   "execution_count": null,
   "id": "30e2b510",
   "metadata": {},
   "outputs": [],
   "source": []
  },
  {
   "cell_type": "code",
   "execution_count": null,
   "id": "0044ddc4",
   "metadata": {},
   "outputs": [],
   "source": []
  },
  {
   "cell_type": "markdown",
   "id": "b87f6b18",
   "metadata": {},
   "source": [
    "# data type"
   ]
  },
  {
   "cell_type": "markdown",
   "id": "580d442d",
   "metadata": {},
   "source": [
    "a1=10\n",
    "a1\n"
   ]
  },
  {
   "cell_type": "code",
   "execution_count": 3,
   "id": "db27da4f",
   "metadata": {},
   "outputs": [
    {
     "data": {
      "text/plain": [
       "int"
      ]
     },
     "execution_count": 3,
     "metadata": {},
     "output_type": "execute_result"
    }
   ],
   "source": [
    "type(a1)"
   ]
  },
  {
   "cell_type": "code",
   "execution_count": 4,
   "id": "21fb38b6",
   "metadata": {},
   "outputs": [],
   "source": [
    "a1=3+4j"
   ]
  },
  {
   "cell_type": "code",
   "execution_count": 5,
   "id": "971014af",
   "metadata": {},
   "outputs": [
    {
     "data": {
      "text/plain": [
       "complex"
      ]
     },
     "execution_count": 5,
     "metadata": {},
     "output_type": "execute_result"
    }
   ],
   "source": [
    "type(a1)"
   ]
  },
  {
   "cell_type": "markdown",
   "id": "c96c7ff7",
   "metadata": {},
   "source": [
    "# PYTHON BOOLEANS"
   ]
  },
  {
   "cell_type": "code",
   "execution_count": 1,
   "id": "7e544266",
   "metadata": {},
   "outputs": [
    {
     "name": "stdout",
     "output_type": "stream",
     "text": [
      "True\n",
      "True\n"
     ]
    }
   ],
   "source": [
    "print(bool(\"Hello\"))\n",
    "print(bool(15))"
   ]
  },
  {
   "cell_type": "code",
   "execution_count": 2,
   "id": "619294d8",
   "metadata": {},
   "outputs": [
    {
     "data": {
      "text/plain": [
       "False"
      ]
     },
     "execution_count": 2,
     "metadata": {},
     "output_type": "execute_result"
    }
   ],
   "source": [
    "bool(False)#In fact, there are not many values that evaluate to False, except empty values, such as (), [], {}, \"\", the number 0, and the value None. And of course the value False evaluates to False. \n",
    "bool(None)\n",
    "bool(0)\n",
    "bool(\"\")\n",
    "bool(())\n",
    "bool([])\n",
    "bool({})"
   ]
  },
  {
   "cell_type": "code",
   "execution_count": 4,
   "id": "51307d8f",
   "metadata": {},
   "outputs": [
    {
     "name": "stdout",
     "output_type": "stream",
     "text": [
      "True\n"
     ]
    }
   ],
   "source": [
    "#Python also has many built-in functions that return a boolean value, like the isinstance() function, which can be used to determine if an object is of a certain data type:\n",
    "x = 200\n",
    "print(isinstance(x, int))"
   ]
  },
  {
   "cell_type": "markdown",
   "id": "7c4fff82",
   "metadata": {},
   "source": [
    "# operators"
   ]
  },
  {
   "cell_type": "code",
   "execution_count": null,
   "id": "4dea1acf",
   "metadata": {},
   "outputs": [],
   "source": [
    "#arithmetic opreators"
   ]
  },
  {
   "cell_type": "code",
   "execution_count": 14,
   "id": "1fa523fb",
   "metadata": {},
   "outputs": [],
   "source": [
    "# +,-,*,/"
   ]
  },
  {
   "cell_type": "code",
   "execution_count": 15,
   "id": "d7418b1d",
   "metadata": {},
   "outputs": [],
   "source": [
    "a=10\n",
    "b=20"
   ]
  },
  {
   "cell_type": "code",
   "execution_count": 16,
   "id": "4e41d316",
   "metadata": {},
   "outputs": [
    {
     "data": {
      "text/plain": [
       "(10, 20)"
      ]
     },
     "execution_count": 16,
     "metadata": {},
     "output_type": "execute_result"
    }
   ],
   "source": [
    "a,b"
   ]
  },
  {
   "cell_type": "code",
   "execution_count": 17,
   "id": "650fbda7",
   "metadata": {},
   "outputs": [
    {
     "data": {
      "text/plain": [
       "30"
      ]
     },
     "execution_count": 17,
     "metadata": {},
     "output_type": "execute_result"
    }
   ],
   "source": [
    "a+b"
   ]
  },
  {
   "cell_type": "code",
   "execution_count": 18,
   "id": "5acc070d",
   "metadata": {},
   "outputs": [
    {
     "data": {
      "text/plain": [
       "-10"
      ]
     },
     "execution_count": 18,
     "metadata": {},
     "output_type": "execute_result"
    }
   ],
   "source": [
    "a-b"
   ]
  },
  {
   "cell_type": "code",
   "execution_count": null,
   "id": "01c9f028",
   "metadata": {},
   "outputs": [],
   "source": [
    "# relational(Comparsion) opreators"
   ]
  },
  {
   "cell_type": "code",
   "execution_count": null,
   "id": "25ce0df4",
   "metadata": {},
   "outputs": [],
   "source": [
    "# <,>,==,!="
   ]
  },
  {
   "cell_type": "code",
   "execution_count": 19,
   "id": "123ebef5",
   "metadata": {},
   "outputs": [
    {
     "data": {
      "text/plain": [
       "False"
      ]
     },
     "execution_count": 19,
     "metadata": {},
     "output_type": "execute_result"
    }
   ],
   "source": [
    "a=50\n",
    "b=100\n",
    "a>b"
   ]
  },
  {
   "cell_type": "code",
   "execution_count": null,
   "id": "8f0c2968",
   "metadata": {},
   "outputs": [],
   "source": [
    "# logical opreators\n",
    "# & |\n",
    "a=True\n",
    "b=False\n",
    "a|b"
   ]
  },
  {
   "cell_type": "code",
   "execution_count": 22,
   "id": "9bbcea66",
   "metadata": {},
   "outputs": [
    {
     "data": {
      "text/plain": [
       "False"
      ]
     },
     "execution_count": 22,
     "metadata": {},
     "output_type": "execute_result"
    }
   ],
   "source": [
    "a&b"
   ]
  },
  {
   "cell_type": "code",
   "execution_count": 23,
   "id": "f9617984",
   "metadata": {},
   "outputs": [
    {
     "data": {
      "text/plain": [
       "False"
      ]
     },
     "execution_count": 23,
     "metadata": {},
     "output_type": "execute_result"
    }
   ],
   "source": [
    "b&b"
   ]
  },
  {
   "cell_type": "code",
   "execution_count": null,
   "id": "9e4696a2",
   "metadata": {},
   "outputs": [],
   "source": [
    "# Python Identity Operators\n",
    "Identity operators are used to compare the objects, not if they are equal, but if they are actually the same object, with the same memory location:\n",
    "\n",
    "Operator\n",
    "is \t\n",
    "Returns True if both variables are the same \n",
    "object\tx is y\t\n",
    "is not\n",
    "Returns True if both variables are not the same \n",
    "object\tx is not y"
   ]
  },
  {
   "cell_type": "code",
   "execution_count": null,
   "id": "b618f7ee",
   "metadata": {},
   "outputs": [],
   "source": [
    "# Python Membership Operators\n",
    "Membership operators are used to test if a sequence is presented in an object:\n",
    "\n",
    "in \tReturns True \n",
    "if a sequence with the specified value is present in the \n",
    "object\tx in y\t\n",
    "not in\t\n",
    "Returns True\n",
    "if a sequence with the specified value is not present in the \n",
    "object\tx not in y"
   ]
  },
  {
   "cell_type": "code",
   "execution_count": null,
   "id": "0b443f68",
   "metadata": {},
   "outputs": [],
   "source": [
    "Decimal numbers and their binary values:\n",
    "0 = 0000000000000000\n",
    "1 = 0000000000000001\n",
    "2 = 0000000000000010\n",
    "3 = 0000000000000011\n",
    "4 = 0000000000000100\n",
    "5 = 0000000000000101\n",
    "6 = 0000000000000110\n",
    "7 = 0000000000000111"
   ]
  },
  {
   "cell_type": "code",
   "execution_count": null,
   "id": "b7d43f1d",
   "metadata": {},
   "outputs": [],
   "source": [
    "#Python Bitwise operators\n",
    "1.& \tAND\tSets each bit to 1 if both bits are 1\tx & y\n",
    "eg- 6&3\n",
    "6 = 0000000000000110\n",
    "3 = 0000000000000011\n",
    "--------------------\n",
    "2 = 0000000000000010\n",
    "2.|\tOR\tSets each bit to 1 if one of two bits is 1\tx | y\n",
    "eg- 6|3\n",
    "6 = 0000000000000110\n",
    "3 = 0000000000000011\n",
    "--------------------\n",
    "7 = 0000000000000111\n",
    "3.^\tXOR\tSets each bit to 1 if only one of two bits is 1\tx ^ y\t\n",
    "eg- 6^3\n",
    "6 = 0000000000000110\n",
    "3 = 0000000000000011\n",
    "--------------------\n",
    "5 = 0000000000000101\n",
    "4.~\tNOT\tInverts all the bits\t~x\n",
    "eg- ~6\n",
    "Inverted 3 becomes -4:\n",
    " 3 = 0000000000000011\n",
    "-4 = 1111111111111100\n",
    "5.<<\tZero fill left shift\tShift left by pushing zeros in from the right and let the leftmost bits fall off\tx << 2\n",
    "eg- 6<<3\n",
    "If you push 00 in from the left:\n",
    " 3 = 0000000000000011\n",
    "becomes\n",
    "12 = 0000000000001100\n",
    "\n",
    "6.>>\tSigned right shift\tShift right by pushing copies of the leftmost bit in from the left, and let the rightmost bits fall off\tx >> 2\n",
    "eg-6>>3\n",
    "If you move each bit 2 times to the right, 8 becomes 2:\n",
    " 8 = 0000000000001000\n",
    "becomes\n",
    " 2 = 0000000000000010"
   ]
  },
  {
   "cell_type": "markdown",
   "id": "736bcff3",
   "metadata": {},
   "source": [
    "# python tokens"
   ]
  },
  {
   "cell_type": "code",
   "execution_count": null,
   "id": "97c6317e",
   "metadata": {},
   "outputs": [],
   "source": [
    "#keywords\n",
    "#identifiers\n",
    "#literals\n",
    "#operators"
   ]
  },
  {
   "cell_type": "code",
   "execution_count": 24,
   "id": "2a42b93f",
   "metadata": {},
   "outputs": [
    {
     "ename": "SyntaxError",
     "evalue": "cannot assign to True (3410142420.py, line 2)",
     "output_type": "error",
     "traceback": [
      "\u001b[1;36m  Cell \u001b[1;32mIn[24], line 2\u001b[1;36m\u001b[0m\n\u001b[1;33m    True=a\u001b[0m\n\u001b[1;37m    ^\u001b[0m\n\u001b[1;31mSyntaxError\u001b[0m\u001b[1;31m:\u001b[0m cannot assign to True\n"
     ]
    }
   ],
   "source": [
    "#keyword\n",
    "True=a #(error:  cause keywprd cant be a variable  )"
   ]
  },
  {
   "cell_type": "code",
   "execution_count": 26,
   "id": "ccafaf15",
   "metadata": {},
   "outputs": [],
   "source": [
    "# identifiers\n",
    "student='divya'\n",
    "Student='vani'"
   ]
  },
  {
   "cell_type": "code",
   "execution_count": 27,
   "id": "e2b7b9c2",
   "metadata": {},
   "outputs": [
    {
     "data": {
      "text/plain": [
       "'vani'"
      ]
     },
     "execution_count": 27,
     "metadata": {},
     "output_type": "execute_result"
    }
   ],
   "source": [
    "Student"
   ]
  },
  {
   "cell_type": "code",
   "execution_count": 28,
   "id": "f2d1898d",
   "metadata": {},
   "outputs": [
    {
     "data": {
      "text/plain": [
       "'divya'"
      ]
     },
     "execution_count": 28,
     "metadata": {},
     "output_type": "execute_result"
    }
   ],
   "source": [
    "student"
   ]
  },
  {
   "cell_type": "code",
   "execution_count": null,
   "id": "fc56c3ce",
   "metadata": {},
   "outputs": [],
   "source": [
    "#(\"above variables both are same but they follow case sensitive rule\")"
   ]
  },
  {
   "cell_type": "code",
   "execution_count": null,
   "id": "e8a5301b",
   "metadata": {},
   "outputs": [],
   "source": [
    "# literals('constant in python')\n",
    "a=10(#'here 10 is literals which is never changed ')"
   ]
  },
  {
   "cell_type": "markdown",
   "id": "08f3365a",
   "metadata": {},
   "source": [
    "# python string"
   ]
  },
  {
   "cell_type": "code",
   "execution_count": 30,
   "id": "ebeca617",
   "metadata": {},
   "outputs": [],
   "source": [
    "str1='I am divya '"
   ]
  },
  {
   "cell_type": "code",
   "execution_count": 31,
   "id": "094c2d7d",
   "metadata": {},
   "outputs": [
    {
     "data": {
      "text/plain": [
       "'I am divya '"
      ]
     },
     "execution_count": 31,
     "metadata": {},
     "output_type": "execute_result"
    }
   ],
   "source": [
    "str1"
   ]
  },
  {
   "cell_type": "code",
   "execution_count": 38,
   "id": "8c97dbab",
   "metadata": {},
   "outputs": [],
   "source": [
    "str2 = '''\n",
    "this is \n",
    "line \n",
    "of\n",
    "python\n",
    "'''"
   ]
  },
  {
   "cell_type": "code",
   "execution_count": 39,
   "id": "8ea71841",
   "metadata": {},
   "outputs": [
    {
     "data": {
      "text/plain": [
       "'\\nthis is \\nline \\nof\\npython\\n'"
      ]
     },
     "execution_count": 39,
     "metadata": {},
     "output_type": "execute_result"
    }
   ],
   "source": [
    "str2"
   ]
  },
  {
   "cell_type": "code",
   "execution_count": null,
   "id": "bcaa1dc3",
   "metadata": {},
   "outputs": [],
   "source": [
    "#Indexing >extracting individual character "
   ]
  },
  {
   "cell_type": "code",
   "execution_count": 40,
   "id": "7e2b3c60",
   "metadata": {},
   "outputs": [
    {
     "data": {
      "text/plain": [
       "'me is'"
      ]
     },
     "execution_count": 40,
     "metadata": {},
     "output_type": "execute_result"
    }
   ],
   "source": [
    "str1 = 'my name is divya vani'\n",
    "str1[5:10]"
   ]
  },
  {
   "cell_type": "code",
   "execution_count": 41,
   "id": "86239b1c",
   "metadata": {},
   "outputs": [
    {
     "data": {
      "text/plain": [
       "''"
      ]
     },
     "execution_count": 41,
     "metadata": {},
     "output_type": "execute_result"
    }
   ],
   "source": [
    "str1[0:1:-1]"
   ]
  },
  {
   "cell_type": "markdown",
   "id": "ad478822",
   "metadata": {},
   "source": [
    "# string functions\n"
   ]
  },
  {
   "cell_type": "code",
   "execution_count": 44,
   "id": "11ae6d4f",
   "metadata": {},
   "outputs": [
    {
     "data": {
      "text/plain": [
       "16"
      ]
     },
     "execution_count": 44,
     "metadata": {},
     "output_type": "execute_result"
    }
   ],
   "source": [
    "#finding length of string\n",
    "a=\"MY NAME IS divya\"\n",
    "len(a)"
   ]
  },
  {
   "cell_type": "code",
   "execution_count": 45,
   "id": "c51aa074",
   "metadata": {},
   "outputs": [
    {
     "data": {
      "text/plain": [
       "'my name is divya'"
      ]
     },
     "execution_count": 45,
     "metadata": {},
     "output_type": "execute_result"
    }
   ],
   "source": [
    "#converting string to lower case\n",
    "a.lower()"
   ]
  },
  {
   "cell_type": "code",
   "execution_count": 46,
   "id": "44f378a4",
   "metadata": {},
   "outputs": [
    {
     "data": {
      "text/plain": [
       "'MY NAME IS DIVYA'"
      ]
     },
     "execution_count": 46,
     "metadata": {},
     "output_type": "execute_result"
    }
   ],
   "source": [
    "#converting string to uppercase\n",
    "a.upper()"
   ]
  },
  {
   "cell_type": "code",
   "execution_count": 47,
   "id": "56bc33b4",
   "metadata": {},
   "outputs": [
    {
     "data": {
      "text/plain": [
       "'ma name is divaa'"
      ]
     },
     "execution_count": 47,
     "metadata": {},
     "output_type": "execute_result"
    }
   ],
   "source": [
    "#replacing a substring \n",
    "a.replace('y','a')"
   ]
  },
  {
   "cell_type": "code",
   "execution_count": 49,
   "id": "89faac7c",
   "metadata": {},
   "outputs": [
    {
     "data": {
      "text/plain": [
       "2"
      ]
     },
     "execution_count": 49,
     "metadata": {},
     "output_type": "execute_result"
    }
   ],
   "source": [
    "#Number of occurrences of substring\n",
    "b='hello hello world'\n",
    "b.count('hello')"
   ]
  },
  {
   "cell_type": "code",
   "execution_count": 52,
   "id": "fe5d54d3",
   "metadata": {},
   "outputs": [
    {
     "data": {
      "text/plain": [
       "10"
      ]
     },
     "execution_count": 52,
     "metadata": {},
     "output_type": "execute_result"
    }
   ],
   "source": [
    "#finding the index of substring\n",
    "s1='this is spectacles'\n",
    "s1.find('e')"
   ]
  },
  {
   "cell_type": "code",
   "execution_count": 56,
   "id": "b32a64c0",
   "metadata": {},
   "outputs": [
    {
     "data": {
      "text/plain": [
       "['i like apple', ' mangoes', ' bannanas']"
      ]
     },
     "execution_count": 56,
     "metadata": {},
     "output_type": "execute_result"
    }
   ],
   "source": [
    "#spliting a string\n",
    "fruit='i like apple, mangoes, bannanas'\n",
    "fruit.split(',')"
   ]
  },
  {
   "cell_type": "markdown",
   "id": "d096ab3f",
   "metadata": {},
   "source": [
    "# Data structures in python>Tuple\n"
   ]
  },
  {
   "cell_type": "code",
   "execution_count": null,
   "id": "f44bce09",
   "metadata": {},
   "outputs": [],
   "source": [
    "#Tuple> its is immutable(no change)\n",
    "tup1=(1,'a',True,5-7j)\n",
    "tup1"
   ]
  },
  {
   "cell_type": "code",
   "execution_count": 59,
   "id": "b4b23a75",
   "metadata": {},
   "outputs": [
    {
     "data": {
      "text/plain": [
       "tuple"
      ]
     },
     "execution_count": 59,
     "metadata": {},
     "output_type": "execute_result"
    }
   ],
   "source": [
    "type(tup1)"
   ]
  },
  {
   "cell_type": "code",
   "execution_count": 66,
   "id": "33b921ab",
   "metadata": {},
   "outputs": [
    {
     "data": {
      "text/plain": [
       "'b'"
      ]
     },
     "execution_count": 66,
     "metadata": {},
     "output_type": "execute_result"
    }
   ],
   "source": [
    "#extracting individuals elements\n",
    "tup1=(1,'a',True,2,'b',False)\n",
    "tup1[4]"
   ]
  },
  {
   "cell_type": "code",
   "execution_count": 67,
   "id": "33d7daf0",
   "metadata": {},
   "outputs": [
    {
     "data": {
      "text/plain": [
       "('a', True, 2)"
      ]
     },
     "execution_count": 67,
     "metadata": {},
     "output_type": "execute_result"
    }
   ],
   "source": [
    "tup1=(1,\"a\",True,2,\"b\",False)\n",
    "tup1[1:4]"
   ]
  },
  {
   "cell_type": "code",
   "execution_count": 68,
   "id": "82ccab3f",
   "metadata": {},
   "outputs": [
    {
     "data": {
      "text/plain": [
       "(2, 3)"
      ]
     },
     "execution_count": 68,
     "metadata": {},
     "output_type": "execute_result"
    }
   ],
   "source": [
    "divya=(1,2,3,4,5,6)\n",
    "divya[1:3]"
   ]
  },
  {
   "cell_type": "code",
   "execution_count": 69,
   "id": "cb2dbe58",
   "metadata": {},
   "outputs": [
    {
     "data": {
      "text/plain": [
       "tuple"
      ]
     },
     "execution_count": 69,
     "metadata": {},
     "output_type": "execute_result"
    }
   ],
   "source": [
    "type(divya)"
   ]
  },
  {
   "cell_type": "markdown",
   "id": "bb03ca38",
   "metadata": {},
   "source": [
    "# Tuple basic opreations \n"
   ]
  },
  {
   "cell_type": "code",
   "execution_count": 70,
   "id": "81b0079c",
   "metadata": {},
   "outputs": [
    {
     "data": {
      "text/plain": [
       "5"
      ]
     },
     "execution_count": 70,
     "metadata": {},
     "output_type": "execute_result"
    }
   ],
   "source": [
    "#1.Finding length of tuple\n",
    "tup1=(1,2,'a','lion',True)\n",
    "len(tup1)"
   ]
  },
  {
   "cell_type": "code",
   "execution_count": 2,
   "id": "c66a092d",
   "metadata": {},
   "outputs": [
    {
     "name": "stdout",
     "output_type": "stream",
     "text": [
      "<class 'tuple'>\n"
     ]
    }
   ],
   "source": [
    "#To create a tuple with only one item, you have to add a comma after the item, otherwise Python will not recognize it as a tuple.\n",
    "a=(\"apple\",)\n",
    "print(type(a))"
   ]
  },
  {
   "cell_type": "code",
   "execution_count": 7,
   "id": "a73edaf8",
   "metadata": {},
   "outputs": [
    {
     "name": "stdout",
     "output_type": "stream",
     "text": [
      "('apple', 'banana', 'cherry') (1, 5, 7, 9, 3) (True, False, False)\n"
     ]
    }
   ],
   "source": [
    "#Tuple Items - Data Types\n",
    "tuple1 = (\"apple\", \"banana\", \"cherry\")\n",
    "tuple2 = (1, 5, 7, 9, 3)\n",
    "tuple3 = (True, False, False)\n",
    "print(tuple1,tuple2,tuple3)"
   ]
  },
  {
   "cell_type": "code",
   "execution_count": 10,
   "id": "edd1a37c",
   "metadata": {},
   "outputs": [
    {
     "name": "stdout",
     "output_type": "stream",
     "text": [
      "<class 'tuple'>\n"
     ]
    }
   ],
   "source": [
    "#The tuple() Constructor\n",
    "#It is also possible to use the tuple() constructor to make a tuple.\n",
    "tuple1=tuple((1,2,3,4))# note the double round-brackets\n",
    "print(type(tuple1))"
   ]
  },
  {
   "cell_type": "code",
   "execution_count": 5,
   "id": "ac9989b8",
   "metadata": {},
   "outputs": [
    {
     "name": "stdout",
     "output_type": "stream",
     "text": [
      "yes\n"
     ]
    }
   ],
   "source": [
    "thistuple=(\"apple\",\"bananana\",\"kiwi\",\"oranges\",\"papaya\")\n",
    "if \"kiwi\" in thistuple:\n",
    "    print(\"yes\")"
   ]
  },
  {
   "cell_type": "code",
   "execution_count": 13,
   "id": "f4b98e71",
   "metadata": {},
   "outputs": [
    {
     "name": "stdout",
     "output_type": "stream",
     "text": [
      "('a', 'b', 'hat')\n"
     ]
    }
   ],
   "source": [
    "#updated tuple\n",
    "a=(('a','b','c'))\n",
    "b=list(a)\n",
    "b[2]=\"hat\"\n",
    "a=tuple(b)\n",
    "print(a)"
   ]
  },
  {
   "cell_type": "code",
   "execution_count": 14,
   "id": "d5e579b5",
   "metadata": {},
   "outputs": [
    {
     "name": "stdout",
     "output_type": "stream",
     "text": [
      "(1, 2, 3, 4, 1)\n"
     ]
    }
   ],
   "source": [
    "#Add tuple to a tuple\n",
    "a=(1,2,3,4)\n",
    "b=(1,)\n",
    "a+=b\n",
    "print(a)"
   ]
  },
  {
   "cell_type": "code",
   "execution_count": 17,
   "id": "363e66a7",
   "metadata": {},
   "outputs": [
    {
     "name": "stdout",
     "output_type": "stream",
     "text": [
      "(2, 4, 6, 7)\n"
     ]
    }
   ],
   "source": [
    "#remove tuple to a tuple\n",
    "a=(1,2,4,6,7)\n",
    "b=list(a)\n",
    "b.remove(1)\n",
    "a=tuple(b)\n",
    "print(a)\n"
   ]
  },
  {
   "cell_type": "code",
   "execution_count": 23,
   "id": "d13421ff",
   "metadata": {},
   "outputs": [
    {
     "ename": "NameError",
     "evalue": "name 'a' is not defined",
     "output_type": "error",
     "traceback": [
      "\u001b[1;31m---------------------------------------------------------------------------\u001b[0m",
      "\u001b[1;31mNameError\u001b[0m                                 Traceback (most recent call last)",
      "Cell \u001b[1;32mIn[23], line 4\u001b[0m\n\u001b[0;32m      2\u001b[0m a\u001b[38;5;241m=\u001b[39m(\u001b[38;5;241m1\u001b[39m,\u001b[38;5;241m2\u001b[39m,\u001b[38;5;241m3\u001b[39m,\u001b[38;5;241m4\u001b[39m)\n\u001b[0;32m      3\u001b[0m \u001b[38;5;28;01mdel\u001b[39;00m a\n\u001b[1;32m----> 4\u001b[0m \u001b[38;5;28mprint\u001b[39m(a)\n",
      "\u001b[1;31mNameError\u001b[0m: name 'a' is not defined"
     ]
    }
   ],
   "source": [
    "#del tuple\n",
    "a=(1,2,3,4)\n",
    "del a\n",
    "print(a)\n"
   ]
  },
  {
   "cell_type": "code",
   "execution_count": 24,
   "id": "2391b247",
   "metadata": {},
   "outputs": [
    {
     "name": "stdout",
     "output_type": "stream",
     "text": [
      "1\n",
      "2\n",
      "3 4 5 6 7 8\n"
     ]
    }
   ],
   "source": [
    "#unpacking tuple\n",
    "#If the number of variables is less than the number of values, you can add an * to the variable name and the values will be assigned to the variable as a list\n",
    "temp=(1,2,3,4,5,6,7,8)\n",
    "(a,b,*c)=temp\n",
    "print(a)\n",
    "print(b)\n",
    "print(*c)"
   ]
  },
  {
   "cell_type": "code",
   "execution_count": 25,
   "id": "5b5fa713",
   "metadata": {},
   "outputs": [
    {
     "name": "stdout",
     "output_type": "stream",
     "text": [
      "1\n",
      "2 3 4 5 6 7\n",
      "8\n"
     ]
    }
   ],
   "source": [
    "temp=(1,2,3,4,5,6,7,8)\n",
    "(a,*b,c)=temp\n",
    "print(a)\n",
    "print(*b)\n",
    "print(c)"
   ]
  },
  {
   "cell_type": "code",
   "execution_count": 26,
   "id": "794a5593",
   "metadata": {},
   "outputs": [
    {
     "name": "stdout",
     "output_type": "stream",
     "text": [
      "1 2 3 4 5 6\n",
      "7\n",
      "8\n"
     ]
    }
   ],
   "source": [
    "temp=(1,2,3,4,5,6,7,8)\n",
    "(*a,b,c)=temp\n",
    "print(*a)\n",
    "print(b)\n",
    "print(c)"
   ]
  },
  {
   "cell_type": "code",
   "execution_count": 27,
   "id": "22ad6424",
   "metadata": {},
   "outputs": [
    {
     "name": "stdout",
     "output_type": "stream",
     "text": [
      "0\n",
      "1\n",
      "2\n",
      "3\n"
     ]
    }
   ],
   "source": [
    "a=(\"star\",'moon',\"star1\",\"star2\")\n",
    "for i in range(len(a)):\n",
    "    print(i)"
   ]
  },
  {
   "cell_type": "code",
   "execution_count": 28,
   "id": "65c364d5",
   "metadata": {},
   "outputs": [
    {
     "name": "stdout",
     "output_type": "stream",
     "text": [
      "star\n",
      "moon\n",
      "star1\n",
      "star2\n"
     ]
    }
   ],
   "source": [
    "a=(\"star\",'moon',\"star1\",\"star2\")\n",
    "for i in range(len(a)):\n",
    "    print(a[i])"
   ]
  },
  {
   "cell_type": "code",
   "execution_count": 31,
   "id": "e87e0c9b",
   "metadata": {},
   "outputs": [
    {
     "name": "stdout",
     "output_type": "stream",
     "text": [
      "4\n",
      "4\n",
      "5\n",
      "5\n"
     ]
    }
   ],
   "source": [
    "a=(\"star\",'moon',\"star1\",\"star2\")\n",
    "i=0\n",
    "while i<len(a):\n",
    "    print(len(a[i]))\n",
    "    i=i+1"
   ]
  },
  {
   "cell_type": "code",
   "execution_count": 32,
   "id": "86007d72",
   "metadata": {},
   "outputs": [
    {
     "name": "stdout",
     "output_type": "stream",
     "text": [
      "star\n",
      "moon\n",
      "star1\n",
      "star2\n"
     ]
    }
   ],
   "source": [
    "a=(\"star\",'moon',\"star1\",\"star2\")\n",
    "i=0\n",
    "while i<len(a):\n",
    "    print(a[i])\n",
    "    i=i+1"
   ]
  },
  {
   "cell_type": "code",
   "execution_count": 71,
   "id": "ba198c93",
   "metadata": {},
   "outputs": [
    {
     "data": {
      "text/plain": [
       "((1, 2, 3, 4, 5), (5, 6, 7, 8))"
      ]
     },
     "execution_count": 71,
     "metadata": {},
     "output_type": "execute_result"
    }
   ],
   "source": [
    "#2.concatenating tuples\n",
    "a=(1,2,3,4,5)\n",
    "b=(5,6,7,8)\n",
    "a,b"
   ]
  },
  {
   "cell_type": "code",
   "execution_count": 72,
   "id": "d7f3c183",
   "metadata": {},
   "outputs": [
    {
     "data": {
      "text/plain": [
       "(1, 2, 3, 4, 5, 5, 6, 7, 8)"
      ]
     },
     "execution_count": 72,
     "metadata": {},
     "output_type": "execute_result"
    }
   ],
   "source": [
    "a+b"
   ]
  },
  {
   "cell_type": "code",
   "execution_count": 73,
   "id": "1a71e51b",
   "metadata": {},
   "outputs": [
    {
     "data": {
      "text/plain": [
       "(5, 6, 7, 8, 1, 2, 3, 4, 5)"
      ]
     },
     "execution_count": 73,
     "metadata": {},
     "output_type": "execute_result"
    }
   ],
   "source": [
    "b+a"
   ]
  },
  {
   "cell_type": "code",
   "execution_count": 75,
   "id": "5c8a6dee",
   "metadata": {},
   "outputs": [
    {
     "data": {
      "text/plain": [
       "(9,\n",
       " 88,\n",
       " 12,\n",
       " 'Divya',\n",
       " 9,\n",
       " 88,\n",
       " 12,\n",
       " 'Divya',\n",
       " 9,\n",
       " 88,\n",
       " 12,\n",
       " 'Divya',\n",
       " 9,\n",
       " 88,\n",
       " 12,\n",
       " 'Divya',\n",
       " 9,\n",
       " 88,\n",
       " 12,\n",
       " 'Divya')"
      ]
     },
     "execution_count": 75,
     "metadata": {},
     "output_type": "execute_result"
    }
   ],
   "source": [
    "#3. Repeating Tuple elements\n",
    "tuple1=(9,88,12,'Divya')\n",
    "tuple1*5"
   ]
  },
  {
   "cell_type": "code",
   "execution_count": 76,
   "id": "42269150",
   "metadata": {},
   "outputs": [
    {
     "data": {
      "text/plain": [
       "(25, 'januaury', 'aakash', 'meet', 'divya')"
      ]
     },
     "execution_count": 76,
     "metadata": {},
     "output_type": "execute_result"
    }
   ],
   "source": [
    "#4.Repeating concatenating\n",
    "a=(25,'januaury','aakash',)\n",
    "b=('meet','divya')\n",
    "a+b"
   ]
  },
  {
   "cell_type": "code",
   "execution_count": 78,
   "id": "25870c16",
   "metadata": {},
   "outputs": [
    {
     "data": {
      "text/plain": [
       "(25, 'januaury', 'aakash', 25, 'januaury', 'aakash', 'meet', 'divya')"
      ]
     },
     "execution_count": 78,
     "metadata": {},
     "output_type": "execute_result"
    }
   ],
   "source": [
    "a*2+b"
   ]
  },
  {
   "cell_type": "markdown",
   "id": "b1488aec",
   "metadata": {},
   "source": [
    "# Tuple functions"
   ]
  },
  {
   "cell_type": "code",
   "execution_count": 79,
   "id": "889961c7",
   "metadata": {},
   "outputs": [
    {
     "data": {
      "text/plain": [
       "1"
      ]
     },
     "execution_count": 79,
     "metadata": {},
     "output_type": "execute_result"
    }
   ],
   "source": [
    "#minimum value\n",
    "tup1=(1,2,3,4)\n",
    "min(tup1)"
   ]
  },
  {
   "cell_type": "code",
   "execution_count": 1,
   "id": "14fd8321",
   "metadata": {},
   "outputs": [
    {
     "data": {
      "text/plain": [
       "100"
      ]
     },
     "execution_count": 1,
     "metadata": {},
     "output_type": "execute_result"
    }
   ],
   "source": [
    "#maximum value\n",
    "a=(5,100,91)\n",
    "max(a)\n"
   ]
  },
  {
   "cell_type": "code",
   "execution_count": 34,
   "id": "ad4006a5",
   "metadata": {},
   "outputs": [
    {
     "name": "stdout",
     "output_type": "stream",
     "text": [
      "2\n"
     ]
    }
   ],
   "source": [
    "#count\n",
    "a=(1,2,3,4,5,5)\n",
    "b=a.count(5)\n",
    "print(b)"
   ]
  },
  {
   "cell_type": "code",
   "execution_count": 37,
   "id": "4ad706d7",
   "metadata": {},
   "outputs": [
    {
     "name": "stdout",
     "output_type": "stream",
     "text": [
      "3\n"
     ]
    }
   ],
   "source": [
    "#tuple index method\n",
    "a=(1,2,3,4,4,6,6,8,9)\n",
    "b=a.index(4)\n",
    "print(b)"
   ]
  },
  {
   "cell_type": "markdown",
   "id": "c772663d",
   "metadata": {},
   "source": [
    "# List in python"
   ]
  },
  {
   "cell_type": "code",
   "execution_count": null,
   "id": "dbbcf7d6",
   "metadata": {},
   "outputs": [],
   "source": [
    "Method      Description\n",
    "append()=   Adds an element at the end of the list\n",
    "clear() =   Removes all the elements from the list\n",
    "copy()   =  Returns a copy of the list\n",
    "count()  =  Returns the number of elements with the specified value\n",
    "extend() =  Add the elements of a list (or any iterable), to the end of the current list\n",
    "index()  =  Returns the index of the first element with the specified value\n",
    "insert() =  Adds an element at the specified position\n",
    "pop()    =  Removes the element at the specified position\n",
    "remove() =   Removes the item with the specified value\n",
    "reverse() =  Reverses the order of the list\n",
    "sort()    =  Sorts the list"
   ]
  },
  {
   "cell_type": "code",
   "execution_count": 3,
   "id": "b9cd3b9a",
   "metadata": {},
   "outputs": [
    {
     "data": {
      "text/plain": [
       "[1, 'a', 3.14, 1]"
      ]
     },
     "execution_count": 3,
     "metadata": {},
     "output_type": "execute_result"
    }
   ],
   "source": [
    "l1=[1,'a',3.14,1]\n",
    "l1"
   ]
  },
  {
   "cell_type": "code",
   "execution_count": 4,
   "id": "c0ca7e85",
   "metadata": {},
   "outputs": [
    {
     "data": {
      "text/plain": [
       "list"
      ]
     },
     "execution_count": 4,
     "metadata": {},
     "output_type": "execute_result"
    }
   ],
   "source": [
    "type(l1)"
   ]
  },
  {
   "cell_type": "code",
   "execution_count": null,
   "id": "b9853a77",
   "metadata": {},
   "outputs": [],
   "source": [
    "# extracting individual elements in list"
   ]
  },
  {
   "cell_type": "code",
   "execution_count": 6,
   "id": "a203989b",
   "metadata": {},
   "outputs": [
    {
     "name": "stdout",
     "output_type": "stream",
     "text": [
      "2\n"
     ]
    }
   ],
   "source": [
    "a=[1,2,3,4,5]\n",
    "print(a[1])"
   ]
  },
  {
   "cell_type": "code",
   "execution_count": 7,
   "id": "3937ba7b",
   "metadata": {},
   "outputs": [
    {
     "name": "stdout",
     "output_type": "stream",
     "text": [
      "['#', '$', '%']\n"
     ]
    }
   ],
   "source": [
    "a=['@','#','$','%']\n",
    "print(a[1:4])"
   ]
  },
  {
   "cell_type": "code",
   "execution_count": 8,
   "id": "a361d05e",
   "metadata": {},
   "outputs": [
    {
     "name": "stdout",
     "output_type": "stream",
     "text": [
      "3\n"
     ]
    }
   ],
   "source": [
    "#modifying in list\n",
    "#1.>changing the element at nth index\n",
    "a=[1,2,3,4,5]\n",
    "print(a[2])\n"
   ]
  },
  {
   "cell_type": "code",
   "execution_count": 15,
   "id": "d0f66144",
   "metadata": {},
   "outputs": [],
   "source": [
    "#2.appending the new element\n",
    "a=[1,2,'s','divya',0]\n",
    "a.append(10)\n"
   ]
  },
  {
   "cell_type": "code",
   "execution_count": 18,
   "id": "30441cac",
   "metadata": {},
   "outputs": [
    {
     "data": {
      "text/plain": [
       "6"
      ]
     },
     "execution_count": 18,
     "metadata": {},
     "output_type": "execute_result"
    }
   ],
   "source": [
    "#3.Poping last element\n",
    "a=[1,2,3,4,5,6]\n",
    "a.pop()"
   ]
  },
  {
   "cell_type": "code",
   "execution_count": 26,
   "id": "8e63c6ff",
   "metadata": {},
   "outputs": [
    {
     "data": {
      "text/plain": [
       "[1, 2, 3, 4, 5]"
      ]
     },
     "execution_count": 26,
     "metadata": {},
     "output_type": "execute_result"
    }
   ],
   "source": [
    "a=[1,2,3,4,5,6]\n",
    "a.pop()\n",
    "a"
   ]
  },
  {
   "cell_type": "code",
   "execution_count": 2,
   "id": "5ada2b5a",
   "metadata": {},
   "outputs": [
    {
     "name": "stdout",
     "output_type": "stream",
     "text": [
      "Alison heck\n"
     ]
    }
   ],
   "source": [
    "a=\"alison heck\"\n",
    "print(a.capitalize())\n"
   ]
  },
  {
   "cell_type": "code",
   "execution_count": 14,
   "id": "31fdca9e",
   "metadata": {},
   "outputs": [
    {
     "ename": "SyntaxError",
     "evalue": "cannot assign to function call here. Maybe you meant '==' instead of '='? (3964562412.py, line 4)",
     "output_type": "error",
     "traceback": [
      "\u001b[1;36m  Cell \u001b[1;32mIn[14], line 4\u001b[1;36m\u001b[0m\n\u001b[1;33m    b(i)=b(i).capitalize()\u001b[0m\n\u001b[1;37m    ^\u001b[0m\n\u001b[1;31mSyntaxError\u001b[0m\u001b[1;31m:\u001b[0m cannot assign to function call here. Maybe you meant '==' instead of '='?\n"
     ]
    }
   ],
   "source": [
    "a=\"aliso heck\"\n",
    "b=a.split()\n",
    "for i in range(len(b)):\n",
    "    b[i]=b[i].capitalize()\n",
    "    print()\n",
    "    "
   ]
  },
  {
   "cell_type": "code",
   "execution_count": null,
   "id": "06a3c80d",
   "metadata": {},
   "outputs": [],
   "source": [
    "a=\"alison heck\"\n"
   ]
  },
  {
   "cell_type": "code",
   "execution_count": 25,
   "id": "8c44cd27",
   "metadata": {},
   "outputs": [
    {
     "data": {
      "text/plain": [
       "[5, 4, 3, 2, 1]"
      ]
     },
     "execution_count": 25,
     "metadata": {},
     "output_type": "execute_result"
    }
   ],
   "source": [
    "#reversing element of list\n",
    "a=[1,2,3,4,5]\n",
    "a.reverse()\n",
    "a\n"
   ]
  },
  {
   "cell_type": "code",
   "execution_count": 28,
   "id": "fe8e8f95",
   "metadata": {},
   "outputs": [
    {
     "data": {
      "text/plain": [
       "[1, 'divya', 2, 3, 4, 5]"
      ]
     },
     "execution_count": 28,
     "metadata": {},
     "output_type": "execute_result"
    }
   ],
   "source": [
    "#inserting the element at specified index\n",
    "a=[1,2,3,4,5]\n",
    "a.insert(1,'divya')\n",
    "a"
   ]
  },
  {
   "cell_type": "code",
   "execution_count": 29,
   "id": "a02f3280",
   "metadata": {},
   "outputs": [
    {
     "data": {
      "text/plain": [
       "[-100, -1, 0, 1, 3.14]"
      ]
     },
     "execution_count": 29,
     "metadata": {},
     "output_type": "execute_result"
    }
   ],
   "source": [
    "#sorting in list\n",
    "a=[1,0,-1,-100,3.14]\n",
    "a.sort()\n",
    "a"
   ]
  },
  {
   "cell_type": "code",
   "execution_count": 30,
   "id": "c47a14e2",
   "metadata": {},
   "outputs": [
    {
     "name": "stdout",
     "output_type": "stream",
     "text": [
      "['pineapple', 'orange', 'mango', 'kiwi', 'banana']\n"
     ]
    }
   ],
   "source": [
    "thislist = [\"orange\", \"mango\", \"kiwi\", \"pineapple\", \"banana\"]\n",
    "\n",
    "thislist.sort(reverse = True)\n",
    "\n",
    "print(thislist)"
   ]
  },
  {
   "cell_type": "code",
   "execution_count": 3,
   "id": "ce13d495",
   "metadata": {},
   "outputs": [
    {
     "name": "stdout",
     "output_type": "stream",
     "text": [
      "None\n"
     ]
    }
   ],
   "source": [
    "#clear function\n",
    "a=[1,2,3,4,5]\n",
    "x=a.clear()\n",
    "print(x)"
   ]
  },
  {
   "cell_type": "code",
   "execution_count": 5,
   "id": "7456c1f8",
   "metadata": {},
   "outputs": [
    {
     "data": {
      "text/plain": [
       "[1, '2', 3, '4', 5]"
      ]
     },
     "execution_count": 5,
     "metadata": {},
     "output_type": "execute_result"
    }
   ],
   "source": [
    "#copy function\n",
    "a=[1,\"2\",3,\"4\",5]\n",
    "a.copy()"
   ]
  },
  {
   "cell_type": "code",
   "execution_count": 7,
   "id": "1a12e31a",
   "metadata": {},
   "outputs": [
    {
     "data": {
      "text/plain": [
       "5"
      ]
     },
     "execution_count": 7,
     "metadata": {},
     "output_type": "execute_result"
    }
   ],
   "source": [
    "#count function\n",
    "a=[1,1,1,1,1,2,3,0]\n",
    "a.count(1)"
   ]
  },
  {
   "cell_type": "code",
   "execution_count": 24,
   "id": "6d3d3316",
   "metadata": {},
   "outputs": [
    {
     "name": "stdout",
     "output_type": "stream",
     "text": [
      "['good', 'bad', 'sarita', 'asha', 1, 2, 3]\n"
     ]
    }
   ],
   "source": [
    "#extend function\n",
    "a=[\"sarita\",\"asha\",1,2,3]\n",
    "b=[\"good\",\"bad\"]\n",
    "b.extend(a)\n",
    "print(b)"
   ]
  },
  {
   "cell_type": "code",
   "execution_count": 27,
   "id": "75a10ec1",
   "metadata": {},
   "outputs": [
    {
     "name": "stdout",
     "output_type": "stream",
     "text": [
      "['a', 'x', 'b']\n"
     ]
    }
   ],
   "source": [
    "#insert function\n",
    "a=[\"a\",'b']\n",
    "a.insert(1,'x')\n",
    "print(a)"
   ]
  },
  {
   "cell_type": "code",
   "execution_count": 30,
   "id": "ef84679c",
   "metadata": {},
   "outputs": [
    {
     "name": "stdout",
     "output_type": "stream",
     "text": [
      "[3, 5, 6, 7, 8]\n"
     ]
    }
   ],
   "source": [
    "#sort function\n",
    "a=[6,7,8,3,5]\n",
    "a.sort()\n",
    "print(a)"
   ]
  },
  {
   "cell_type": "code",
   "execution_count": 31,
   "id": "61747f41",
   "metadata": {},
   "outputs": [
    {
     "name": "stdout",
     "output_type": "stream",
     "text": [
      "3\n"
     ]
    }
   ],
   "source": [
    "thislist=((1,3,4))\n",
    "print(len(thislist))"
   ]
  },
  {
   "cell_type": "code",
   "execution_count": 1,
   "id": "a9ad7291",
   "metadata": {},
   "outputs": [
    {
     "name": "stdout",
     "output_type": "stream",
     "text": [
      "[1, 2, 'divya', 4, 5]\n"
     ]
    }
   ],
   "source": [
    "thislist=[1,2,3,4,5]\n",
    "thislist[2]=\"divya\"\n",
    "print(thislist)"
   ]
  },
  {
   "cell_type": "code",
   "execution_count": 2,
   "id": "e7b33e91",
   "metadata": {},
   "outputs": [
    {
     "name": "stdout",
     "output_type": "stream",
     "text": [
      "['a', 'x', 'z', 'd']\n"
     ]
    }
   ],
   "source": [
    "a=[\"a\",\"b\",\"c\",\"d\"]\n",
    "a[1:3]=\"x\",\"z\"\n",
    "print(a)"
   ]
  },
  {
   "cell_type": "code",
   "execution_count": 6,
   "id": "a7a27e79",
   "metadata": {},
   "outputs": [
    {
     "name": "stdout",
     "output_type": "stream",
     "text": [
      "[1, 2, 34, 22, 14, 88, 33, 10000, 3]\n"
     ]
    }
   ],
   "source": [
    "#ab ye updated wali value leta jayega kya \n",
    "\n",
    "a=[1,2,34,56,99,1,3]\n",
    "a[-4:-1]=22,14,88,33,10000\n",
    "print(a)"
   ]
  },
  {
   "cell_type": "code",
   "execution_count": 13,
   "id": "bc71ba3f",
   "metadata": {},
   "outputs": [
    {
     "name": "stdout",
     "output_type": "stream",
     "text": [
      "apple\n",
      "banana\n",
      "kiwi\n",
      "hehehe\n"
     ]
    }
   ],
   "source": [
    "b=[\"apple\",\"banana\",\"kiwi\",\"hehehe\"]\n",
    "for a in b:\n",
    "    print(a)\n",
    "\n",
    "       "
   ]
  },
  {
   "cell_type": "code",
   "execution_count": 18,
   "id": "99bbf7f2",
   "metadata": {},
   "outputs": [
    {
     "name": "stdout",
     "output_type": "stream",
     "text": [
      "b\n",
      "c\n",
      "d\n",
      "e\n"
     ]
    }
   ],
   "source": [
    "a=[\"b\",\"c\",\"d\",\"e\"]\n",
    "for b in range (len(a)):\n",
    "    print(a[b])"
   ]
  },
  {
   "cell_type": "code",
   "execution_count": 19,
   "id": "9a553351",
   "metadata": {},
   "outputs": [
    {
     "name": "stdout",
     "output_type": "stream",
     "text": [
      "2\n",
      "3\n",
      "4\n",
      "5\n"
     ]
    }
   ],
   "source": [
    "a=[1,2,3,4,5]\n",
    "i=1\n",
    "while i<len(a):\n",
    "    print(a[i])\n",
    "    i=i+1"
   ]
  },
  {
   "cell_type": "code",
   "execution_count": 22,
   "id": "3918da9e",
   "metadata": {},
   "outputs": [
    {
     "name": "stdout",
     "output_type": "stream",
     "text": [
      "1\n",
      "2\n",
      "3\n",
      "4\n",
      "5\n"
     ]
    },
    {
     "data": {
      "text/plain": [
       "[None, None, None, None, None]"
      ]
     },
     "execution_count": 22,
     "metadata": {},
     "output_type": "execute_result"
    }
   ],
   "source": [
    "a=[1,2,3,4,5]\n",
    "[print(x) for x in a]"
   ]
  },
  {
   "cell_type": "code",
   "execution_count": 36,
   "id": "488599dc",
   "metadata": {},
   "outputs": [
    {
     "name": "stdout",
     "output_type": "stream",
     "text": [
      "['DKKKKIKSHA', 'divya', 'vani', 'aakash']\n"
     ]
    }
   ],
   "source": [
    "#list comprehension\n",
    "name=[\"divya\",\"vani\",\"aakash\"]\n",
    "newline=[i.upper()]\n",
    "for i in name:\n",
    "    if \"a\" in i:\n",
    "        newline.append(i)\n",
    "\n",
    "print(newline)     "
   ]
  },
  {
   "cell_type": "code",
   "execution_count": 24,
   "id": "492f30f8",
   "metadata": {},
   "outputs": [
    {
     "name": "stdout",
     "output_type": "stream",
     "text": [
      "['garpes', 'mango']\n"
     ]
    }
   ],
   "source": [
    "name=[\"garpes\",\"mango\",\"kiwi\"]\n",
    "newlist=[i for i in name if \"a\" in i]\n",
    "print(newlist)"
   ]
  },
  {
   "cell_type": "code",
   "execution_count": 25,
   "id": "f818e848",
   "metadata": {},
   "outputs": [
    {
     "name": "stdout",
     "output_type": "stream",
     "text": [
      "['DIVYA', 'ASHA', 'DIKSHA', 'CHARU']\n"
     ]
    }
   ],
   "source": [
    "name=['divya',\"asha\",\"diksha\",\"charu\"]\n",
    "newlist=[i.upper() for i in name]\n",
    "print(newlist)"
   ]
  },
  {
   "cell_type": "code",
   "execution_count": 29,
   "id": "6385f1d1",
   "metadata": {},
   "outputs": [
    {
     "name": "stdout",
     "output_type": "stream",
     "text": [
      "['KIWI']\n"
     ]
    }
   ],
   "source": [
    "friuts=[\"apple\",\"mango\",\"bananana\",\"kiwi\"]\n",
    "newlist=[i.upper() for i in friuts if \"w\" in i ]\n",
    "print(newlist)\n"
   ]
  },
  {
   "cell_type": "code",
   "execution_count": 12,
   "id": "6306fdf4",
   "metadata": {},
   "outputs": [
    {
     "name": "stdout",
     "output_type": "stream",
     "text": [
      "[1, 2, 3, 4, 5, 6, 7, 8, 9, 10]\n"
     ]
    }
   ],
   "source": [
    "a=[]\n",
    "for i in range(1,11):\n",
    "    a.append(i)\n",
    "print(a)    "
   ]
  },
  {
   "cell_type": "code",
   "execution_count": 18,
   "id": "44fb6461",
   "metadata": {},
   "outputs": [
    {
     "name": "stdout",
     "output_type": "stream",
     "text": [
      "[2, 4, 6, 8, 10]\n"
     ]
    }
   ],
   "source": [
    "\n",
    "newlist=[]\n",
    "for i in range(1,11):\n",
    "    if i%2==0:\n",
    "        newlist.append(i)   \n",
    "print(newlist)        "
   ]
  },
  {
   "cell_type": "code",
   "execution_count": 19,
   "id": "1acb76bc",
   "metadata": {},
   "outputs": [
    {
     "name": "stdout",
     "output_type": "stream",
     "text": [
      "[4, 8, 12, 16, 20, 24, 28, 32, 36, 40, 44, 48, 52, 56, 60, 64, 68, 72, 76, 80, 84, 88, 92, 96, 100]\n"
     ]
    }
   ],
   "source": [
    "x=[h for h in range(1,101) if h%4==0]\n",
    "print(x)"
   ]
  },
  {
   "cell_type": "code",
   "execution_count": 20,
   "id": "6450fe51",
   "metadata": {},
   "outputs": [
    {
     "name": "stdout",
     "output_type": "stream",
     "text": [
      "[0, 1, 2, 3, 4, 5, 6, 7, 8, 9]\n"
     ]
    }
   ],
   "source": [
    "x=[i for i in range(10)]\n",
    "print(x)"
   ]
  },
  {
   "cell_type": "code",
   "execution_count": 23,
   "id": "d869734b",
   "metadata": {},
   "outputs": [
    {
     "name": "stdout",
     "output_type": "stream",
     "text": [
      "[0, 10, 20, 30, 40, 50, 60, 70, 80, 90]\n"
     ]
    }
   ],
   "source": [
    "x=[i for i in range (-1,100) if i%10==0]\n",
    "print(x)"
   ]
  },
  {
   "cell_type": "code",
   "execution_count": null,
   "id": "346c7fc3",
   "metadata": {},
   "outputs": [],
   "source": [
    "friuts="
   ]
  },
  {
   "cell_type": "code",
   "execution_count": 11,
   "id": "2e0b0569",
   "metadata": {},
   "outputs": [],
   "source": [
    "#list basic opreators"
   ]
  },
  {
   "cell_type": "code",
   "execution_count": 30,
   "id": "d5ce0eee",
   "metadata": {},
   "outputs": [
    {
     "data": {
      "text/plain": [
       "[1, 2, 3, 'a', 'b', 'divya']"
      ]
     },
     "execution_count": 30,
     "metadata": {},
     "output_type": "execute_result"
    }
   ],
   "source": [
    "#concatenating list\n",
    "a=[1,2,3]\n",
    "b=['a','b','divya']\n",
    "a+b"
   ]
  },
  {
   "cell_type": "code",
   "execution_count": 32,
   "id": "1261f9a6",
   "metadata": {},
   "outputs": [
    {
     "data": {
      "text/plain": [
       "[1,\n",
       " 2,\n",
       " 3,\n",
       " 5,\n",
       " 1,\n",
       " 2,\n",
       " 3,\n",
       " 5,\n",
       " 1,\n",
       " 2,\n",
       " 3,\n",
       " 5,\n",
       " 1,\n",
       " 2,\n",
       " 3,\n",
       " 5,\n",
       " 1,\n",
       " 2,\n",
       " 3,\n",
       " 5,\n",
       " 1,\n",
       " 2,\n",
       " 3,\n",
       " 5,\n",
       " 1,\n",
       " 2,\n",
       " 3,\n",
       " 5,\n",
       " 1,\n",
       " 2,\n",
       " 3,\n",
       " 5,\n",
       " 1,\n",
       " 2,\n",
       " 3,\n",
       " 5,\n",
       " 1,\n",
       " 2,\n",
       " 3,\n",
       " 5]"
      ]
     },
     "execution_count": 32,
     "metadata": {},
     "output_type": "execute_result"
    }
   ],
   "source": [
    "#repeating elements\n",
    "a=[1,2,3,5]\n",
    "a*10"
   ]
  },
  {
   "cell_type": "markdown",
   "id": "4478b0f0",
   "metadata": {},
   "source": [
    "# Dictionary in python"
   ]
  },
  {
   "cell_type": "code",
   "execution_count": 1,
   "id": "019cc88a",
   "metadata": {},
   "outputs": [
    {
     "data": {
      "text/plain": [
       "{'a': 10, 'b': 20, 'c': 30}"
      ]
     },
     "execution_count": 1,
     "metadata": {},
     "output_type": "execute_result"
    }
   ],
   "source": [
    "dict1={'a':10,'b':20,'c':30}\n",
    "dict1"
   ]
  },
  {
   "cell_type": "code",
   "execution_count": 2,
   "id": "9f8ffb76",
   "metadata": {},
   "outputs": [
    {
     "name": "stdout",
     "output_type": "stream",
     "text": [
      "{'brand': 'ford', 'model': 'Mustang', 'year': 1964}\n"
     ]
    }
   ],
   "source": [
    "thisdict={\n",
    "    \"brand\":\"ford\",\n",
    "    \"model\":\"Mustang\",\n",
    "    \"year\":1964\n",
    "    \n",
    "}\n",
    "print(thisdict)"
   ]
  },
  {
   "cell_type": "code",
   "execution_count": 2,
   "id": "26deca93",
   "metadata": {},
   "outputs": [
    {
     "data": {
      "text/plain": [
       "dict"
      ]
     },
     "execution_count": 2,
     "metadata": {},
     "output_type": "execute_result"
    }
   ],
   "source": [
    "type(dict1)"
   ]
  },
  {
   "cell_type": "code",
   "execution_count": 3,
   "id": "3947dc67",
   "metadata": {},
   "outputs": [
    {
     "name": "stdout",
     "output_type": "stream",
     "text": [
      "{'div': 1, 'divv': 3}\n"
     ]
    }
   ],
   "source": [
    "yourdict={\n",
    "    \"div\": 1,\n",
    "    \"divv\": 2,\n",
    "    \"divv\":3\n",
    "}\n",
    "print(yourdict)#dictionary not gave duplicates in output"
   ]
  },
  {
   "cell_type": "code",
   "execution_count": 6,
   "id": "bd574439",
   "metadata": {},
   "outputs": [
    {
     "name": "stdout",
     "output_type": "stream",
     "text": [
      "2\n"
     ]
    }
   ],
   "source": [
    "yourdict={\n",
    "    \"div\": 1,\n",
    "    \"divv\": 2,\n",
    "    \"divv\":3\n",
    "}\n",
    "print(len(yourdict))"
   ]
  },
  {
   "cell_type": "code",
   "execution_count": 8,
   "id": "67f663aa",
   "metadata": {},
   "outputs": [
    {
     "name": "stdout",
     "output_type": "stream",
     "text": [
      "{'brand': 'ford', 'model': 'Mustang', 'year': 1964, 'color': ['red', 'black', 'white']}\n"
     ]
    }
   ],
   "source": [
    "thisdict={\n",
    "    \"brand\":\"ford\",\n",
    "    \"model\":\"Mustang\",\n",
    "    \"year\": 1964,\n",
    "    \"color\":[\"red\",\"black\",'white']\n",
    "    \n",
    "}\n",
    "print(thisdict)"
   ]
  },
  {
   "cell_type": "code",
   "execution_count": 13,
   "id": "8058ca5f",
   "metadata": {},
   "outputs": [
    {
     "name": "stdout",
     "output_type": "stream",
     "text": [
      "{'brand': 'ford', 'model': 'Mustang', 'year': 1964}\n"
     ]
    }
   ],
   "source": [
    "thisdict=dict(brand =\"ford\" , model= \"Mustang\",year =1964)\n",
    "print(thisdict)"
   ]
  },
  {
   "cell_type": "code",
   "execution_count": 15,
   "id": "2bfb9969",
   "metadata": {},
   "outputs": [
    {
     "name": "stdout",
     "output_type": "stream",
     "text": [
      "good\n"
     ]
    }
   ],
   "source": [
    "#Accessing Items\n",
    "thisdict={\n",
    "    \"apple\":1,\n",
    "    \"color\":\"red\",\n",
    "    \"quality\": \"good\"\n",
    "}\n",
    "print(thisdict[\"quality\"])"
   ]
  },
  {
   "cell_type": "code",
   "execution_count": 23,
   "id": "c0c4eee9",
   "metadata": {},
   "outputs": [
    {
     "name": "stdout",
     "output_type": "stream",
     "text": [
      "dict_keys(['bra', 'company', 'quantity'])\n",
      "dict_values(['black', 'jockey', 100])\n",
      "dict_items([('bra', 'black'), ('company', 'jockey'), ('quantity', 100)])\n"
     ]
    }
   ],
   "source": [
    "thisdict={\n",
    "    \"bra\":\"black\",\n",
    "    \"company\":\"jockey\",\n",
    "    \"quantity\": 100\n",
    "    \n",
    "}\n",
    "x=thisdict.keys()\n",
    "y=thisdict.values()\n",
    "z=thisdict.items()\n",
    "print(x)\n",
    "print(y)\n",
    "print(z)"
   ]
  },
  {
   "cell_type": "code",
   "execution_count": 25,
   "id": "6ed6ae31",
   "metadata": {},
   "outputs": [
    {
     "name": "stdout",
     "output_type": "stream",
     "text": [
      "dict_keys(['bra', 'company', 'quantity'])\n",
      "dict_keys(['bra', 'company', 'quantity', 'quality'])\n",
      "dict_items([('bra', 'black'), ('company', 'jockey'), ('quantity', 100), ('quality', 'fantastic')])\n"
     ]
    }
   ],
   "source": [
    "undergarments={\n",
    "    \"bra\":\"black\",\n",
    "    \"company\":\"jockey\",\n",
    "    \"quantity\": 100\n",
    "    \n",
    "}\n",
    "x=undergarments.keys()\n",
    "print(x)\n",
    "undergarments[\"quality\"]=\"fantastic\"\n",
    "print(x)\n",
    "y=undergarments.items()\n",
    "print(y)"
   ]
  },
  {
   "cell_type": "code",
   "execution_count": 28,
   "id": "fe6c82e8",
   "metadata": {},
   "outputs": [
    {
     "name": "stdout",
     "output_type": "stream",
     "text": [
      "fuck it up\n"
     ]
    }
   ],
   "source": [
    "undergarments={\n",
    "    \"bra\":\"black\",\n",
    "    \"company\":\"jockey\",\n",
    "    \"quantity\": 100\n",
    "    \n",
    "}\n",
    "if \"quality\" in undergarments:\n",
    "    print(\"yes\",\"superb\")\n",
    "else:\n",
    "    print(\"fuck it up\")\n",
    "    "
   ]
  },
  {
   "cell_type": "code",
   "execution_count": 30,
   "id": "93a8fde4",
   "metadata": {},
   "outputs": [
    {
     "name": "stdout",
     "output_type": "stream",
     "text": [
      "{'bra': 'black', 'company': 'jockey', 'quantity': 1}\n"
     ]
    }
   ],
   "source": [
    "undergarments={\n",
    "    \"bra\":\"black\",\n",
    "    \"company\":\"jockey\",\n",
    "    \"quantity\": 100\n",
    "    \n",
    "}\n",
    "undergarments[\"quantity\"]=1\n",
    "print(undergarments)"
   ]
  },
  {
   "cell_type": "code",
   "execution_count": 32,
   "id": "dd672623",
   "metadata": {},
   "outputs": [
    {
     "name": "stdout",
     "output_type": "stream",
     "text": [
      "{'bra': 'black', 'company': 'jockey', 'quantity': 100, 'quality': 'good'}\n"
     ]
    }
   ],
   "source": [
    "undergarments={\n",
    "    \"bra\":\"black\",\n",
    "    \"company\":\"jockey\",\n",
    "    \"quantity\": 100\n",
    "    \n",
    "}\n",
    "undergarments.update({\"quality\": \"good\"})\n",
    "print(undergarments)"
   ]
  },
  {
   "cell_type": "code",
   "execution_count": 33,
   "id": "7293dcb1",
   "metadata": {},
   "outputs": [
    {
     "name": "stdout",
     "output_type": "stream",
     "text": [
      "{'bra': 'black', 'company': 'jockey', 'quantity': 100, 'cloth': 'slik'}\n"
     ]
    }
   ],
   "source": [
    "undergarments={\n",
    "    \"bra\":\"black\",\n",
    "    \"company\":\"jockey\",\n",
    "    \"quantity\": 100\n",
    "    \n",
    "}\n",
    "undergarments['cloth']=\"slik\"\n",
    "print(undergarments)"
   ]
  },
  {
   "cell_type": "code",
   "execution_count": 43,
   "id": "7b5b5d93",
   "metadata": {},
   "outputs": [
    {
     "name": "stdout",
     "output_type": "stream",
     "text": [
      "bra\n",
      "company\n",
      "quantity\n"
     ]
    }
   ],
   "source": [
    "#loop with dictionary\n",
    "#Print all key names in the dictionary, one by on\n",
    "undergarments={\n",
    "    \"bra\":\"black\",\n",
    "    \"company\":\"jockey\",\n",
    "    \"quantity\": 100\n",
    "    \n",
    "}\n",
    "for i in undergarments:\n",
    "    print(i)"
   ]
  },
  {
   "cell_type": "code",
   "execution_count": 45,
   "id": "0c49bc68",
   "metadata": {},
   "outputs": [
    {
     "name": "stdout",
     "output_type": "stream",
     "text": [
      "bra\n",
      "company\n",
      "quantity\n"
     ]
    }
   ],
   "source": [
    "undergarments={\n",
    "    \"bra\":\"black\",\n",
    "    \"company\":\"jockey\",\n",
    "    \"quantity\": 100\n",
    "    \n",
    "}\n",
    "for i in undergarments.keys():\n",
    "    print(i)"
   ]
  },
  {
   "cell_type": "code",
   "execution_count": 44,
   "id": "6b6e0de0",
   "metadata": {},
   "outputs": [
    {
     "name": "stdout",
     "output_type": "stream",
     "text": [
      "black\n",
      "jockey\n",
      "100\n"
     ]
    }
   ],
   "source": [
    "#Print all values in the dictionary, one by one:\n",
    "undergarments={\n",
    "    \"bra\":\"black\",\n",
    "    \"company\":\"jockey\",\n",
    "    \"quantity\": 100\n",
    "    \n",
    "}\n",
    "for i in undergarments:\n",
    "    print(undergarments[i])"
   ]
  },
  {
   "cell_type": "code",
   "execution_count": 46,
   "id": "ba256f76",
   "metadata": {},
   "outputs": [
    {
     "name": "stdout",
     "output_type": "stream",
     "text": [
      "black\n",
      "jockey\n",
      "100\n"
     ]
    }
   ],
   "source": [
    "undergarments={\n",
    "    \"bra\":\"black\",\n",
    "    \"company\":\"jockey\",\n",
    "    \"quantity\": 100\n",
    "    \n",
    "}\n",
    "for i in undergarments.values():\n",
    "    print(i)"
   ]
  },
  {
   "cell_type": "code",
   "execution_count": 48,
   "id": "a67b537a",
   "metadata": {},
   "outputs": [
    {
     "name": "stdout",
     "output_type": "stream",
     "text": [
      "('bra', 'black')\n",
      "('company', 'jockey')\n",
      "('quantity', 100)\n"
     ]
    }
   ],
   "source": [
    "undergarments={\n",
    "    \"bra\":\"black\",\n",
    "    \"company\":\"jockey\",\n",
    "    \"quantity\": 100\n",
    "    \n",
    "}\n",
    "for i in  undergarments.items():\n",
    "    print(i)"
   ]
  },
  {
   "cell_type": "code",
   "execution_count": 49,
   "id": "dfca3ea2",
   "metadata": {},
   "outputs": [
    {
     "name": "stdout",
     "output_type": "stream",
     "text": [
      "bra black\n",
      "company jockey\n",
      "quantity 100\n"
     ]
    }
   ],
   "source": [
    "undergarments={\n",
    "    \"bra\":\"black\",\n",
    "    \"company\":\"jockey\",\n",
    "    \"quantity\": 100\n",
    "    \n",
    "}\n",
    "for i, j in undergarments.items():\n",
    "    print(i,j)"
   ]
  },
  {
   "cell_type": "code",
   "execution_count": 50,
   "id": "3e6b64ba",
   "metadata": {},
   "outputs": [
    {
     "name": "stdout",
     "output_type": "stream",
     "text": [
      "{'a': 1, 'b': 2, 'c': 3}\n"
     ]
    }
   ],
   "source": [
    "#Copy a Dictionary\n",
    "a={\"a\":1,\"b\":2,\"c\":3}\n",
    "b=a.copy()\n",
    "print(b)"
   ]
  },
  {
   "cell_type": "code",
   "execution_count": 51,
   "id": "ef8d7d9d",
   "metadata": {},
   "outputs": [
    {
     "name": "stdout",
     "output_type": "stream",
     "text": [
      "{'a': 1, 'b': 2, 'c': 3}\n"
     ]
    }
   ],
   "source": [
    "a={\"a\":1,\"b\":2,\"c\":3}\n",
    "b=dict(a)\n",
    "print(b)"
   ]
  },
  {
   "cell_type": "code",
   "execution_count": 53,
   "id": "b4e05cd2",
   "metadata": {},
   "outputs": [
    {
     "name": "stdout",
     "output_type": "stream",
     "text": [
      "{'Delhi': {'Male': 40, 'Female': 48}, 'UP': {'Male': 33, 'Female': 50}, 'J&K': {'Male': 67, 'Female': 30}}\n"
     ]
    }
   ],
   "source": [
    "#Nested Dictionaries\n",
    "#Create a dictionary that contain three dictionaries:\n",
    "literacy={\n",
    "    \"Delhi\":{\n",
    "     \"Male\":40,\n",
    "    \"Female\":48   \n",
    "    },\n",
    "    \"UP\":{\n",
    "        \"Male\":33,\n",
    "        \"Female\":50\n",
    "    },\n",
    "    \"J&K\":{\n",
    "        \"Male\":67,\n",
    "        \"Female\":30\n",
    "    }\n",
    "}\n",
    "print(literacy)"
   ]
  },
  {
   "cell_type": "code",
   "execution_count": 55,
   "id": "e8d03d73",
   "metadata": {},
   "outputs": [
    {
     "name": "stdout",
     "output_type": "stream",
     "text": [
      "{'undergarments1': {'bra': 'black', 'company': 'jockey', 'quantity': 100}, 'undergarments2': {'bra': 'White', 'company': 'Teenager', 'quantity': 40}, 'undergarments3': {'bra': 'Red', 'company': 'V', 'quantity': 120}}\n"
     ]
    }
   ],
   "source": [
    "#Create three dictionaries, then create one dictionary that will contain the other three dictionaries:\n",
    "undergarments1={\n",
    "    \"bra\":\"black\",\n",
    "    \"company\":\"jockey\",\n",
    "    \"quantity\": 100\n",
    "    \n",
    "}\n",
    "undergarments2={\n",
    "    \"bra\":\"White\",\n",
    "    \"company\":\"Teenager\",\n",
    "    \"quantity\": 40\n",
    "    \n",
    "}\n",
    "undergarments3={\n",
    "    \"bra\":\"Red\",\n",
    "    \"company\":\"V\",\n",
    "    \"quantity\": 120\n",
    "    \n",
    "}\n",
    "wholesale={\n",
    "    \"undergarments1\": undergarments1,\n",
    "    \"undergarments2\": undergarments2,\n",
    "    \"undergarments3\": undergarments3\n",
    "}\n",
    "print(wholesale)\n",
    "\n",
    "\n",
    "\n",
    "\n",
    "\n",
    "\n",
    "    "
   ]
  },
  {
   "cell_type": "code",
   "execution_count": 11,
   "id": "1e4d7857",
   "metadata": {},
   "outputs": [
    {
     "name": "stdout",
     "output_type": "stream",
     "text": [
      "{'a': None, 'b': None, 'c': None}\n"
     ]
    }
   ],
   "source": [
    "#Dictionary Methods\n",
    "a={\"a\":1,\"b\":3,\"c\":3}\n",
    "thisdict= dict.fromkeys(a)\n",
    "print(thisdict)"
   ]
  },
  {
   "cell_type": "code",
   "execution_count": null,
   "id": "ac4f88b4",
   "metadata": {},
   "outputs": [],
   "source": [
    "clear()           Removes all the elements from the dictionary\n",
    "copy()            Returns a copy of the dictionary\n",
    "fromkeys()        Returns a dictionary with the specified keys and value\n",
    "get()             Returns the value of the specified key\n",
    "items()           Returns a list containing a tuple for each key value pair\n",
    "keys()            Returns a list containing the dictionary's keys\n",
    "pop()             Removes the element with the specified key\n",
    "popitem()         Removes the last inserted key-value pair\n",
    "setdefault()      Returns the value of the specified key. If the key does not exist: insert the key, with the specified value\n",
    "update()          Updates the dictionary with the specified key-value pairs\n",
    "values()          Returns a list of all the values in the dictionary"
   ]
  },
  {
   "cell_type": "code",
   "execution_count": 20,
   "id": "b6b09b04",
   "metadata": {},
   "outputs": [],
   "source": [
    "#extracting keys and values"
   ]
  },
  {
   "cell_type": "code",
   "execution_count": 8,
   "id": "b864358f",
   "metadata": {},
   "outputs": [
    {
     "data": {
      "text/plain": [
       "dict_keys(['a', 'b', 'c'])"
      ]
     },
     "execution_count": 8,
     "metadata": {},
     "output_type": "execute_result"
    }
   ],
   "source": [
    "A={'a':10,'b':20,'c':30}\n",
    "A.keys()"
   ]
  },
  {
   "cell_type": "code",
   "execution_count": 9,
   "id": "81954954",
   "metadata": {},
   "outputs": [
    {
     "data": {
      "text/plain": [
       "dict_values([10, 20, 30])"
      ]
     },
     "execution_count": 9,
     "metadata": {},
     "output_type": "execute_result"
    }
   ],
   "source": [
    "A={'a':10,'b':20,'c':30}\n",
    "A.values()"
   ]
  },
  {
   "cell_type": "code",
   "execution_count": 10,
   "id": "53de4c0b",
   "metadata": {},
   "outputs": [
    {
     "data": {
      "text/plain": [
       "dict_items([('a', 10), ('b', 20), ('c', 30)])"
      ]
     },
     "execution_count": 10,
     "metadata": {},
     "output_type": "execute_result"
    }
   ],
   "source": [
    "A={'a':10,'b':20,'c':30}\n",
    "A.items()"
   ]
  },
  {
   "cell_type": "code",
   "execution_count": 12,
   "id": "6b046af6",
   "metadata": {},
   "outputs": [
    {
     "data": {
      "text/plain": [
       "{'a': 10, 'b': 20, 'c': 30, 'f': 30}"
      ]
     },
     "execution_count": 12,
     "metadata": {},
     "output_type": "execute_result"
    }
   ],
   "source": [
    "#modifying a dictionary\n",
    "#1.> Adding a new element\n",
    "A={'a':10,'b':20,'c':30}\n",
    "A['f']=30\n",
    "A"
   ]
  },
  {
   "cell_type": "code",
   "execution_count": 13,
   "id": "05f84d7c",
   "metadata": {},
   "outputs": [
    {
     "data": {
      "text/plain": [
       "{'a': 10, 'b': 20, 'c': 33}"
      ]
     },
     "execution_count": 13,
     "metadata": {},
     "output_type": "execute_result"
    }
   ],
   "source": [
    "#2.> Changing an existing element\n",
    "A={'a':10,'b':20,'c':30}\n",
    "A['c']=33\n",
    "A"
   ]
  },
  {
   "cell_type": "code",
   "execution_count": 18,
   "id": "2d23066d",
   "metadata": {},
   "outputs": [
    {
     "data": {
      "text/plain": [
       "{'a': 10, 'b': 20, 'c': 30}"
      ]
     },
     "execution_count": 18,
     "metadata": {},
     "output_type": "execute_result"
    }
   ],
   "source": [
    "#3.> update one dictionary elements with another\n",
    "a1={'a':10,'b':20,'c':30}\n",
    "a2={'a':1,'b':2,'c':3}\n",
    "a2.update(a1)\n",
    "a2"
   ]
  },
  {
   "cell_type": "code",
   "execution_count": 20,
   "id": "f36ecaac",
   "metadata": {},
   "outputs": [
    {
     "data": {
      "text/plain": [
       "{'b': 20, 'c': 30}"
      ]
     },
     "execution_count": 20,
     "metadata": {},
     "output_type": "execute_result"
    }
   ],
   "source": [
    "#4.> poping the elements \n",
    "a1={'a':10,'b':20,'c':30}\n",
    "a1.pop('a')\n",
    "a1"
   ]
  },
  {
   "cell_type": "code",
   "execution_count": 34,
   "id": "a72218d5",
   "metadata": {},
   "outputs": [
    {
     "data": {
      "text/plain": [
       "{'bra': 'black', 'company': 'jockey'}"
      ]
     },
     "execution_count": 34,
     "metadata": {},
     "output_type": "execute_result"
    }
   ],
   "source": [
    "#popitem : delete the last inserted item from dictionary\n",
    "undergarments={\n",
    "    \"bra\":\"black\",\n",
    "    \"company\":\"jockey\",\n",
    "    \"quantity\": 100\n",
    "    \n",
    "}\n",
    "undergarments.popitem()\n",
    "undergarments"
   ]
  },
  {
   "cell_type": "code",
   "execution_count": 38,
   "id": "0db7ee67",
   "metadata": {},
   "outputs": [
    {
     "data": {
      "text/plain": [
       "{'bra': 'black', 'company': 'jockey'}"
      ]
     },
     "execution_count": 38,
     "metadata": {},
     "output_type": "execute_result"
    }
   ],
   "source": [
    "#del\n",
    "undergarments={\n",
    "    \"bra\":\"black\",\n",
    "    \"company\":\"jockey\",\n",
    "    \"quantity\": 100\n",
    "    \n",
    "}\n",
    "del undergarments[\"quantity\"]\n",
    "undergarments"
   ]
  },
  {
   "cell_type": "code",
   "execution_count": 41,
   "id": "b8db95ac",
   "metadata": {},
   "outputs": [
    {
     "ename": "NameError",
     "evalue": "name 'undergarments' is not defined",
     "output_type": "error",
     "traceback": [
      "\u001b[1;31m---------------------------------------------------------------------------\u001b[0m",
      "\u001b[1;31mNameError\u001b[0m                                 Traceback (most recent call last)",
      "Cell \u001b[1;32mIn[41], line 8\u001b[0m\n\u001b[0;32m      1\u001b[0m undergarments\u001b[38;5;241m=\u001b[39m{\n\u001b[0;32m      2\u001b[0m     \u001b[38;5;124m\"\u001b[39m\u001b[38;5;124mbra\u001b[39m\u001b[38;5;124m\"\u001b[39m:\u001b[38;5;124m\"\u001b[39m\u001b[38;5;124mblack\u001b[39m\u001b[38;5;124m\"\u001b[39m,\n\u001b[0;32m      3\u001b[0m     \u001b[38;5;124m\"\u001b[39m\u001b[38;5;124mcompany\u001b[39m\u001b[38;5;124m\"\u001b[39m:\u001b[38;5;124m\"\u001b[39m\u001b[38;5;124mjockey\u001b[39m\u001b[38;5;124m\"\u001b[39m,\n\u001b[0;32m      4\u001b[0m     \u001b[38;5;124m\"\u001b[39m\u001b[38;5;124mquantity\u001b[39m\u001b[38;5;124m\"\u001b[39m: \u001b[38;5;241m100\u001b[39m\n\u001b[0;32m      5\u001b[0m     \n\u001b[0;32m      6\u001b[0m }\n\u001b[0;32m      7\u001b[0m \u001b[38;5;28;01mdel\u001b[39;00m undergarments\n\u001b[1;32m----> 8\u001b[0m \u001b[38;5;28mprint\u001b[39m(undergarments)\n",
      "\u001b[1;31mNameError\u001b[0m: name 'undergarments' is not defined"
     ]
    }
   ],
   "source": [
    "undergarments={\n",
    "    \"bra\":\"black\",\n",
    "    \"company\":\"jockey\",\n",
    "    \"quantity\": 100\n",
    "    \n",
    "}\n",
    "del undergarments\n",
    "print(undergarments)"
   ]
  },
  {
   "cell_type": "code",
   "execution_count": 42,
   "id": "a1582335",
   "metadata": {},
   "outputs": [
    {
     "name": "stdout",
     "output_type": "stream",
     "text": [
      "{}\n"
     ]
    }
   ],
   "source": [
    "undergarments={\n",
    "    \"bra\":\"black\",\n",
    "    \"company\":\"jockey\",\n",
    "    \"quantity\": 100\n",
    "    \n",
    "}\n",
    "undergarments.clear()\n",
    "print(undergarments)"
   ]
  },
  {
   "cell_type": "code",
   "execution_count": 12,
   "id": "3ca354c0",
   "metadata": {},
   "outputs": [
    {
     "name": "stdout",
     "output_type": "stream",
     "text": [
      "white\n"
     ]
    }
   ],
   "source": [
    "car = {\n",
    "  \"brand\": \"Ford\",\n",
    "  \"model\": \"Mustang\",\n",
    "  \"year\": 1964\n",
    "}\n",
    "\n",
    "x = car.setdefault(\"color\", \"white\")\n",
    "\n",
    "print(x)"
   ]
  },
  {
   "cell_type": "code",
   "execution_count": 14,
   "id": "0c74f8db",
   "metadata": {},
   "outputs": [
    {
     "name": "stdout",
     "output_type": "stream",
     "text": [
      "Red\n"
     ]
    }
   ],
   "source": [
    "undergarments={\n",
    "    \"bra\":\"black\",\n",
    "    \"company\":\"jockey\",\n",
    "    \"quantity\": 100\n",
    "    \n",
    "}\n",
    "x=undergarments.setdefault(\"color\", \"Red\")\n",
    "print(x)"
   ]
  },
  {
   "cell_type": "markdown",
   "id": "ad8aac3e",
   "metadata": {},
   "source": [
    "# SETS"
   ]
  },
  {
   "cell_type": "code",
   "execution_count": 40,
   "id": "a2ee8ebf",
   "metadata": {},
   "outputs": [
    {
     "name": "stdout",
     "output_type": "stream",
     "text": [
      "{'b', 'i', 'k', 'o'}\n"
     ]
    }
   ],
   "source": [
    "#A set is a collection which is unordered, unchangeable*, and unindexed. set are in culry braceses{}\n",
    "my_first_set={\"i\",\"o\",\"k\",\"b\"}\n",
    "print(my_first_set)"
   ]
  },
  {
   "cell_type": "code",
   "execution_count": 41,
   "id": "29508625",
   "metadata": {},
   "outputs": [
    {
     "name": "stdout",
     "output_type": "stream",
     "text": [
      "{'apple', True, 2, 'banana', 'cherry'}\n"
     ]
    }
   ],
   "source": [
    "#True and 1 is considered the same value:and no duplicates allowed in sets\n",
    "\n",
    "thisset = {\"apple\", \"banana\", \"cherry\", True, 1, 2}\n",
    "\n",
    "print(thisset)"
   ]
  },
  {
   "cell_type": "code",
   "execution_count": 42,
   "id": "62edf95c",
   "metadata": {},
   "outputs": [
    {
     "name": "stdout",
     "output_type": "stream",
     "text": [
      "{False}\n"
     ]
    }
   ],
   "source": [
    "#false and 0 is considered the same value:and no duplicates allowed in sets\n",
    "\n",
    "oopz={False,False,False,0}\n",
    "print(oopz)"
   ]
  },
  {
   "cell_type": "code",
   "execution_count": 45,
   "id": "567c1bab",
   "metadata": {},
   "outputs": [
    {
     "name": "stdout",
     "output_type": "stream",
     "text": [
      "5\n",
      "<class 'set'>\n"
     ]
    }
   ],
   "source": [
    "my_set={1,2,3,4,5}\n",
    "print(len(my_set))\n",
    "print(type(my_set))"
   ]
  },
  {
   "cell_type": "code",
   "execution_count": 44,
   "id": "091d95aa",
   "metadata": {},
   "outputs": [
    {
     "name": "stdout",
     "output_type": "stream",
     "text": [
      "{1, 3, 'set', '2', 'string'}\n"
     ]
    }
   ],
   "source": [
    "different_variable_contain={1,\"2\",\"string\",3,\"set\",True}\n",
    "print(different_variable_contain)"
   ]
  },
  {
   "cell_type": "code",
   "execution_count": 46,
   "id": "49dfcb1c",
   "metadata": {},
   "outputs": [
    {
     "name": "stdout",
     "output_type": "stream",
     "text": [
      "<class 'set'>\n"
     ]
    }
   ],
   "source": [
    "#The set() Constructor\n",
    "#It is also possible to use the set() constructor to make a set.\n",
    "my_set=set((1,2,3,4,5))\n",
    "print(type(my_set))#note the double round-brackets"
   ]
  },
  {
   "cell_type": "code",
   "execution_count": 47,
   "id": "5c7477a1",
   "metadata": {},
   "outputs": [
    {
     "name": "stdout",
     "output_type": "stream",
     "text": [
      "1\n",
      "2\n",
      "34\n",
      "5\n",
      "6\n"
     ]
    }
   ],
   "source": [
    "#we can not accces the data but we can use for loop to access the set data use in keyword.\n",
    "a={1,2,34,5,6,6}\n",
    "for i in a:\n",
    "    print(i)"
   ]
  },
  {
   "cell_type": "code",
   "execution_count": 48,
   "id": "9d2e3f5a",
   "metadata": {},
   "outputs": [
    {
     "name": "stdout",
     "output_type": "stream",
     "text": [
      "{1, 2, 3, 4, 5, 6, 7, 8, 'orange'}\n"
     ]
    }
   ],
   "source": [
    "#add data\n",
    "a={1,2,3,4,5,6,7,8}\n",
    "a.add(\"orange\")\n",
    "print(a)"
   ]
  },
  {
   "cell_type": "code",
   "execution_count": 50,
   "id": "7eb7358d",
   "metadata": {},
   "outputs": [
    {
     "name": "stdout",
     "output_type": "stream",
     "text": [
      "{1, 2, 4}\n"
     ]
    }
   ],
   "source": [
    "#remove  data\n",
    "a={1,2,4,5}\n",
    "a.remove(5)\n",
    "print(a)"
   ]
  },
  {
   "cell_type": "code",
   "execution_count": 51,
   "id": "5e7d0035",
   "metadata": {},
   "outputs": [
    {
     "name": "stdout",
     "output_type": "stream",
     "text": [
      "{1, 2, 3, 4, 5, 6, 40, 10, 20, 30}\n"
     ]
    }
   ],
   "source": [
    "#Add Sets\n",
    "#To add items from another set into the current set, use the update() method.\n",
    "A={1,2,3,4,5,6}\n",
    "B={10,20,30,40}\n",
    "A.update(B)\n",
    "print(A)"
   ]
  },
  {
   "cell_type": "code",
   "execution_count": 52,
   "id": "4ca218fc",
   "metadata": {},
   "outputs": [
    {
     "name": "stdout",
     "output_type": "stream",
     "text": [
      "{1, 2, 3, 4, 5, 10, 20, 30, 40, 50}\n"
     ]
    }
   ],
   "source": [
    "#Add Any Iterable\n",
    "#The object in the update() method does not have to be a set, it can be any iterable object (tuples, lists, dictionaries etc.).\n",
    "a={1,2,3,4,5}\n",
    "b=[10,20,30,40,50]\n",
    "a.update(b)\n",
    "print(a)\n"
   ]
  },
  {
   "cell_type": "code",
   "execution_count": 59,
   "id": "d3863d25",
   "metadata": {},
   "outputs": [
    {
     "name": "stdout",
     "output_type": "stream",
     "text": [
      "{1, 2, 5, 40, 10, 50}\n"
     ]
    }
   ],
   "source": [
    "a={1,2,2,2,5}\n",
    "b=[10,2,2,40,50]\n",
    "a.update(b)\n",
    "print(a)"
   ]
  },
  {
   "cell_type": "code",
   "execution_count": 61,
   "id": "8e44eb14",
   "metadata": {},
   "outputs": [
    {
     "name": "stdout",
     "output_type": "stream",
     "text": [
      "{1, 2, 3, 5}\n"
     ]
    }
   ],
   "source": [
    "#REMOVE ITEM IN SETS\n",
    "a={1,2,3,4,5}\n",
    "a.remove(4)\n",
    "print(a)"
   ]
  },
  {
   "cell_type": "code",
   "execution_count": 62,
   "id": "2380d67b",
   "metadata": {},
   "outputs": [
    {
     "ename": "KeyError",
     "evalue": "6",
     "output_type": "error",
     "traceback": [
      "\u001b[1;31m---------------------------------------------------------------------------\u001b[0m",
      "\u001b[1;31mKeyError\u001b[0m                                  Traceback (most recent call last)",
      "Cell \u001b[1;32mIn[62], line 3\u001b[0m\n\u001b[0;32m      1\u001b[0m \u001b[38;5;66;03m#If the item to remove does not exist, remove() will raise an error.\u001b[39;00m\n\u001b[0;32m      2\u001b[0m a\u001b[38;5;241m=\u001b[39ma\u001b[38;5;241m=\u001b[39m{\u001b[38;5;241m1\u001b[39m,\u001b[38;5;241m2\u001b[39m,\u001b[38;5;241m3\u001b[39m,\u001b[38;5;241m4\u001b[39m,\u001b[38;5;241m5\u001b[39m}\n\u001b[1;32m----> 3\u001b[0m a\u001b[38;5;241m.\u001b[39mremove(\u001b[38;5;241m6\u001b[39m)\n\u001b[0;32m      4\u001b[0m \u001b[38;5;28mprint\u001b[39m(a)\n",
      "\u001b[1;31mKeyError\u001b[0m: 6"
     ]
    }
   ],
   "source": [
    "#If the item to remove does not exist, remove() will raise an error.\n",
    "a=a={1,2,3,4,5}\n",
    "a.remove(6)\n",
    "print(a)"
   ]
  },
  {
   "cell_type": "code",
   "execution_count": 64,
   "id": "620fe94a",
   "metadata": {},
   "outputs": [
    {
     "name": "stdout",
     "output_type": "stream",
     "text": [
      "{1, 2, 3, 5}\n"
     ]
    }
   ],
   "source": [
    "#Discard method>>If the item to remove does not exist, discard()will not raise an error.\n",
    "a=a={1,2,3,4,5}\n",
    "a.discard(4)\n",
    "print(a)"
   ]
  },
  {
   "cell_type": "code",
   "execution_count": 65,
   "id": "c7a901da",
   "metadata": {},
   "outputs": [
    {
     "name": "stdout",
     "output_type": "stream",
     "text": [
      "{2, 12, 21}\n"
     ]
    }
   ],
   "source": [
    "#pop method()>>..You can also use the pop() method to remove an item, but this method will remove a random item, so you cannot be sure what item that gets removed.\n",
    "\n",
    "\n",
    "a={12,12,12,1,21,2}\n",
    "a.pop()\n",
    "print(a)"
   ]
  },
  {
   "cell_type": "code",
   "execution_count": 66,
   "id": "b608424b",
   "metadata": {},
   "outputs": [
    {
     "ename": "NameError",
     "evalue": "name 'thisset' is not defined",
     "output_type": "error",
     "traceback": [
      "\u001b[1;31m---------------------------------------------------------------------------\u001b[0m",
      "\u001b[1;31mNameError\u001b[0m                                 Traceback (most recent call last)",
      "Cell \u001b[1;32mIn[66], line 7\u001b[0m\n\u001b[0;32m      3\u001b[0m thisset \u001b[38;5;241m=\u001b[39m {\u001b[38;5;124m\"\u001b[39m\u001b[38;5;124mapple\u001b[39m\u001b[38;5;124m\"\u001b[39m, \u001b[38;5;124m\"\u001b[39m\u001b[38;5;124mbanana\u001b[39m\u001b[38;5;124m\"\u001b[39m, \u001b[38;5;124m\"\u001b[39m\u001b[38;5;124mcherry\u001b[39m\u001b[38;5;124m\"\u001b[39m}\n\u001b[0;32m      5\u001b[0m \u001b[38;5;28;01mdel\u001b[39;00m thisset\n\u001b[1;32m----> 7\u001b[0m \u001b[38;5;28mprint\u001b[39m(thisset)\n",
      "\u001b[1;31mNameError\u001b[0m: name 'thisset' is not defined"
     ]
    }
   ],
   "source": [
    "#The del keyword will delete the set completely:\n",
    "\n",
    "thisset = {\"apple\", \"banana\", \"cherry\"}\n",
    "\n",
    "del thisset\n",
    "\n",
    "print(thisset)"
   ]
  },
  {
   "cell_type": "code",
   "execution_count": 68,
   "id": "bebbc01e",
   "metadata": {},
   "outputs": [
    {
     "name": "stdout",
     "output_type": "stream",
     "text": [
      "set()\n"
     ]
    }
   ],
   "source": [
    "#clear method\n",
    "a={1,2,3,4,5,6}\n",
    "a.clear()\n",
    "print(a)"
   ]
  },
  {
   "cell_type": "code",
   "execution_count": 73,
   "id": "ec6c155c",
   "metadata": {},
   "outputs": [
    {
     "name": "stdout",
     "output_type": "stream",
     "text": [
      "x\n",
      "o\n"
     ]
    }
   ],
   "source": [
    "#loop statement of sets\n",
    "a={\"x\",\"o\",\"x\",\"o\"}\n",
    "for i in a:\n",
    "    print(i)"
   ]
  },
  {
   "cell_type": "code",
   "execution_count": 82,
   "id": "84c0dfa1",
   "metadata": {},
   "outputs": [
    {
     "name": "stdout",
     "output_type": "stream",
     "text": [
      "{1, 2, 3, 4, 5, 7, 8}\n"
     ]
    }
   ],
   "source": [
    "#JOIN TWO SETS\n",
    "#There are several ways to join two or more sets in Python.\n",
    "#You can use the union() method that returns a new set containing all items from both sets, or the update() method that inserts all the items from one set into another\n",
    "a={1,2,3,4}\n",
    "b={1,3,4,5,7,8}\n",
    "c=a.union(b)\n",
    "print(c)"
   ]
  },
  {
   "cell_type": "code",
   "execution_count": 79,
   "id": "36b9fe70",
   "metadata": {},
   "outputs": [
    {
     "name": "stdout",
     "output_type": "stream",
     "text": [
      "{1, 3, 11, 111, 'a', 'b', 121}\n"
     ]
    }
   ],
   "source": [
    "#The update() method inserts the items in set2 into set1:\n",
    "a={\"a\",1,\"b\",3}\n",
    "b={1,11,111,121,111}\n",
    "a.update(b)\n",
    "print(a)\n",
    "#Both union() and update() will exclude any duplicate items.\n"
   ]
  },
  {
   "cell_type": "code",
   "execution_count": 84,
   "id": "9633b306",
   "metadata": {},
   "outputs": [
    {
     "name": "stdout",
     "output_type": "stream",
     "text": [
      "{2, 4}\n"
     ]
    }
   ],
   "source": [
    "#Keep ONLY the Duplicates\n",
    "#The intersection method willreturn new set, keep only the items that are present in both sets.\n",
    "a={1,2,3,4,5}\n",
    "b={2,4,6}\n",
    "c=a.intersection(b)\n",
    "print(c)"
   ]
  },
  {
   "cell_type": "code",
   "execution_count": 85,
   "id": "74481c3c",
   "metadata": {},
   "outputs": [
    {
     "name": "stdout",
     "output_type": "stream",
     "text": [
      "{4}\n"
     ]
    }
   ],
   "source": [
    "#The intersection_update() method will return  that only contains the items that are present in both sets.\n",
    "a={1,2,3,4}\n",
    "b={10,20,4}\n",
    "a.intersection_update(b)\n",
    "print(a)"
   ]
  },
  {
   "cell_type": "code",
   "execution_count": 86,
   "id": "21ab1c39",
   "metadata": {},
   "outputs": [
    {
     "name": "stdout",
     "output_type": "stream",
     "text": [
      "{2, 3, 5, 6, 8}\n"
     ]
    }
   ],
   "source": [
    "#Keep All, But NOT the Duplicates\n",
    "#The symmetric_difference_update() method will keep only the elements that are NOT present in both sets.\n",
    "a={1,2,4,4}\n",
    "b={1,3,4,5,6,8}\n",
    "a.symmetric_difference_update(b)\n",
    "print(a)"
   ]
  },
  {
   "cell_type": "code",
   "execution_count": 87,
   "id": "ac82f86e",
   "metadata": {},
   "outputs": [
    {
     "name": "stdout",
     "output_type": "stream",
     "text": [
      "{2, 3, 5, 6, 8}\n"
     ]
    }
   ],
   "source": [
    "#symmetric_difference  >>>The symmetric_difference() method will return a new set, that contains only the elements that are NOT present in both sets.\n",
    "a={1,2,4,4}\n",
    "b={1,3,4,5,6,8}\n",
    "c=a.symmetric_difference(b)\n",
    "print(c)"
   ]
  },
  {
   "cell_type": "code",
   "execution_count": 88,
   "id": "05d4b5fe",
   "metadata": {},
   "outputs": [
    {
     "name": "stdout",
     "output_type": "stream",
     "text": [
      "{2, 'banana', 'google', 'cherry'}\n"
     ]
    }
   ],
   "source": [
    "#True and 1 is considered the same value:\n",
    "\n",
    "x = {\"apple\", \"banana\", \"cherry\", True}\n",
    "y = {\"google\", 1, \"apple\", 2}\n",
    "\n",
    "z = x.symmetric_difference(y)\n",
    "\n",
    "print(z)"
   ]
  },
  {
   "cell_type": "code",
   "execution_count": null,
   "id": "626b5bf0",
   "metadata": {},
   "outputs": [],
   "source": [
    "add()\t                                 Adds an element to the set\n",
    "clear()\t                                 Removes all the elements from the set\n",
    "copy()\t                                 Returns a copy of the set\n",
    "difference()\t                         Returns a set containing the difference between two or more sets\n",
    "difference_update()\t                     Removes the items in this set that are also included in another, specified set\n",
    "discard()\t                             Remove the specified item\n",
    "intersection()\t                         Returns a set, that is the intersection of two other sets\n",
    "intersection_update()\t                 Removes the items in this set that are not present in other, specified set(s)\n",
    "isdisjoint()\t                         Returns whether two sets have a intersection or not\n",
    "issubset()\t                             Returns whether another set contains this set or not\n",
    "issuperset()\t                         Returns whether this set contains another set or not\n",
    "pop()\t                                 Removes an element from the set\n",
    "remove()\t                             Removes the specified element\n",
    "symmetric_difference()\t                 Returns a set with the symmetric differences of two sets\n",
    "symmetric_difference_update()\t         inserts the symmetric differences from this set and another\n",
    "union()\t                                 Return a set containing the union of sets\n",
    "update()\t                             Update the set with the union of this set and others"
   ]
  },
  {
   "cell_type": "code",
   "execution_count": 90,
   "id": "a6325d6e",
   "metadata": {},
   "outputs": [
    {
     "name": "stdout",
     "output_type": "stream",
     "text": [
      "False\n"
     ]
    }
   ],
   "source": [
    "#isdisjoint()\n",
    "#The isdisjoint() method returns True if none of the items are present in both sets, otherwise it returns False.\n",
    "a={1,2,3,4}\n",
    "b={2,3,4}\n",
    "c=a.isdisjoint(b)\n",
    "print(c)"
   ]
  },
  {
   "cell_type": "code",
   "execution_count": 91,
   "id": "30b5cb5f",
   "metadata": {},
   "outputs": [
    {
     "name": "stdout",
     "output_type": "stream",
     "text": [
      "False\n"
     ]
    }
   ],
   "source": [
    "#issubset\n",
    "#The issubset() method returns True if all items in the set exists in the specified set, otherwise it returns False.\n",
    "a={1,2,3,4}\n",
    "b={5,6,7,8}\n",
    "c=a.issubset(b)\n",
    "print(c)"
   ]
  },
  {
   "cell_type": "code",
   "execution_count": 92,
   "id": "9a7136f6",
   "metadata": {},
   "outputs": [
    {
     "name": "stdout",
     "output_type": "stream",
     "text": [
      "False\n"
     ]
    }
   ],
   "source": [
    "a={1,2,3,4}\n",
    "b={5,6,7,4}\n",
    "c=a.issubset(b)\n",
    "print(c)"
   ]
  },
  {
   "cell_type": "code",
   "execution_count": 93,
   "id": "c4a13157",
   "metadata": {},
   "outputs": [
    {
     "name": "stdout",
     "output_type": "stream",
     "text": [
      "True\n"
     ]
    }
   ],
   "source": [
    "a={1,2,3,4}\n",
    "b={5,6,7,4,2,3,1}\n",
    "c=a.issubset(b)\n",
    "print(c)"
   ]
  },
  {
   "cell_type": "code",
   "execution_count": 95,
   "id": "8a89f8b5",
   "metadata": {},
   "outputs": [
    {
     "name": "stdout",
     "output_type": "stream",
     "text": [
      "True\n"
     ]
    }
   ],
   "source": [
    "#issuperset\n",
    "#The issuperset() method returns True if all items in the specified set exists in the original set, otherwise it returns False.\n",
    "a={1,2,3,4,5,6,66,78,8}\n",
    "b={3,4,5,6}\n",
    "c=a.issuperset(b)\n",
    "print(c)\n"
   ]
  },
  {
   "cell_type": "code",
   "execution_count": null,
   "id": "f60574df",
   "metadata": {},
   "outputs": [],
   "source": []
  },
  {
   "cell_type": "markdown",
   "id": "f32af19d",
   "metadata": {},
   "source": [
    "# If statement"
   ]
  },
  {
   "cell_type": "code",
   "execution_count": null,
   "id": "b205242e",
   "metadata": {},
   "outputs": [],
   "source": [
    "#if(condition){\n",
    "#staments to be executed\n",
    "#}\n",
    "#else{\n",
    "#    statement to be executed\n",
    "#}\n"
   ]
  },
  {
   "cell_type": "code",
   "execution_count": 1,
   "id": "3f1b8e53",
   "metadata": {},
   "outputs": [
    {
     "name": "stdout",
     "output_type": "stream",
     "text": [
      "a is greater than b\n"
     ]
    }
   ],
   "source": [
    "#Shortest if else method>>>This technique is known as Ternary Operators, or Conditional Expressions.\n",
    "a=200\n",
    "b=100\n",
    "if a>b:print(\"a is greater than b\")"
   ]
  },
  {
   "cell_type": "code",
   "execution_count": 2,
   "id": "3f93e7d8",
   "metadata": {},
   "outputs": [
    {
     "name": "stdout",
     "output_type": "stream",
     "text": [
      "b\n"
     ]
    }
   ],
   "source": [
    "a=-100\n",
    "b=-90\n",
    "print(\"a\")if a>b else print(\"b\")\n"
   ]
  },
  {
   "cell_type": "code",
   "execution_count": 3,
   "id": "d866044b",
   "metadata": {},
   "outputs": [
    {
     "name": "stdout",
     "output_type": "stream",
     "text": [
      "=\n"
     ]
    }
   ],
   "source": [
    "a=330\n",
    "b=330\n",
    "print(\"a\") if a>b else print(\"=\") if a==b else print(\"b\")"
   ]
  },
  {
   "cell_type": "code",
   "execution_count": 5,
   "id": "0ae1cf65",
   "metadata": {},
   "outputs": [
    {
     "name": "stdout",
     "output_type": "stream",
     "text": [
      "both statement is true\n"
     ]
    }
   ],
   "source": [
    "a=400\n",
    "b=300\n",
    "c=900\n",
    "if a>b and c>a:\n",
    "    print(\"both statement is true\")"
   ]
  },
  {
   "cell_type": "code",
   "execution_count": 6,
   "id": "ab0fa2ad",
   "metadata": {},
   "outputs": [
    {
     "name": "stdout",
     "output_type": "stream",
     "text": [
      "atleast one statement is true\n"
     ]
    }
   ],
   "source": [
    "a=330\n",
    "b=40\n",
    "c=500\n",
    "if a>b or c>a:\n",
    "    print(\"atleast one statement is true\")"
   ]
  },
  {
   "cell_type": "code",
   "execution_count": 8,
   "id": "bfd826f6",
   "metadata": {},
   "outputs": [
    {
     "name": "stdout",
     "output_type": "stream",
     "text": [
      "nothing\n"
     ]
    }
   ],
   "source": [
    "a=400\n",
    "b=30\n",
    "if not a>b:\n",
    "    print(\"a is not greater than b\")\n",
    "else:\n",
    "    print(\"nothing\")"
   ]
  },
  {
   "cell_type": "code",
   "execution_count": 9,
   "id": "561ab1c4",
   "metadata": {},
   "outputs": [],
   "source": [
    "a=10\n",
    "b=20\n",
    "if a>b:\n",
    "    pass"
   ]
  },
  {
   "cell_type": "code",
   "execution_count": 22,
   "id": "9969edee",
   "metadata": {},
   "outputs": [
    {
     "name": "stdout",
     "output_type": "stream",
     "text": [
      "fine,b is great\n"
     ]
    }
   ],
   "source": [
    "a=10\n",
    "b=20\n",
    "if b>a:\n",
    "    print('fine,b is great')"
   ]
  },
  {
   "cell_type": "code",
   "execution_count": null,
   "id": "2290b188",
   "metadata": {},
   "outputs": [],
   "source": []
  },
  {
   "cell_type": "code",
   "execution_count": 24,
   "id": "714fd5ea",
   "metadata": {},
   "outputs": [
    {
     "name": "stdout",
     "output_type": "stream",
     "text": [
      "a is great\n"
     ]
    }
   ],
   "source": [
    "a=100\n",
    "b=20\n",
    "if b>a:\n",
    "    print('b is great')\n",
    "else:\n",
    "    print('a is great')"
   ]
  },
  {
   "cell_type": "code",
   "execution_count": 25,
   "id": "ad604309",
   "metadata": {},
   "outputs": [
    {
     "name": "stdout",
     "output_type": "stream",
     "text": [
      "c is greatest\n"
     ]
    }
   ],
   "source": [
    "a=10\n",
    "b=20\n",
    "c=30\n",
    "if(a>b)&(a>c):\n",
    "    print('a is greatest than ')\n",
    "elif(b>a)&(b>c):\n",
    "    print('b is greatest than ')\n",
    "else:\n",
    "    print('c is greatest')"
   ]
  },
  {
   "cell_type": "code",
   "execution_count": 2,
   "id": "68a208ac",
   "metadata": {},
   "outputs": [
    {
     "name": "stdout",
     "output_type": "stream",
     "text": [
      "yes\n"
     ]
    }
   ],
   "source": [
    "#if with tuple\n",
    "tup1=('a','b','c')\n",
    "if 'a'in tup1:\n",
    "    print('yes')\n",
    "else:\n",
    "    print('no')\n",
    "            \n",
    "    "
   ]
  },
  {
   "cell_type": "code",
   "execution_count": 11,
   "id": "6a7ccff8",
   "metadata": {},
   "outputs": [
    {
     "data": {
      "text/plain": [
       "['a', 'z', 'c']"
      ]
     },
     "execution_count": 11,
     "metadata": {},
     "output_type": "execute_result"
    }
   ],
   "source": [
    "#if with list\n",
    "l1=['a','b','c']\n",
    "if l1[1]=='b':\n",
    "    l1[1]='z'\n",
    "l1"
   ]
  },
  {
   "cell_type": "code",
   "execution_count": 12,
   "id": "d3f477d8",
   "metadata": {},
   "outputs": [
    {
     "data": {
      "text/plain": [
       "{'k': 10, 'k1': 20}"
      ]
     },
     "execution_count": 12,
     "metadata": {},
     "output_type": "execute_result"
    }
   ],
   "source": [
    "#if with dictionary\n",
    "d1={'k':10,'k1':20}\n",
    "d1\n"
   ]
  },
  {
   "cell_type": "code",
   "execution_count": 17,
   "id": "20aa6090",
   "metadata": {},
   "outputs": [
    {
     "data": {
      "text/plain": [
       "{'k': 110, 'k1': 20}"
      ]
     },
     "execution_count": 17,
     "metadata": {},
     "output_type": "execute_result"
    }
   ],
   "source": [
    "d1={'k':10,'k1':20}\n",
    "if d1['k']==10:\n",
    "    d1['k']=d1['k']+100\n",
    "d1    "
   ]
  },
  {
   "cell_type": "markdown",
   "id": "26814995",
   "metadata": {},
   "source": [
    "# looping statment"
   ]
  },
  {
   "cell_type": "code",
   "execution_count": null,
   "id": "fe32d63a",
   "metadata": {},
   "outputs": [],
   "source": [
    "#while loop\n",
    "#syntax:\n",
    "while condition:\n",
    "    execute statement\n"
   ]
  },
  {
   "cell_type": "code",
   "execution_count": 1,
   "id": "cafaf7f7",
   "metadata": {},
   "outputs": [
    {
     "name": "stdout",
     "output_type": "stream",
     "text": [
      "1\n",
      "2\n",
      "3\n",
      "4\n",
      "5\n",
      "6\n",
      "7\n",
      "8\n",
      "9\n",
      "10\n"
     ]
    }
   ],
   "source": [
    "i=1\n",
    "while i<=10:\n",
    "    print(i)\n",
    "    i+=1\n"
   ]
  },
  {
   "cell_type": "code",
   "execution_count": 13,
   "id": "0388b748",
   "metadata": {},
   "outputs": [
    {
     "name": "stdout",
     "output_type": "stream",
     "text": [
      "1\n",
      "2\n",
      "3\n",
      "4\n",
      "5\n",
      "6\n"
     ]
    }
   ],
   "source": [
    "#break statement\n",
    "i=1\n",
    "while i<=10:\n",
    "    print(i)\n",
    "    if i==6:\n",
    "        break\n",
    "    i=i+1\n"
   ]
  },
  {
   "cell_type": "code",
   "execution_count": 16,
   "id": "8fc643ae",
   "metadata": {},
   "outputs": [
    {
     "name": "stdout",
     "output_type": "stream",
     "text": [
      "2\n",
      "4\n",
      "5\n",
      "6\n",
      "7\n",
      "8\n",
      "9\n",
      "10\n"
     ]
    }
   ],
   "source": [
    "#continue statment\n",
    "i=1\n",
    "while i<10:\n",
    "    i+=1\n",
    "    if i==3:\n",
    "        continue\n",
    "    print(i)   "
   ]
  },
  {
   "cell_type": "code",
   "execution_count": 5,
   "id": "94929f6d",
   "metadata": {},
   "outputs": [
    {
     "name": "stdout",
     "output_type": "stream",
     "text": [
      "2  *  1 = 2\n",
      "2  *  2 = 4\n",
      "2  *  3 = 6\n",
      "2  *  4 = 8\n",
      "2  *  5 = 10\n",
      "2  *  6 = 12\n",
      "2  *  7 = 14\n",
      "2  *  8 = 16\n",
      "2  *  9 = 18\n",
      "2  *  10 = 20\n"
     ]
    }
   ],
   "source": [
    "i=1\n",
    "n=2\n",
    "while i<=10:\n",
    "    print(n,\" * \",i,'=',n*i)\n",
    "    i+=1"
   ]
  },
  {
   "cell_type": "code",
   "execution_count": 7,
   "id": "5efdd8c8",
   "metadata": {},
   "outputs": [
    {
     "data": {
      "text/plain": [
       "[101, 102, 103, 104, 105]"
      ]
     },
     "execution_count": 7,
     "metadata": {},
     "output_type": "execute_result"
    }
   ],
   "source": [
    "#while with list\n",
    "l1=[1,2,3,4,5]\n",
    "i=0\n",
    "while i<len(l1):\n",
    "    l1[i] =l1[i]+100\n",
    "    i+=1\n",
    "l1    "
   ]
  },
  {
   "cell_type": "code",
   "execution_count": 9,
   "id": "92d2b2ec",
   "metadata": {},
   "outputs": [
    {
     "name": "stdout",
     "output_type": "stream",
     "text": [
      "1\n",
      "2\n",
      "3\n",
      "4\n",
      "5\n"
     ]
    }
   ],
   "source": [
    "#loop with list\n",
    "l1=[1,2,3,4,5]\n",
    "for i in l1:\n",
    "    print(i)"
   ]
  },
  {
   "cell_type": "code",
   "execution_count": 11,
   "id": "a7042c36",
   "metadata": {},
   "outputs": [
    {
     "name": "stdout",
     "output_type": "stream",
     "text": [
      "a a\n",
      "a c\n",
      "a e\n",
      "a f\n",
      "s a\n",
      "s c\n",
      "s e\n",
      "s f\n",
      "d a\n",
      "d c\n",
      "d e\n",
      "d f\n",
      "f a\n",
      "f c\n",
      "f e\n",
      "f f\n"
     ]
    }
   ],
   "source": [
    "A=['a','s','d','f']\n",
    "B=['a','c','e','f']\n",
    "for i in A:\n",
    "    for j in B:\n",
    "        print(i,j)"
   ]
  },
  {
   "cell_type": "code",
   "execution_count": 1,
   "id": "ab47cb84",
   "metadata": {},
   "outputs": [
    {
     "name": "stdout",
     "output_type": "stream",
     "text": [
      "apple\n",
      "banana\n",
      "kiwi\n"
     ]
    }
   ],
   "source": [
    "#for loop statement\n",
    "a=[\"apple\",\"banana\",'kiwi']\n",
    "for i in a:\n",
    "    print(i)"
   ]
  },
  {
   "cell_type": "code",
   "execution_count": 2,
   "id": "4945af07",
   "metadata": {},
   "outputs": [
    {
     "name": "stdout",
     "output_type": "stream",
     "text": [
      "apple\n",
      "kiwi\n"
     ]
    }
   ],
   "source": [
    "#break statement\n",
    "a=[\"apple\",\"kiwi\",\"chiku\"]\n",
    "for i in a:\n",
    "    print(i)\n",
    "    if i==\"kiwi\":\n",
    "        break"
   ]
  },
  {
   "cell_type": "code",
   "execution_count": 4,
   "id": "66e799dc",
   "metadata": {},
   "outputs": [
    {
     "name": "stdout",
     "output_type": "stream",
     "text": [
      "kiwi\n",
      "orange\n"
     ]
    }
   ],
   "source": [
    "#continues statement\n",
    "a=[\"apple\",\"kiwi\",\"orange\"]\n",
    "for i in a:\n",
    "    if i==\"apple\":\n",
    "        continue\n",
    "    print(i)    "
   ]
  },
  {
   "cell_type": "code",
   "execution_count": 5,
   "id": "f146d12e",
   "metadata": {},
   "outputs": [
    {
     "name": "stdout",
     "output_type": "stream",
     "text": [
      "apple\n"
     ]
    }
   ],
   "source": [
    "a=[\"apple\",\"kiwi\",\"chiku\"]\n",
    "for i in a:\n",
    "    if i==\"kiwi\":\n",
    "        break\n",
    "    print(i)    "
   ]
  },
  {
   "cell_type": "code",
   "execution_count": 9,
   "id": "7035a2d1",
   "metadata": {},
   "outputs": [
    {
     "name": "stdout",
     "output_type": "stream",
     "text": [
      "0\n",
      "1\n",
      "2\n"
     ]
    }
   ],
   "source": [
    "a=[0,1,2,3]\n",
    "for i in a:\n",
    "    if i==3: break\n",
    "    print(i)\n",
    "else:\n",
    "    print(\"no\")\n",
    "        \n",
    "        "
   ]
  },
  {
   "cell_type": "code",
   "execution_count": null,
   "id": "4abfdbc4",
   "metadata": {},
   "outputs": [],
   "source": [
    "for x in [0, 1, 2]:\n",
    "  pass\n",
    "\n",
    "# having an empty for loop like this, would raise an error without the pass statement\n"
   ]
  },
  {
   "cell_type": "code",
   "execution_count": 10,
   "id": "6e45249e",
   "metadata": {},
   "outputs": [
    {
     "name": "stdout",
     "output_type": "stream",
     "text": [
      "bra red\n",
      "bra black\n",
      "bra orange\n",
      "penty red\n",
      "penty black\n",
      "penty orange\n",
      "cup red\n",
      "cup black\n",
      "cup orange\n"
     ]
    }
   ],
   "source": [
    "a=['bra','penty','cup']\n",
    "b=[\"red\",\"black\",\"orange\"]\n",
    "for i in a:\n",
    "    for j in b:\n",
    "        print(i,j)\n",
    "        "
   ]
  },
  {
   "cell_type": "code",
   "execution_count": 11,
   "id": "08bd7c00",
   "metadata": {},
   "outputs": [
    {
     "data": {
      "text/plain": [
       "'C:\\\\Users\\\\navgurukul'"
      ]
     },
     "execution_count": 11,
     "metadata": {},
     "output_type": "execute_result"
    }
   ],
   "source": [
    "pwd\n"
   ]
  },
  {
   "cell_type": "code",
   "execution_count": 13,
   "id": "6484405d",
   "metadata": {},
   "outputs": [
    {
     "name": "stdout",
     "output_type": "stream",
     "text": [
      "she is an good girl . she is very perrrty girls  which i ever meet in the wold . she is an preety eyes . she is very kindfull girl.\n"
     ]
    }
   ],
   "source": [
    "##replace\n",
    "#find\n",
    "string=\"she was an good girl . she was very perrrty girls  which i ever meet in the wold . she was an preety eyes . she was very kindfull girl.\"\n",
    "print(string.replace(\"was\",\"is\"))"
   ]
  },
  {
   "cell_type": "code",
   "execution_count": 14,
   "id": "b9030da6",
   "metadata": {},
   "outputs": [
    {
     "name": "stdout",
     "output_type": "stream",
     "text": [
      "4\n"
     ]
    }
   ],
   "source": [
    "string=\"she was an good girl . she was very perrrty girls  which i ever meet in the wold . she was an preety eyes . she was very kindfull girl.\"\n",
    "print(string.find(\"was\"))"
   ]
  },
  {
   "cell_type": "code",
   "execution_count": 15,
   "id": "18cdb0c9",
   "metadata": {},
   "outputs": [
    {
     "name": "stdout",
     "output_type": "stream",
     "text": [
      "3.11.5 | packaged by Anaconda, Inc. | (main, Sep 11 2023, 13:26:23) [MSC v.1916 64 bit (AMD64)]\n"
     ]
    }
   ],
   "source": [
    "import sys\n",
    "print(sys.version)"
   ]
  },
  {
   "cell_type": "markdown",
   "id": "26e665dd",
   "metadata": {},
   "source": [
    "# Functions in Python"
   ]
  },
  {
   "cell_type": "code",
   "execution_count": 1,
   "id": "5f9935a9",
   "metadata": {},
   "outputs": [],
   "source": [
    "#functions is block of code which performs a specific task\n",
    "def hello():\n",
    "    print('hello world')\n",
    "    "
   ]
  },
  {
   "cell_type": "code",
   "execution_count": 2,
   "id": "9e63d40c",
   "metadata": {},
   "outputs": [
    {
     "data": {
      "text/plain": [
       "19"
      ]
     },
     "execution_count": 2,
     "metadata": {},
     "output_type": "execute_result"
    }
   ],
   "source": [
    "def add_10(x):\n",
    "    return x+10\n",
    "add_10(9)"
   ]
  },
  {
   "cell_type": "code",
   "execution_count": 4,
   "id": "d4ab7693",
   "metadata": {},
   "outputs": [
    {
     "name": "stdout",
     "output_type": "stream",
     "text": [
      "10 is even\n"
     ]
    }
   ],
   "source": [
    "def odd_even(x):\n",
    "    if x%2==0:\n",
    "        print(x,'is even')\n",
    "    else:\n",
    "        print(x,'is odd')\n",
    "odd_even(10)        \n",
    "        "
   ]
  },
  {
   "cell_type": "code",
   "execution_count": 6,
   "id": "a194acb3",
   "metadata": {},
   "outputs": [
    {
     "data": {
      "text/plain": [
       "343"
      ]
     },
     "execution_count": 6,
     "metadata": {},
     "output_type": "execute_result"
    }
   ],
   "source": [
    "#lambda function is the anonyms function without a name . cause it will give parameter and code in a single line {It is use for another function are filter,map,reduce}\n",
    "#syntax\n",
    "#x:x\n",
    "g=lambda x:x*x*x\n",
    "g(7)"
   ]
  },
  {
   "cell_type": "code",
   "execution_count": 12,
   "id": "a338b59f",
   "metadata": {},
   "outputs": [
    {
     "name": "stdout",
     "output_type": "stream",
     "text": [
      "[56, 4, 2, 34, 88, 2]\n"
     ]
    }
   ],
   "source": [
    "#Filter Function :- The filter() method filters the given sequence with the help of a function that tests each element in the sequence to be true or not. \n",
    "#lambda with filter\n",
    "l1=[7,89,56,4,2,34,88,1,2,3,]\n",
    "final_list=list(filter(lambda x:(x%2==0),l1))\n",
    "print(final_list)"
   ]
  },
  {
   "cell_type": "code",
   "execution_count": 15,
   "id": "bd0953ff",
   "metadata": {},
   "outputs": [
    {
     "name": "stdout",
     "output_type": "stream",
     "text": [
      "[1, 0]\n"
     ]
    }
   ],
   "source": [
    "l1=[1,2,3,4,5,6,7,8,9,0]\n",
    "final_list=list(filter(lambda x:(x==x**2),l1))\n",
    "print(final_list)               "
   ]
  },
  {
   "cell_type": "code",
   "execution_count": 16,
   "id": "127a72f2",
   "metadata": {},
   "outputs": [
    {
     "name": "stdout",
     "output_type": "stream",
     "text": [
      "[0]\n"
     ]
    }
   ],
   "source": [
    "l1=[1,2,3,4,5,6,7,8,9,0]\n",
    "final_list=list(filter(lambda x:(x*2==x//2),l1))\n",
    "print(final_list)               "
   ]
  },
  {
   "cell_type": "code",
   "execution_count": 17,
   "id": "d449cdb2",
   "metadata": {},
   "outputs": [
    {
     "name": "stdout",
     "output_type": "stream",
     "text": [
      "[1, 2, 4, 5, 7, 8]\n"
     ]
    }
   ],
   "source": [
    "l1=[1,2,3,4,5,6,7,8,9,0]\n",
    "final_list=list(filter(lambda x:(x%3!=0),l1))\n",
    "print(final_list)"
   ]
  },
  {
   "cell_type": "code",
   "execution_count": 26,
   "id": "5008bc36",
   "metadata": {},
   "outputs": [
    {
     "name": "stdout",
     "output_type": "stream",
     "text": [
      "[2, 4, 6, 8, 10, 12, 14, 16]\n"
     ]
    }
   ],
   "source": [
    "#lambda with map{we can use one task for the entire sequence}\n",
    "l1=[1,2,3,4,5,6,7,8]\n",
    "list_final_new=list(map(lambda x:x*2,l1))\n",
    "print(list_final_new)"
   ]
  },
  {
   "cell_type": "code",
   "execution_count": 3,
   "id": "a2569784",
   "metadata": {},
   "outputs": [
    {
     "name": "stdout",
     "output_type": "stream",
     "text": [
      "[0, 1, 8, 175616, 474552, 970299, 1728, 91125]\n"
     ]
    }
   ],
   "source": [
    "a=[0,1,2,56,78,99,12,45]\n",
    "b=list(map(lambda x:x**3,a))\n",
    "print(b)"
   ]
  },
  {
   "cell_type": "code",
   "execution_count": 8,
   "id": "8fea3e92",
   "metadata": {},
   "outputs": [
    {
     "name": "stdout",
     "output_type": "stream",
     "text": [
      "[1, 4, 9, 16, 25]\n"
     ]
    }
   ],
   "source": [
    "a=[-1,-2,-3,-4,-5]\n",
    "b=list(map(lambda x:x**2,a))\n",
    "print(b)"
   ]
  },
  {
   "cell_type": "code",
   "execution_count": 12,
   "id": "f698e8aa",
   "metadata": {},
   "outputs": [
    {
     "name": "stdout",
     "output_type": "stream",
     "text": [
      "36\n"
     ]
    }
   ],
   "source": [
    "from functools import reduce#when we want final result\n",
    "l1=[1,2,3,4,5,6,7,8]\n",
    "sum=reduce(lambda x,y:x+y,l1)\n",
    "print(sum)"
   ]
  },
  {
   "cell_type": "code",
   "execution_count": null,
   "id": "0139a52a",
   "metadata": {},
   "outputs": [],
   "source": []
  },
  {
   "cell_type": "markdown",
   "id": "74aac8d4",
   "metadata": {},
   "source": [
    "# if else first assignment"
   ]
  },
  {
   "cell_type": "code",
   "execution_count": 19,
   "id": "e7017bb0",
   "metadata": {},
   "outputs": [
    {
     "name": "stdout",
     "output_type": "stream",
     "text": [
      "30\n"
     ]
    }
   ],
   "source": [
    "#Construct a flowchart to show how the sum of two numbers can be obtained.\n",
    "a=10\n",
    "b=20\n",
    "sum=a+b\n",
    "print(sum)"
   ]
  },
  {
   "cell_type": "code",
   "execution_count": 20,
   "id": "64f08e8b",
   "metadata": {},
   "outputs": [
    {
     "name": "stdout",
     "output_type": "stream",
     "text": [
      "20.0\n"
     ]
    }
   ],
   "source": [
    "#Construct a flowchart to show the procedure for obtaining the average of two given numbers.\n",
    "a=10\n",
    "b=20\n",
    "average=a+b/2\n",
    "print(average)\n"
   ]
  },
  {
   "cell_type": "code",
   "execution_count": 2,
   "id": "ba1a2347",
   "metadata": {},
   "outputs": [
    {
     "name": "stdout",
     "output_type": "stream",
     "text": [
      "enter the no. of worker12\n",
      "enter the no. of hours8\n",
      "daily wages:- 96\n"
     ]
    }
   ],
   "source": [
    "#Construct a flowchart to show how to obtain the daily wage of a worker on the basis of the hours worked during the day.\n",
    "a=int(input('enter the no. of worker'))\n",
    "b=int(input('enter the no. of hours'))\n",
    "c=a*b\n",
    "print('daily wages:-',c)\n",
    "\n"
   ]
  },
  {
   "cell_type": "code",
   "execution_count": 4,
   "id": "e7f59c4f",
   "metadata": {},
   "outputs": [
    {
     "name": "stdout",
     "output_type": "stream",
     "text": [
      "enter the height3\n",
      "enter the base4\n",
      "6.0\n"
     ]
    }
   ],
   "source": [
    "#Construct a flowchart to show how to obtain the area of a triangle on the basis of the base and height\n",
    "height=int(input('enter the height'))\n",
    "base=int(input('enter the base'))\n",
    "area=1/2*height*base\n",
    "print(area)"
   ]
  },
  {
   "cell_type": "code",
   "execution_count": 6,
   "id": "b9a6cc97",
   "metadata": {},
   "outputs": [
    {
     "name": "stdout",
     "output_type": "stream",
     "text": [
      "enter the p amount12\n",
      "enter the R amount13\n",
      "enter the T amount2\n",
      "3.12\n"
     ]
    }
   ],
   "source": [
    "#Construct a flowchart to show the steps in finding the simple interest on a given amount at a given rate of interest.\n",
    "P=int(input('enter the p amount'))\n",
    "R=int(input('enter the R amount'))\n",
    "T=int(input('enter the T amount'))\n",
    "amount=P*R*T/100\n",
    "print(amount)\n",
    "\n"
   ]
  },
  {
   "cell_type": "code",
   "execution_count": null,
   "id": "169baff1",
   "metadata": {},
   "outputs": [],
   "source": [
    "#If P amount of money is invested for N years at an annual rate of interest I, the money grows to an amount T, where T is given by T = P (1 + I/100)N. Construct a flowchart to show how T is determined.\n",
    "P=int(input('enter the p amount:-'))\n",
    "R=int(input('enter the R amount:-'))\n",
    "T=int(input('enter the T amount:-'))\n",
    "amount= P (1 + I/100)/T\n",
    "print(amount)"
   ]
  },
  {
   "cell_type": "code",
   "execution_count": null,
   "id": "40dad7b9",
   "metadata": {},
   "outputs": [],
   "source": [
    "#Construct a flowchart to show how to interchange the values of two variables.\n",
    "a=int(input('enter the no.'))\n",
    "b=int(input('enter the no.'))\n",
    "temp=a\n",
    "a=b\n",
    "temp=b\n",
    "print('interchange the value of a':-{a})\n",
    "print('interchange the value of b':-{b})\n",
    "\n"
   ]
  },
  {
   "cell_type": "code",
   "execution_count": null,
   "id": "58e5c9af",
   "metadata": {},
   "outputs": [],
   "source": [
    "#Construct a flowchart to calculate the semiperimeter of a triangle.\n",
    "a=int(input('enter the side'))\n",
    "formula=3*a\n",
    "print('semiperimeter of a triangle',formula)"
   ]
  },
  {
   "cell_type": "code",
   "execution_count": 13,
   "id": "ba0a66c0",
   "metadata": {},
   "outputs": [
    {
     "name": "stdout",
     "output_type": "stream",
     "text": [
      "enter the radius24\n",
      "area of cicle 1808.64\n"
     ]
    }
   ],
   "source": [
    "#Construct a flowchart to calculate the area of a circle\n",
    "radius= int(input('enter the radius'))\n",
    "#calculate the area of cicle\n",
    "formula=3.14*radius**2\n",
    "print('area of cicle',formula)"
   ]
  },
  {
   "cell_type": "code",
   "execution_count": 12,
   "id": "5d531902",
   "metadata": {},
   "outputs": [
    {
     "name": "stdout",
     "output_type": "stream",
     "text": [
      "WELCOME IN PYTHON\n"
     ]
    }
   ],
   "source": [
    "#Construct a flowchart to print a Welcome message. Take input from the user and on the output window print ‘Welcome ____’.\n",
    "a='WELCOME IN PYTHON'\n",
    "print(a)\n"
   ]
  },
  {
   "cell_type": "code",
   "execution_count": 13,
   "id": "e6fd1f51",
   "metadata": {},
   "outputs": [
    {
     "name": "stdout",
     "output_type": "stream",
     "text": [
      "Enter your name: divya\n",
      "divya\n"
     ]
    }
   ],
   "source": [
    "user_name = input(\"Enter your name: \")\n",
    "print(user_name)\n",
    "\n"
   ]
  },
  {
   "cell_type": "code",
   "execution_count": 16,
   "id": "43acbe02",
   "metadata": {},
   "outputs": [
    {
     "name": "stdout",
     "output_type": "stream",
     "text": [
      "enter the radius:-2\n",
      "circumference of a circle 12.56\n"
     ]
    }
   ],
   "source": [
    "#Given the circumference of a circle, construct a flowchart to calculate the Diameter. \n",
    "radius=int(input('enter the radius:-'))\n",
    "#circumference of a circle\n",
    "formula=2*3.14*radius\n",
    "print('circumference of a circle',formula)\n"
   ]
  },
  {
   "cell_type": "code",
   "execution_count": 1,
   "id": "83202e72",
   "metadata": {},
   "outputs": [
    {
     "name": "stdout",
     "output_type": "stream",
     "text": [
      "enter the no:-1\n",
      "enter the no.:-3\n",
      "4\n",
      "3\n",
      "0.3333333333333333\n",
      "-2\n"
     ]
    }
   ],
   "source": [
    "#Construct a flowchart to add, subtract, divide and multiply two integers a and b. \n",
    "A=int(input('enter the no:-'))\n",
    "B=int(input('enter the no.:-'))\n",
    "print(A+B)\n",
    "print(A*B)\n",
    "print(A/B)\n",
    "print(A-B)"
   ]
  },
  {
   "cell_type": "code",
   "execution_count": 2,
   "id": "097f8cf8",
   "metadata": {},
   "outputs": [
    {
     "name": "stdout",
     "output_type": "stream",
     "text": [
      "enter the lenth12\n",
      "enter the breadth12\n",
      "144.0 48.0\n"
     ]
    }
   ],
   "source": [
    "#Construct a flowchart to calculate the area and perimeter of a rectangle.\n",
    "A=float(input('enter the lenth'))\n",
    "B=float(input('enter the breadth'))\n",
    "#caculate the area\n",
    "area=A*B\n",
    "#calculate the perimeter\n",
    "perimeter=2*(A+B)\n",
    "print(area, perimeter)"
   ]
  },
  {
   "cell_type": "code",
   "execution_count": 4,
   "id": "160a0a9d",
   "metadata": {},
   "outputs": [
    {
     "name": "stdout",
     "output_type": "stream",
     "text": [
      "enter the lenth :-2\n",
      "4.0 8.0\n"
     ]
    }
   ],
   "source": [
    "#Construct a flowchart to calculate the area and perimeter of a square.\n",
    "A=float(input('enter the lenth :-'))\n",
    "#calculate the area of square\n",
    "area=A**A\n",
    "#calculate the perimeter\n",
    "perimeter=4*A\n",
    "print(area,perimeter)\n",
    "\n",
    "\n",
    "\n"
   ]
  },
  {
   "cell_type": "code",
   "execution_count": 5,
   "id": "8a73c2cf",
   "metadata": {},
   "outputs": [
    {
     "name": "stdout",
     "output_type": "stream",
     "text": [
      "enter the side12\n",
      "18.0\n"
     ]
    }
   ],
   "source": [
    "#Construct a flowchart to calculate the semiperimeter of a triangle\n",
    "a=float(input('enter the side'))\n",
    "#calculate the semiperimeter\n",
    "formula=3/2*a\n",
    "print(formula)"
   ]
  },
  {
   "cell_type": "code",
   "execution_count": 15,
   "id": "def03465",
   "metadata": {},
   "outputs": [
    {
     "name": "stdout",
     "output_type": "stream",
     "text": [
      "enter the side of cube:-12\n",
      "576 ; 864\n"
     ]
    }
   ],
   "source": [
    "#Construct a flowchart to calculate the lateral surface area and Total surface area of a cube.\n",
    "A=int(input(\"enter the side of cube:-\"))\n",
    "#calculate the lateral surface area of cube\n",
    "surface=4*A**2\n",
    "#calculate the total surface area of cube\n",
    "Total=6*A**2\n",
    "print(surface,';',Total)\n"
   ]
  },
  {
   "cell_type": "code",
   "execution_count": 9,
   "id": "c2ec65f8",
   "metadata": {},
   "outputs": [
    {
     "name": "stdout",
     "output_type": "stream",
     "text": [
      "enter the side of cube:-12\n",
      "1728.0\n"
     ]
    }
   ],
   "source": [
    "#Construct a flowchart to calculate the volume of a cube.\n",
    "A=int(input(\"enter the side of cube:-\"))\n",
    "#calculate the area of cube \n",
    "area=a*a*a\n",
    "print(area)"
   ]
  },
  {
   "cell_type": "code",
   "execution_count": 18,
   "id": "84577db4",
   "metadata": {},
   "outputs": [
    {
     "name": "stdout",
     "output_type": "stream",
     "text": [
      "Enter the length:-1\n",
      "Enter the length:-2\n",
      "Enter the height:-3\n",
      "18.0 || 22.0\n"
     ]
    }
   ],
   "source": [
    "#Construct a flowchart to find the lateral surface area and Total surface area of a cuboid.\n",
    "l=float(input('Enter the length:-'))\n",
    "b=float(input('Enter the length:-'))\n",
    "h=float(input('Enter the height:-'))\n",
    "#the lateral surface area of cuboid\n",
    "surface=2*h*(l+b)\n",
    "#Total surface area of a cuboid.\n",
    "Total=2*(l*b+b*h+h*l)\n",
    "print(surface,\"||\",Total)"
   ]
  },
  {
   "cell_type": "code",
   "execution_count": 1,
   "id": "54cb44d0",
   "metadata": {},
   "outputs": [
    {
     "name": "stdout",
     "output_type": "stream",
     "text": [
      "enter the length:-1\n",
      "enter the breadth:-2\n",
      "enter the height:-3\n",
      "6.0\n"
     ]
    }
   ],
   "source": [
    "#Construct a flowchart to calculate the volume of a cuboid.\n",
    "L=float(input('enter the length:-'))\n",
    "B=float(input('enter the breadth:-'))\n",
    "H=float(input('enter the height:-'))\n",
    "#calculate the volume of cuboid\n",
    "volume=L*B*H\n",
    "print(volume)"
   ]
  },
  {
   "cell_type": "code",
   "execution_count": 3,
   "id": "4c521f1a",
   "metadata": {},
   "outputs": [
    {
     "name": "stdout",
     "output_type": "stream",
     "text": [
      "Please enter the no. :- 23690987\n",
      "7\n"
     ]
    }
   ],
   "source": [
    "#Construct a flowchart to display the last digit of a number.\n",
    "number=int(input('Please enter the no. :- '))\n",
    "last_digit=number%10\n",
    "print(last_digit)"
   ]
  },
  {
   "cell_type": "code",
   "execution_count": 5,
   "id": "636271dd",
   "metadata": {},
   "outputs": [
    {
     "name": "stdout",
     "output_type": "stream",
     "text": [
      "Please enter the no. :- 2\n",
      "Please enter the no. :- 3\n",
      "2\n"
     ]
    }
   ],
   "source": [
    "#Construct a flowchart to calculate remainder when a is divided by b\n",
    "a=int(input('Please enter the no. :- '))\n",
    "b=int(input('Please enter the no. :- '))\n",
    "reminder=a%b\n",
    "print(reminder)"
   ]
  },
  {
   "cell_type": "code",
   "execution_count": 6,
   "id": "8dfaeeca",
   "metadata": {},
   "outputs": [
    {
     "name": "stdout",
     "output_type": "stream",
     "text": [
      "Please enter the no. :- 4\n",
      "Please enter the no. :- 1\n",
      "4.0\n"
     ]
    }
   ],
   "source": [
    "#Construct a flowchart to calculate the quotient when a is divided by b\n",
    "a=int(input('Please enter the no. :- '))\n",
    "b=int(input('Please enter the no. :- '))\n",
    "quotient=a/b\n",
    "print(quotient)"
   ]
  },
  {
   "cell_type": "code",
   "execution_count": 7,
   "id": "e6b8709f",
   "metadata": {},
   "outputs": [],
   "source": [
    "#Construct a flowchart to Calculate the selling price of a product if MRP  and discount are given\n",
    "\n",
    "\n"
   ]
  },
  {
   "cell_type": "code",
   "execution_count": 8,
   "id": "072ed3eb",
   "metadata": {},
   "outputs": [
    {
     "name": "stdout",
     "output_type": "stream",
     "text": [
      "enter the no:-290\n",
      "84100\n"
     ]
    }
   ],
   "source": [
    "#Construct a flowchart to calculate the square of a number.\n",
    "a=int(input('enter the no:-'))\n",
    "square=a*a\n",
    "print(square)\n"
   ]
  },
  {
   "cell_type": "code",
   "execution_count": 9,
   "id": "5e7e1764",
   "metadata": {},
   "outputs": [
    {
     "name": "stdout",
     "output_type": "stream",
     "text": [
      "enter the total cost12\n",
      "enter the book cost3\n",
      "4\n"
     ]
    }
   ],
   "source": [
    "#Construct a flowchart to calculate how many books we can buy if we have x Rs .   (Cost of a book = Rs. y)(input x,y from user)\n",
    "x=int(input('enter the total cost'))\n",
    "y=int(input('enter the book cost'))\n",
    "buy_books=x//y\n",
    "print(buy_books)"
   ]
  },
  {
   "cell_type": "code",
   "execution_count": 1,
   "id": "51ce8323",
   "metadata": {},
   "outputs": [
    {
     "name": "stdout",
     "output_type": "stream",
     "text": [
      "enter the no.:-50\n",
      "enter the no.:-80\n",
      "enter the no.:-34\n",
      "enter the no,:-56\n",
      "enter the no,:-90\n",
      "310\n"
     ]
    }
   ],
   "source": [
    "#Construct a flowchart to calculate the total marks obtained by a student in examination. (Subjects : - Hindi, Maths, English, Science, Computer) \n",
    "English_mark=int(input('enter the no.:-'))\n",
    "Hindi_mark=int(input('enter the no.:-'))\n",
    "maths_mark=int(input('enter the no.:-'))\n",
    "sci_mark=int(input('enter the no,:-'))\n",
    "comp_mark=int(input('enter the no,:-'))\n",
    "Total_mark=English_mark+Hindi_mark+maths_mark+sci_mark+comp_mark\n",
    "print(Total_mark)"
   ]
  },
  {
   "cell_type": "code",
   "execution_count": 2,
   "id": "0034272e",
   "metadata": {},
   "outputs": [
    {
     "name": "stdout",
     "output_type": "stream",
     "text": [
      "62.0\n"
     ]
    }
   ],
   "source": [
    "#Construct a flowchart to calculate the percentage obtained in the above question.\n",
    "percentage=Total_mark/500*100\n",
    "print(percentage)"
   ]
  },
  {
   "cell_type": "code",
   "execution_count": 5,
   "id": "e29a1e4a",
   "metadata": {},
   "outputs": [
    {
     "name": "stdout",
     "output_type": "stream",
     "text": [
      "enter Time period of a simple pendulum,:-20\n",
      "Enter Effective length of the simple pendulum:-90\n",
      "acceleration due to gravity (g) 9.0\n"
     ]
    }
   ],
   "source": [
    "#Construct a flowchart to determine the acceleration due to gravity (g), where g can be obtained from the following formula:\n",
    "#T = 2l/g\n",
    "#where \tT = Time period of a simple pendulum\n",
    "#And\t l = Effective length of the simple pendulum\n",
    "#(Input T and l from user)\n",
    "T=float(input(\"enter Time period of a simple pendulum,:-\"))\n",
    "L=float(input(\"Enter Effective length of the simple pendulum:-\"))\n",
    "#acceleration due to gravity (g)\n",
    "g=2*L/T\n",
    "print(\"acceleration due to gravity (g)\",g)\n"
   ]
  },
  {
   "cell_type": "code",
   "execution_count": 7,
   "id": "af087dd6",
   "metadata": {},
   "outputs": [
    {
     "name": "stdout",
     "output_type": "stream",
     "text": [
      "enter the quanity:-10\n",
      "enter the quantity:-4\n",
      "160\n"
     ]
    }
   ],
   "source": [
    "#A store sells Vadapavs & Samosas. They want a system where they enter the number of Vadapavs (V) and Samosas (S) a customer buys and a bill with the final price is automatically calculated and displayed. A Vadapav costs 12₹, while a Samosas costs 15₹. Write a program to create su\n",
    "vadapav_cost=10\n",
    "samosa_cost=15\n",
    "vadapav_quantity=int(input('enter the quanity:-'))\n",
    "samosa_quantity=int(input('enter the quantity:-'))\n",
    "total_vadapav_cost=vadapav_cost*vadapav_quantity\n",
    "total_samosa_cost=samosa_cost*samosa_quantity\n",
    "total_bill=total_vadapav_cost+total_samosa_cost\n",
    "print(total_bill)"
   ]
  },
  {
   "cell_type": "code",
   "execution_count": 8,
   "id": "2d244548",
   "metadata": {},
   "outputs": [
    {
     "name": "stdout",
     "output_type": "stream",
     "text": [
      "enter the number:-22\n",
      "enter the number:-3\n",
      "21\n"
     ]
    }
   ],
   "source": [
    "#Write a program to take two numbers A and B as input from the user and print the number closest to (but less than) A which is completely divisible by B.\n",
    "A=int(input('enter the number:-'))\n",
    "B=int(input('enter the number:-'))\n",
    "closest_number=(A//B)*B\n",
    "print(closest_number)\n"
   ]
  },
  {
   "cell_type": "code",
   "execution_count": 9,
   "id": "d5cda5bb",
   "metadata": {},
   "outputs": [
    {
     "name": "stdout",
     "output_type": "stream",
     "text": [
      "enter the value of celcius:-12\n",
      "53.6\n"
     ]
    }
   ],
   "source": [
    "#Construct a flowchart to obtain the Fahrenheit equivalent of a temperature given in Celsius where the relationship between the two scales of temperature is\n",
    "#C/5 = (F-32)/9\n",
    "c=float(input('enter the value of celcius:-'))\n",
    "fahrenheit = (c * 9/5) + 32\n",
    "print(fahrenheit)"
   ]
  },
  {
   "cell_type": "markdown",
   "id": "01a937ff",
   "metadata": {},
   "source": [
    "# if-else 2nd assignment"
   ]
  },
  {
   "cell_type": "code",
   "execution_count": 10,
   "id": "4871dfdf",
   "metadata": {},
   "outputs": [
    {
     "name": "stdout",
     "output_type": "stream",
     "text": [
      "enter the number:-12\n",
      "enter the number:-34\n",
      "b is greater\n"
     ]
    }
   ],
   "source": [
    "#Construct a flowchart to show how to determine the greater of two given numbers.\n",
    "a=int(input('enter the number:-'))\n",
    "b=int(input('enter the number:-'))\n",
    "if a>b:\n",
    "    print(\"a is grearter\")\n",
    "else:\n",
    "    print(\"b is greater\")"
   ]
  },
  {
   "cell_type": "code",
   "execution_count": 1,
   "id": "b82da3a4",
   "metadata": {},
   "outputs": [
    {
     "name": "stdout",
     "output_type": "stream",
     "text": [
      "enter day number:-7\n",
      "NOT VALID\n"
     ]
    }
   ],
   "source": [
    "#Construct a flowchart to print the name of days.\n",
    "#(Input a number from the user in the range 0 to 6 and print Monday for 0, Tuesday for 1\n",
    "#and so on)\n",
    "x=int(input(\"enter day number:-\"))\n",
    "if x==0:\n",
    "    print(\"SUNDAY\")\n",
    "elif x==1:\n",
    "    print(\"MONDAY\")\n",
    "elif x==2:\n",
    "    print(\"TUESDAY\")\n",
    "elif x==3:\n",
    "    print(\"WEDNESDAY\")\n",
    "elif x==4:\n",
    "    print(\"THURSDAY\")\n",
    "elif x==5:\n",
    "    print(\"FRIDAY\")\n",
    "elif x==6:\n",
    "    print(\"SATURDAY\")\n",
    "else:\n",
    "    print(\"NOT VALID\")\n"
   ]
  },
  {
   "cell_type": "code",
   "execution_count": 3,
   "id": "f90b9e46",
   "metadata": {},
   "outputs": [
    {
     "name": "stdout",
     "output_type": "stream",
     "text": [
      "enter the month number:-11\n",
      "dec\n"
     ]
    }
   ],
   "source": [
    "#Construct a flowchart to print the name of month.\n",
    "x=int(input('enter the month number:-'))\n",
    "if x==0:\n",
    "    print(\"jan\")\n",
    "elif x==1:\n",
    "    print(\"feb\")\n",
    "elif x==2:\n",
    "    print(\"mar\")\n",
    "elif x==3:\n",
    "    print(\"apr\")\n",
    "elif x==4:\n",
    "    print(\"may\")\n",
    "elif x==5:\n",
    "    print(\"june\")\n",
    "elif x==6:\n",
    "    print(\"july\")\n",
    "elif x==7:\n",
    "    print(\"aug\")\n",
    "elif x==8:\n",
    "    print(\"sep\")\n",
    "elif x==9:\n",
    "    print(\"oct\")\n",
    "elif x==10:\n",
    "    print(\"nov\")\n",
    "elif x==11:\n",
    "    print(\"dec\")\n",
    "else:\n",
    "    print(\"invalid\")\n",
    "    \n",
    "        \n",
    "    "
   ]
  },
  {
   "cell_type": "code",
   "execution_count": 17,
   "id": "9225ff6c",
   "metadata": {},
   "outputs": [
    {
     "name": "stdout",
     "output_type": "stream",
     "text": [
      "enter the selling price:-90\n",
      "enter the cost price:-80\n",
      "12.5\n"
     ]
    }
   ],
   "source": [
    "#Construct a flowchart to take selling price and cost price as input and calculate the profit\n",
    "#percentage.(Note :- The value of S.P. should be greater than C.P. else print “invalid”).\n",
    "sp=float(input('enter the selling price:-'))\n",
    "cp=float(input('enter the cost price:-'))\n",
    "if sp>cp:\n",
    "    profit=sp-cp\n",
    "    profit_percentage=profit/cp*100\n",
    "    print(profit_percentage)\n",
    "else:\n",
    "    print(\"invalid\")"
   ]
  },
  {
   "cell_type": "code",
   "execution_count": 19,
   "id": "6a594cb5",
   "metadata": {},
   "outputs": [
    {
     "name": "stdout",
     "output_type": "stream",
     "text": [
      "enter the first side:- 12\n",
      "enter the second side:-13\n",
      "rectangle\n"
     ]
    }
   ],
   "source": [
    "#Construct a flowchart to take two sides as input and check whether it is a rectangle or a\n",
    "#square.\n",
    "a=float(input('enter the first side:- '))\n",
    "b=float(input('enter the second side:-'))\n",
    "if a>b:\n",
    "    print('rectangle')\n",
    "elif a<b:\n",
    "    print('rectangle')\n",
    "else:\n",
    "    print('square')\n",
    "    "
   ]
  },
  {
   "cell_type": "code",
   "execution_count": 22,
   "id": "09cea792",
   "metadata": {},
   "outputs": [
    {
     "name": "stdout",
     "output_type": "stream",
     "text": [
      "enter the no.:-12345\n",
      "invalid\n"
     ]
    }
   ],
   "source": [
    "#Construct a flowchart to check whether a number is the smallest 4 digit number.\n",
    "a=int(input('enter the no.:-'))\n",
    "if 1000<=a<=9999:\n",
    "    print(\"number is the smallest 4 digit number\")\n",
    "else:\n",
    "    print('invalid')"
   ]
  },
  {
   "cell_type": "code",
   "execution_count": 2,
   "id": "a067d630",
   "metadata": {},
   "outputs": [
    {
     "name": "stdout",
     "output_type": "stream",
     "text": [
      "enter the no.:-1245\n",
      "invalid\n"
     ]
    }
   ],
   "source": [
    "#Construct a flowchart to check whether a number is the largest 3 digit number.\n",
    "a=int(input('enter the no.:-'))\n",
    "if 100<=a<=999:\n",
    "    print(\"number is the smallest 3 digit number\")\n",
    "else:\n",
    "    print('invalid')"
   ]
  },
  {
   "cell_type": "code",
   "execution_count": 4,
   "id": "e1b24b5d",
   "metadata": {},
   "outputs": [
    {
     "name": "stdout",
     "output_type": "stream",
     "text": [
      "enter the number-23\n",
      "given no. is not divisible by 7\n"
     ]
    }
   ],
   "source": [
    "#Construct a flowchart to check whether a number is divisible by 7 or no\n",
    "a=int(input('enter the number-'))\n",
    "if a%7==0:\n",
    "    print('given no. is divisible by 7')\n",
    "else:\n",
    "    print('given no. is not divisible by 7')\n",
    "            "
   ]
  },
  {
   "cell_type": "code",
   "execution_count": 5,
   "id": "f7f5f4d7",
   "metadata": {},
   "outputs": [
    {
     "name": "stdout",
     "output_type": "stream",
     "text": [
      "enter the no.:-345678\n",
      "no. is even\n"
     ]
    }
   ],
   "source": [
    "#Construct a flowchart program to check whether a number is even or odd.\n",
    "a=int(input('enter the no.:-'))\n",
    "if a%2==0:\n",
    "    print('no. is even')\n",
    "else:\n",
    "    print('no. is odd')\n",
    "    "
   ]
  },
  {
   "cell_type": "code",
   "execution_count": 5,
   "id": "5fb0931a",
   "metadata": {},
   "outputs": [
    {
     "name": "stdout",
     "output_type": "stream",
     "text": [
      "enter the number:-236\n",
      "Obtained last digit is divisible by 3\n"
     ]
    }
   ],
   "source": [
    "#Construct a flowchart to check whether the last digit of a number (entered by user) is\n",
    "#divisible by 3 or not.\n",
    "a=int(input('enter the number:-'))\n",
    "last_digit=a%10\n",
    "if last_digit%3==0:\n",
    "    print('Obtained last digit is divisible by 3')\n",
    "else:\n",
    "    print('not')\n",
    "    \n"
   ]
  },
  {
   "cell_type": "code",
   "execution_count": 7,
   "id": "7927943d",
   "metadata": {},
   "outputs": [
    {
     "name": "stdout",
     "output_type": "stream",
     "text": [
      "Enter the age of the voter:-34\n",
      "person is eligible for voting\n"
     ]
    }
   ],
   "source": [
    "#Construct a flowchart to check whether a person is eligible for voting or not. Age for\n",
    "#voting is 18 years.\n",
    "age=float(input('Enter the age of the voter:-'))\n",
    "if age>=18:\n",
    "    print('person is eligible for voting')\n",
    "else:\n",
    "    print('person is not eligible for voting')\n",
    "    "
   ]
  },
  {
   "cell_type": "code",
   "execution_count": 8,
   "id": "221decbb",
   "metadata": {},
   "outputs": [
    {
     "name": "stdout",
     "output_type": "stream",
     "text": [
      "enter the no.25\n",
      "Hello\n"
     ]
    }
   ],
   "source": [
    "#Construct a flowchart to display \"Hello\" if a number entered by the user is a multiple of\n",
    "#five , otherwise print \"Bye\".\n",
    "a=int(input('enter the no.'))\n",
    "if a%5==0:\n",
    "    print(\"Hello\")\n",
    "else:\n",
    "    print(\"Bye\")\n",
    "    "
   ]
  },
  {
   "cell_type": "code",
   "execution_count": 2,
   "id": "83fe862e",
   "metadata": {},
   "outputs": [
    {
     "name": "stdout",
     "output_type": "stream",
     "text": [
      "mark obtained in hindi by student 1 =30\n",
      "mark obtained in english by student 1 =40\n",
      "mark obtained in maths by student 1 =50\n",
      "mark obtained in sicence by student 1 =60\n",
      "mark obtained in computer by student 1 =60\n",
      "mark obtained in hindi by student 2 =50\n",
      "mark obtained in englishby student 2 =40\n",
      "mark obtained in maths by student 2 =50\n",
      "mark obtained in sicence by student 2 =40\n",
      "mark obtained in computer by student 2=40\n",
      "student1_mark is topper\n"
     ]
    }
   ],
   "source": [
    "# Construct a flowchart to input the marks of two students in 5 subjects and check who is the topper.\n",
    "#student1_mark\n",
    "h=int(input('mark obtained in hindi by student 1 ='))\n",
    "e=int(input('mark obtained in english by student 1 ='))\n",
    "m=int(input('mark obtained in maths by student 1 ='))\n",
    "s=int(input('mark obtained in sicence by student 1 ='))\n",
    "c=int(input('mark obtained in computer by student 1 ='))\n",
    "#student2_mark\n",
    "h1=int(input('mark obtained in hindi by student 2 ='))\n",
    "e1=int(input('mark obtained in englishby student 2 ='))\n",
    "m1=int(input('mark obtained in maths by student 2 ='))\n",
    "s1=int(input('mark obtained in sicence by student 2 ='))\n",
    "c1=int(input('mark obtained in computer by student 2='))\n",
    "total_mark_student1_mark=h+e+m+s+c\n",
    "total_mark_student2_mark=h1+e1+m1+s1+c1\n",
    "if total_mark_student1_mark>total_mark_student2_mark:\n",
    "    print('student1_mark is topper')\n",
    "else:\n",
    "    print('student1_mark is topper')\n",
    "\n",
    "\n",
    "\n"
   ]
  },
  {
   "cell_type": "code",
   "execution_count": 3,
   "id": "14e67505",
   "metadata": {},
   "outputs": [
    {
     "name": "stdout",
     "output_type": "stream",
     "text": [
      "enter the no.:-234\n",
      "given number is three digit\n"
     ]
    }
   ],
   "source": [
    "#Construct a flowchart to check whether a number entered is a three digit number or not.\n",
    "a=int(input('enter the no.:-'))\n",
    "if 100<=a<=999:\n",
    "    print('given number is three digit')\n",
    "else:\n",
    "    print('not')\n"
   ]
  },
  {
   "cell_type": "code",
   "execution_count": 6,
   "id": "f1ae7920",
   "metadata": {},
   "outputs": [
    {
     "name": "stdout",
     "output_type": "stream",
     "text": [
      "enter the age of senior60\n",
      "senior citizen \n"
     ]
    }
   ],
   "source": [
    "#Construct a flowchart to check whether a person is a senior citizen or not(Senior citizen Age=60).\n",
    "Age=int(input('enter the age of senior'))\n",
    "if Age<=60:\n",
    "    print('senior citizen ')\n",
    "else:\n",
    "    print('not')\n",
    "\n",
    "\n"
   ]
  },
  {
   "cell_type": "code",
   "execution_count": 7,
   "id": "11480522",
   "metadata": {},
   "outputs": [
    {
     "name": "stdout",
     "output_type": "stream",
     "text": [
      "enter the boiling point of water120\n",
      "water is boiling\n"
     ]
    }
   ],
   "source": [
    "#Accept the temperature in degrees Celsius of water and check whether it is boiling or\n",
    "#not (boiling point of water in 100oC).\n",
    "a=int(input('enter the boiling point of water'))\n",
    "if a>=100:\n",
    "    print('water is boiling')\n",
    "else:\n",
    "    print('not')"
   ]
  },
  {
   "cell_type": "code",
   "execution_count": 4,
   "id": "1dedba51",
   "metadata": {},
   "outputs": [
    {
     "name": "stdout",
     "output_type": "stream",
     "text": [
      "enter the number:-12\n",
      "enter the number:-3\n",
      "20\n"
     ]
    }
   ],
   "source": [
    "#Construct a flowchart to calculate the sum of two given integers. However, if the sum is\n",
    "#between 15 to 20 it will return 20\n",
    "a=int(input('enter the number:-'))\n",
    "b=int(input('enter the number:-'))\n",
    "sum=a+b\n",
    "if 15<=sum<=20:\n",
    "    print(20)\n",
    "else:\n",
    "    print('not')\n",
    "    "
   ]
  },
  {
   "cell_type": "code",
   "execution_count": 6,
   "id": "0c3c6c78",
   "metadata": {},
   "outputs": [
    {
     "name": "stdout",
     "output_type": "stream",
     "text": [
      "Enter the quantity: 1500\n",
      "135000.0\n"
     ]
    }
   ],
   "source": [
    "#A shop will give a discount of 10% if the cost of the purchased quantity is more than\n",
    "#1000. Ask the user for quantity, Suppose, one unit will cost 100. Judge and print total ost for the user.\n",
    "quantity = int(input(\"Enter the quantity: \"))\n",
    "unit_cost = 100\n",
    "total_cost = quantity * unit_cost\n",
    "if total_cost > 1000:\n",
    "        discount = 0.10 * total_cost\n",
    "        total_cost -= discount\n",
    "        print(total_cost)\n",
    "else:\n",
    "    ('not')\n",
    "\n"
   ]
  },
  {
   "cell_type": "code",
   "execution_count": 5,
   "id": "d490874c",
   "metadata": {},
   "outputs": [
    {
     "name": "stdout",
     "output_type": "stream",
     "text": [
      "enter the salary amount12000\n",
      "enter the year number6\n",
      "600.0\n"
     ]
    }
   ],
   "source": [
    "#A company decided to give a bonus of 5% to an employee if his/her year of service is more than 5 years. Ask users for their salary and year of service and print the net bonus amount.\n",
    "user_salary=int(input('enter the salary amount'))\n",
    "user_year=int(input('enter the year number'))\n",
    "if user_year>=5:\n",
    "    bonus_amount=user_salary*5/100\n",
    "    print(bonus_amount)\n",
    "else:\n",
    "    print('not')\n",
    "    "
   ]
  },
  {
   "cell_type": "code",
   "execution_count": null,
   "id": "1946fd5c",
   "metadata": {},
   "outputs": [],
   "source": [
    "#A student will not be allowed to sit in an exam if his/her attendance is less than\n",
    "#75%.Take following input from the user. Number of classes held. Number of classes\n",
    "#attended. And print, percentage of class attended. Is the student allowed to sit in the exam or not.\n",
    "\n"
   ]
  },
  {
   "cell_type": "code",
   "execution_count": 7,
   "id": "b2e2a52a",
   "metadata": {},
   "outputs": [
    {
     "name": "stdout",
     "output_type": "stream",
     "text": [
      "ENTER THE NUMBER36\n",
      "not\n"
     ]
    }
   ],
   "source": [
    "#A student will not be allowed to sit in an exam if his/her attendance is less than 75%.Take following input from the user. Number of classes held. Number of classes attended. And print, percentage of class attended. Is the student allowed to sit in the exam or not.\n",
    "n=int(input('ENTER THE NUMBER'))\n",
    "a=n%10\n",
    "if a==3:\n",
    "    print('ends with 3')\n",
    "elif a==7:\n",
    "    print('ends with 7')\n",
    "else:\n",
    "    print('not')\n",
    "    "
   ]
  },
  {
   "cell_type": "code",
   "execution_count": 9,
   "id": "39a57c0f",
   "metadata": {},
   "outputs": [
    {
     "name": "stdout",
     "output_type": "stream",
     "text": [
      "enter the number9\n",
      "enter the number0\n",
      "9\n"
     ]
    }
   ],
   "source": [
    "#Construct a flowchart to take two numbers as input and print their difference if the first number is greater than the second number, otherwise print their sum.\n",
    "a=int(input('enter the number'))\n",
    "b=int(input('enter the number'))\n",
    "if a>b:\n",
    "    diff=a-b\n",
    "    print(diff)\n",
    "else:\n",
    "    sum=a+b\n",
    "    print(sum)"
   ]
  },
  {
   "cell_type": "code",
   "execution_count": 10,
   "id": "91ae96e2",
   "metadata": {},
   "outputs": [
    {
     "name": "stdout",
     "output_type": "stream",
     "text": [
      "enter the numer12\n",
      "13\n"
     ]
    }
   ],
   "source": [
    "#Construct a flowchart to obtain a number N and increment its value by 1 if the number is divisible by 4, otherwise, decrement its value by 1.\n",
    "N=int(input('enter the numer'))\n",
    "if N%4==0:\n",
    "    increase=N+1\n",
    "    print(increase)\n",
    "else:\n",
    "    diff=N-1\n",
    "    print(diff)"
   ]
  },
  {
   "cell_type": "code",
   "execution_count": 15,
   "id": "68e01bc8",
   "metadata": {},
   "outputs": [
    {
     "name": "stdout",
     "output_type": "stream",
     "text": [
      "enter the number12\n",
      "enter the number6\n",
      "Enter the arithmetic operator (+, -, *, /): /\n",
      "2.0\n"
     ]
    }
   ],
   "source": [
    "#Construct a flowchart to obtain 2 numbers (A and B) and an arithmetic operator (C) and then design a calculator depending upon the operator entered by the user.\n",
    "a=int(input('enter the number'))\n",
    "b=int(input('enter the number'))\n",
    "c = input(\"Enter the arithmetic operator (+, -, *, /): \")\n",
    "if c==\"+\":\n",
    "    print(a+b)\n",
    "elif c=='-':\n",
    "    print(a-b)\n",
    "elif c=='*':\n",
    "    print(a*b)\n",
    "elif c==\"/\":\n",
    "    if b!=0:\n",
    "        print(a/b)\n",
    "else:\n",
    "    print(\"Invalid operator. Something went wrong.\")\n",
    "    "
   ]
  },
  {
   "cell_type": "code",
   "execution_count": 17,
   "id": "ad92dd05",
   "metadata": {},
   "outputs": [
    {
     "name": "stdout",
     "output_type": "stream",
     "text": [
      "enter the length of rectangle11\n",
      "enter the breadth of rectangle2\n",
      "perimeter is greater\n"
     ]
    }
   ],
   "source": [
    "#Construct a flowchart to obtain the length (L) and breadth (B) of a rectangle and check whether its area is greater or perimeter is greater or both are equal.\n",
    "a=float(input('enter the length of rectangle'))\n",
    "b=float(input('enter the breadth of rectangle'))\n",
    "area=a*b\n",
    "perimeter=2*(a+b)\n",
    "if area==perimeter:\n",
    "    print('both is equal')\n",
    "elif perimeter<area:\n",
    "    print('area is greater')\n",
    "else:\n",
    "    print('perimeter is greater')"
   ]
  },
  {
   "cell_type": "code",
   "execution_count": 20,
   "id": "242885b2",
   "metadata": {},
   "outputs": [
    {
     "name": "stdout",
     "output_type": "stream",
     "text": [
      "enter the number:-123\n",
      "three digit number\n"
     ]
    }
   ],
   "source": [
    "#Construct a flowchart to check if a given number is one digit or two digit or three digits or more than three digits.\n",
    "a=int(input('enter the number:-'))\n",
    "if 1<=a<10:\n",
    "    print ('one digit number')\n",
    "elif 10<=a<100:\n",
    "    print('two digit number')\n",
    "elif 100<=a<1000:\n",
    "    print('three digit number')\n",
    "else:\n",
    "    print('more than three digit number')\n",
    "    "
   ]
  },
  {
   "cell_type": "code",
   "execution_count": 21,
   "id": "6c29bd0d",
   "metadata": {},
   "outputs": [
    {
     "name": "stdout",
     "output_type": "stream",
     "text": [
      "enter the number12\n",
      "month is 31 days\n"
     ]
    }
   ],
   "source": [
    "#Construct a flowchart to input the month number and print the number of days in that month\n",
    "month=int(input('enter the number'))\n",
    "if month in [1, 3, 5, 7, 8, 10, 12]:\n",
    "    print('month is 31 days')\n",
    "elif month== 2:\n",
    "    print('month is 28 or 29')\n",
    "elif month in [4,6,9,11]:\n",
    "    print('month is 30d days')\n",
    "else:\n",
    "    print('invalid')\n"
   ]
  },
  {
   "cell_type": "code",
   "execution_count": 22,
   "id": "b6c51468",
   "metadata": {},
   "outputs": [
    {
     "name": "stdout",
     "output_type": "stream",
     "text": [
      "enter the number :--1\n",
      "number is negative\n"
     ]
    }
   ],
   "source": [
    "#Construct a flowchart to check whether a number is negative, positive or zero\n",
    "a=int(input('enter the number :-'))\n",
    "if a<0:\n",
    "    print('number is negative')\n",
    "elif a>0:\n",
    "    print('number is positive')\n",
    "elif a==0:\n",
    "    print('number is zero')"
   ]
  },
  {
   "cell_type": "code",
   "execution_count": null,
   "id": "d1df0608",
   "metadata": {},
   "outputs": [],
   "source": [
    "#Accept any city from the user and display the monument of that city.\n",
    "#City Monument\n",
    "#Delhi Red Fort\n",
    "#Agra Taj Mahal\n",
    "#Jaipur Jal Mahal\n",
    "x=input(\"enter city name to know monuments:-\")\n",
    "x.upper()\n",
    "if x=='delhi':\n",
    "    print(\"red fort\")\n",
    "elif x=='agra':\n",
    "    print(\"taj mahal\")\n",
    "elif x=='jaipur':\n",
    "    print('jal mahal')\n",
    "else:\n",
    "    print('invalid')\n",
    "      \n"
   ]
  },
  {
   "cell_type": "code",
   "execution_count": 4,
   "id": "74016e69",
   "metadata": {},
   "outputs": [
    {
     "name": "stdout",
     "output_type": "stream",
     "text": [
      "enter the physics mark:-70\n",
      "enter the chemistry mark:-80\n",
      "enter the biology mark:-50\n",
      "enter the mathematics mark:-60\n",
      "enter the computer mark:-70\n",
      "Grade E\n"
     ]
    }
   ],
   "source": [
    "#Construct a flowchart to input marks of five subjects Physics, Chemistry, Biology,\n",
    "#Mathematics and Computer. Calculate percentage and grade according to following:\n",
    "#Percentage >= 90% : Grade A\n",
    "#Percentage >= 80% : Grade B\n",
    "#Percentage >= 70% : Grade C\n",
    "#Percentage >= 60% : Grade D\n",
    "#Percentage >= 40% : Grade E\n",
    "#Percentage < 40% : Grade F\n",
    "p=int(input('enter the physics mark:-'))\n",
    "c=int(input('enter the chemistry mark:-'))\n",
    "b=int(input('enter the biology mark:-'))\n",
    "m=int(input('enter the mathematics mark:-'))\n",
    "c=int(input('enter the computer mark:-'))\n",
    "obtained_mark=p+c+b+m+c\n",
    "Total_mark=600\n",
    "percentage=obtained_mark/Total_mark*100\n",
    "if percentage >= 90:\n",
    "    print('Grade A')\n",
    "elif percentage >= 80:\n",
    "    print('Grade B')\n",
    "elif percentage >= 70:\n",
    "    print('Grade C')\n",
    "elif percentage >= 60:\n",
    "    print('Grade D')\n",
    "elif percentage >= 40:\n",
    "    print('Grade E')\n",
    "elif percentage >= 40:\n",
    "    print('Grade F')\n",
    "else:\n",
    "    print('invalid')\n",
    "    \n",
    "\n",
    "\n"
   ]
  },
  {
   "cell_type": "code",
   "execution_count": 15,
   "id": "8d27a105",
   "metadata": {},
   "outputs": [
    {
     "name": "stdout",
     "output_type": "stream",
     "text": [
      "enter the salary200000\n",
      "450000.0\n"
     ]
    }
   ],
   "source": [
    "#Construct a flowchart to input basic salary of an employee and calculate its Gross salary\n",
    "#according to following:\n",
    "#Basic Salary <= 10000 : HRA = 20%, DA = 80%\n",
    "#Basic Salary <= 20000 : HRA = 25%, DA = 90%\n",
    "#Basic Salary > 20000 : HRA = 30%, DA = 95%\n",
    "basic_salary=int(input('enter the salary'))\n",
    "if basic_salary<=1000:\n",
    "    hra_percentage=20\n",
    "    da_percentage=80\n",
    "elif basic_salary<=20000:\n",
    "     hra_percentage=25\n",
    "     da_percentage=90\n",
    "else:\n",
    "     hra_percentage=30\n",
    "     da_percentage=95\n",
    "hra = (hra_percentage / 100) * basic_salary\n",
    "da = (da_percentage / 100) * basic_salary\n",
    "gross_salary = basic_salary + hra + da    \n",
    "    \n",
    "print(gross_salary)"
   ]
  },
  {
   "cell_type": "code",
   "execution_count": 1,
   "id": "8648bb88",
   "metadata": {},
   "outputs": [
    {
     "name": "stdout",
     "output_type": "stream",
     "text": [
      "enter the roll number3\n",
      "Not a group leader\n"
     ]
    }
   ],
   "source": [
    "#A teacher has divided her classroom into groups of 5 based on their roll numbers. The\n",
    "#last roll number of each group has been elected as the leader of the group who will\n",
    "#manage the tasks performed by the group. Write a program for the teacher to enter the\n",
    "#roll number of the student and check if he/she is a Group Leader or not?\n",
    "roll_number=int(input('enter the roll number'))\n",
    "if roll_number%5==0:\n",
    "    print('Group leader')\n",
    "else:\n",
    "    print('Not a group leader')"
   ]
  },
  {
   "cell_type": "code",
   "execution_count": 18,
   "id": "9166a06b",
   "metadata": {},
   "outputs": [
    {
     "name": "stdout",
     "output_type": "stream",
     "text": [
      "enter the height in inches68\n",
      "she allowed to ride\n"
     ]
    }
   ],
   "source": [
    "#Roller Coasters require children to have a minimum height of 5 feet. Any child below this\n",
    "#height is generally not allowed on them. Write a program to accept a child’s height in\n",
    "#inches and display if he or she will be allowed to ride or not.\n",
    "a=int(input('enter the height in inches'))\n",
    "minimum_height=60\n",
    "if a>=minimum_height:\n",
    "    print('she allowed to ride')\n",
    "else:\n",
    "    print('she is not allowed to ride')"
   ]
  },
  {
   "cell_type": "code",
   "execution_count": 16,
   "id": "cbf88b78",
   "metadata": {},
   "outputs": [
    {
     "name": "stdout",
     "output_type": "stream",
     "text": [
      "enter the price20000000\n",
      "3000000.0\n"
     ]
    }
   ],
   "source": [
    "#Construct a flowchart to accept the cost price of a bike and display the road tax to be\n",
    "#paid according to the following criteria :\n",
    "#a. Cost price (in Rs) Tax\n",
    "#b. > 100000 15 %\n",
    "#c. > 50000 and <= 100000 10%\n",
    "#d. <= 50000 5%\n",
    "cost_price=int(input('enter the price'))\n",
    "if cost_price>100000:\n",
    "    tax=15\n",
    "elif cost_price>50000:\n",
    "    tax=10\n",
    "else:\n",
    "    tax=5\n",
    "road_tax=(tax/100)*cost_price\n",
    "print(road_tax)\n",
    "    "
   ]
  },
  {
   "cell_type": "markdown",
   "id": "586af117",
   "metadata": {},
   "source": [
    "# IF-ELSE 3rd ASSIGNMENT"
   ]
  },
  {
   "cell_type": "code",
   "execution_count": 10,
   "id": "026168f8",
   "metadata": {},
   "outputs": [
    {
     "name": "stdout",
     "output_type": "stream",
     "text": [
      "enter the number12\n",
      "enter the number23\n",
      "enter the number45\n",
      "c is greater\n"
     ]
    }
   ],
   "source": [
    "#1.Construct a flowchart to find a maximum between three numbers. (Use minimum number of comparisons)\n",
    "a=int(input('enter the number'))\n",
    "b=int(input('enter the number'))\n",
    "c=int(input('enter the number'))\n",
    "if a>=b:\n",
    "    if a>=c:\n",
    "        print('a is greater')\n",
    "else:\n",
    "    if b>=c:\n",
    "        print('b is greater')\n",
    "    else:\n",
    "        print('c is greater')\n",
    "            \n",
    "        "
   ]
  },
  {
   "cell_type": "code",
   "execution_count": 5,
   "id": "16c4de02",
   "metadata": {},
   "outputs": [
    {
     "name": "stdout",
     "output_type": "stream",
     "text": [
      "Enter the year: 2023\n",
      "Enter the month: 12\n",
      "Enter the day: 31\n",
      "valid day\n"
     ]
    }
   ],
   "source": [
    "#Validate a given year. (Hints. The year in the date must be greater than zero, the months must lie between 1 and 12, and the days must lie between 1 and 31, depending on the month numbers.\n",
    "year = int(input(\"Enter the year: \"))\n",
    "month = int(input(\"Enter the month: \"))\n",
    "day = int(input(\"Enter the day: \"))\n",
    "if year>0:\n",
    "    if 1<=month<=12:\n",
    "        if month==2:\n",
    "            if 1<=day<=29:\n",
    "                print('valid day')\n",
    "            else:\n",
    "                print('invalid day')\n",
    "        elif month==4 or month==6 or month==9 or month==11:\n",
    "            if 1<=day<30:\n",
    "                print('valid day')\n",
    "            else:\n",
    "                print('valid day')\n",
    "        else:\n",
    "            print('valid day')\n",
    "else:\n",
    "    print('invalid day')\n",
    "            "
   ]
  },
  {
   "cell_type": "code",
   "execution_count": 6,
   "id": "a832f201",
   "metadata": {},
   "outputs": [
    {
     "name": "stdout",
     "output_type": "stream",
     "text": [
      "enter the electric unit charge300\n",
      "624.0\n"
     ]
    }
   ],
   "source": [
    "#Construct a flowchart to input electricity unit charges and calculate the total electricity bill according to the given condition:\n",
    "#For the first 50 units Rs. 0.50/unit\n",
    "#For next 100 units Rs. 0.75/unit\n",
    "#For the next 100 units Rs. 1.20/unit\n",
    "#For unit above 250 Rs. 1.50/unit\n",
    "#An additional surcharge of 20% is added to the bill\n",
    "unit=int(input('enter the electric unit charge'))\n",
    "if unit<=50:\n",
    "    cost=unit*0.50\n",
    "elif unit<=150:\n",
    "    cost=50*0.50+(unit-50)*0.75\n",
    "elif unit<250:\n",
    "    cost=50*0.50+100*0.75+(unit-100)*1.20\n",
    "else:\n",
    "    cost=50*0.50+100*0.75+100*1.20+(unit-100)*1.50\n",
    "surcharges=cost*20/100\n",
    "Total_charges=cost+surcharges\n",
    "print(Total_charges)\n",
    "    \n",
    "    \n",
    "    \n"
   ]
  },
  {
   "cell_type": "code",
   "execution_count": null,
   "id": "da1a709b",
   "metadata": {},
   "outputs": [],
   "source": []
  },
  {
   "cell_type": "code",
   "execution_count": 4,
   "id": "63871a86",
   "metadata": {},
   "outputs": [
    {
     "name": "stdout",
     "output_type": "stream",
     "text": [
      "Enter age: 19\n",
      "Enter gender (M/F): male\n",
      "Enter number of days: 12\n",
      "8400\n"
     ]
    }
   ],
   "source": [
    "#Accept the age, gender (‘M’, ‘F’), and the number of days and display the wages accordingly\n",
    "#If the age does not fall in any range then display the following message: “Enter\n",
    "#appropriate age”\n",
    "#Age Sex Wage/day\n",
    "#>=18 and <30 \n",
    "#M 700\n",
    "#F 750\n",
    "#>=30 and <=40 \n",
    "#M 800\n",
    "#F 85\n",
    "age = int(input(\"Enter age: \"))\n",
    "gender = input(\"Enter gender (M/F): \")\n",
    "days = int(input(\"Enter number of days: \"))\n",
    "if 18<=age<=30:\n",
    "    if gender=='male':\n",
    "        wage_per_day=700\n",
    "        total_wages = days * wage_per_day\n",
    "        print(total_wages)\n",
    "    elif gender=='female':\n",
    "        wage_per_day=750\n",
    "        total_wages = days * wage_per_day\n",
    "        print(total_wages)\n",
    "    else:\n",
    "        print('invalid')\n",
    "elif 30<=age<=40:\n",
    "    if gender=='male':\n",
    "        wage_per_day=800\n",
    "        total_wages = days * wage_per_day      \n",
    "        print(total_wages)\n",
    "    elif gender=='female':\n",
    "        wage_per_day=85\n",
    "        total_wages = days * wage_per_day      \n",
    "        print(total_wages)\n",
    "else:\n",
    "    print('invalid')\n",
    "        \n"
   ]
  },
  {
   "cell_type": "code",
   "execution_count": 14,
   "id": "22154b74",
   "metadata": {},
   "outputs": [
    {
     "name": "stdout",
     "output_type": "stream",
     "text": [
      "Enter the number of units: 123\n",
      "0\n"
     ]
    }
   ],
   "source": [
    "#Construct a flowchart to calculate the electricity bill (Accept the number of units from the user) according to the following criteria:\n",
    "#Unit Price\n",
    "#First 100 units no charge\n",
    "#Next 100 units Rs 5 per unit\n",
    "#After 200 units Rs 10 per unit\n",
    "#(For example if input unit is 350 then total bill amount is Rs2000)\n",
    "units = int(input(\"Enter the number of units: \"))\n",
    "total_bill=0\n",
    "if units > 100:\n",
    "    total_bill += (units - 100) * 0\n",
    "    print(total_bill)\n",
    "elif units > 200:\n",
    "    total_bill += (units - 200) * 5\n",
    "    print(total_bill)\n",
    "elif units > 300:\n",
    "    total_bill += (units - 300) * 10\n",
    "    print(total_bill)\n",
    "else:\n",
    "    print('invalid')\n",
    "    \n",
    "    "
   ]
  },
  {
   "cell_type": "code",
   "execution_count": 16,
   "id": "dfd89d3a",
   "metadata": {},
   "outputs": [
    {
     "name": "stdout",
     "output_type": "stream",
     "text": [
      "enter the number15\n",
      "45\n"
     ]
    }
   ],
   "source": [
    "#Accept the number of days from the user and calculate the charge for the library according to the following:\n",
    "#First five days: Rs 2/day.\n",
    "#Next 5 days: Rs 3/day.\n",
    "#Next 5 days: Rs 4/day\n",
    "#After 15 days: Rs 5/day\n",
    "days=int(input('enter the number'))\n",
    "total_charges=0\n",
    "if days<=5:\n",
    "    total_charge = days * 2\n",
    "    print(total_charge)\n",
    "elif days<=10:\n",
    "    total_charge = (5 * 2) + (days - 5) * 3\n",
    "    print(total_charge)\n",
    "elif days<=15:\n",
    "    total_charge =(5*2)+(5*3)+(days-10)*4\n",
    "    print(total_charge)\n",
    "else:\n",
    "    total_charges=(5*2)+(5*3)+(5*4)+(days-15)*5\n",
    "    print(total_charge)\n"
   ]
  },
  {
   "cell_type": "code",
   "execution_count": 11,
   "id": "206d66b5",
   "metadata": {},
   "outputs": [
    {
     "name": "stdout",
     "output_type": "stream",
     "text": [
      "enter the number2000\n",
      "1\n"
     ]
    }
   ],
   "source": [
    "#You have denominations of rupee notes in the following form—1, 2, 5, 10, 20, 100, 200, 500, 2000. Take any amount from the user and print the minimum number of notes needed to add up to that number.\n",
    "a=int(input('enter the number'))\n",
    "l=m=n=o=p=q=r=s=t=0\n",
    "if a >=2000:\n",
    "    l=a//2000\n",
    "    a=a%2000\n",
    "if a>=500:\n",
    "    m=a//500\n",
    "    a=a%500\n",
    "if a>=200:\n",
    "    n=a//200\n",
    "    a=a%200\n",
    "if a>=100:\n",
    "    o=a//100\n",
    "    a=a%100\n",
    "if a>=20:\n",
    "    p=a//20\n",
    "    a=a%20\n",
    "if a>=10:\n",
    "    q=a//10\n",
    "    a=a%10\n",
    "if a>=5:\n",
    "    r=a//5\n",
    "    a=a%5\n",
    "if a>=2:\n",
    "    s=a//2\n",
    "    a=a%2\n",
    "if a>=1:\n",
    "    t=a//1\n",
    "    a=a%1\n",
    "    \n",
    "    \n",
    "Total=l+m+n+o+p+q+r+s+t\n",
    "print(Total)\n",
    "    \n",
    "    \n",
    "    \n",
    "    "
   ]
  },
  {
   "cell_type": "code",
   "execution_count": 18,
   "id": "26419ed2",
   "metadata": {},
   "outputs": [
    {
     "name": "stdout",
     "output_type": "stream",
     "text": [
      "enter the length3\n",
      "enter the length4\n",
      "enter the length3\n",
      "enter the length4\n",
      "enter the angle90\n",
      "rectangle\n"
     ]
    }
   ],
   "source": [
    "#Construct a flowchart to categorize the shape of a quadrilateral as either a square, rhombus, rectangle, parallelogram, or irregular quadrilateral, having input the lengths of the four sides and one internal angle.\n",
    "a=float(input('enter the length'))\n",
    "b=float(input('enter the length'))\n",
    "c=float(input('enter the length'))\n",
    "d=float(input('enter the length'))\n",
    "angle=int(input('enter the angle'))\n",
    "\n",
    "if a==b==c==d :\n",
    "    if angle==90:\n",
    "        print('square')\n",
    "    else:\n",
    "        print('rohmbus')\n",
    "elif a==c and  b==d:\n",
    "    if angle==90:\n",
    "        print('rectangle')\n",
    "    else :\n",
    "        print('parallelogram')\n",
    "else:\n",
    "    print('irregular quadrilateral')\n",
    "\n",
    "        \n",
    "\n",
    "\n",
    " "
   ]
  },
  {
   "cell_type": "code",
   "execution_count": 24,
   "id": "53a4634b",
   "metadata": {},
   "outputs": [
    {
     "name": "stdout",
     "output_type": "stream",
     "text": [
      "enter the number50\n",
      "enter the number50\n",
      "pass\n"
     ]
    }
   ],
   "source": [
    "#The grades in a certain class are determined by coursework and a written examination.\n",
    "#Both components of the assessment carry a maximum of 50 points.\n",
    "#(i) A student must score a total of 45% or more in order to pass\n",
    "#(ii) A total grade of 44% is moderated to 45%\n",
    "#(iii) Each component must be passed with a minimum of 20 points\n",
    "#(iv) If a student scores 45% or more, but does not achieve the minimum grade in\n",
    "#one component, he is given a technical fail of 44%, which is not moderated to 45%.\n",
    "#Print whether the student has passed or failed and also the course total.\n",
    "coursework_examination=float(input('enter the number'))\n",
    "written_examination=float(input('enter the number'))\n",
    "p=(coursework_examination+written_examination)/100*100\n",
    "if coursework_examination>=20:\n",
    "    if written_examination>=20:\n",
    "        if p>=45:\n",
    "            print('pass')\n",
    "        elif p>=44:\n",
    "            print('moderate')\n",
    "        else:\n",
    "            print('fail')\n",
    "    else:\n",
    "        print('technical fail')\n",
    "elif p>=45:\n",
    "    print('technical fail')\n",
    "else:\n",
    "    print('fail')\n",
    "    \n",
    "        "
   ]
  },
  {
   "cell_type": "code",
   "execution_count": 28,
   "id": "d52fde12",
   "metadata": {},
   "outputs": [
    {
     "name": "stdout",
     "output_type": "stream",
     "text": [
      "enter the salary amount1500\n",
      "1600.15\n"
     ]
    }
   ],
   "source": [
    "#The following rules are used to calculate the bonus for the employees of an organization.\n",
    "#(i) If the pay is more than $3,000, the bonus amount is fixed, and it is equal to $300.\n",
    "#(ii) If the pay is more than $1,600, but less than or equal to $3,000, the bonus will be 10% of the pay subject to a maximum of $240.\n",
    "#(iii) If the pay is less than or equal to $1,600, the bonus is 15% of pay, subject to a minimum of $100.\n",
    "s=int(input('enter the salary amount'))\n",
    "if s>3000:\n",
    "    Total_salary=s+300\n",
    "    print(Total_salary)\n",
    "elif 1600<=s<=3000:\n",
    "        Total_salary=s+10/100+240\n",
    "        print(Total_salary)\n",
    "else:\n",
    "        Total_salary=s+15/100+100\n",
    "        print(Total_salary)\n",
    "        "
   ]
  },
  {
   "cell_type": "code",
   "execution_count": 1,
   "id": "f5349de5",
   "metadata": {},
   "outputs": [
    {
     "name": "stdout",
     "output_type": "stream",
     "text": [
      "enter the Rockwell-hardness=a,:-55\n",
      "enter the Carbon content=b,:-34\n",
      "enter the Tensile strength=c,:-5680\n",
      "Grade 10\n"
     ]
    }
   ],
   "source": [
    "#A certain steel is graded according to the following conditions:\n",
    "#(i) Rockwell-hardness > 50\n",
    "#(ii) Carbon content > 0.7\n",
    "#(iii) Tensile strength > 5600 kg/cm2\n",
    "#a. Grade 10, if all the conditions are satisfied\n",
    "#b. Grade 9, if conditions (i) and (ii) are satisfied\n",
    "#c. Grade 8, if conditions (ii) and (iii) are satisfied\n",
    "#d. Grade 7, if conditions (i) and (iii) are satisfied\n",
    "#e. Grade 0, otherwise\n",
    "a=int(input('enter the Rockwell-hardness=a,:-'))\n",
    "b=int(input('enter the Carbon content=b,:-'))\n",
    "c=int(input('enter the Tensile strength=c,:-'))\n",
    "a>50\n",
    "b>0.7\n",
    "c>5600\n",
    "if a>50 and b>0.7 and c>5600:\n",
    "    print('Grade 10')\n",
    "elif a>50 and b>0.7:\n",
    "    print('Grade 9')\n",
    "elif b>0.7 and c>5600:\n",
    "    print('Grade 8')\n",
    "elif a>50 and c>5600:\n",
    "    print('Grade 7')\n",
    "else:\n",
    "    print('Grade 0')"
   ]
  },
  {
   "cell_type": "code",
   "execution_count": 4,
   "id": "09aad312",
   "metadata": {},
   "outputs": [
    {
     "name": "stdout",
     "output_type": "stream",
     "text": [
      "enter the year2024\n",
      "leap year\n"
     ]
    }
   ],
   "source": [
    "#Find whether a given year is a leap year.\n",
    "#(Hint. A year is said to be a leap year if it is either divisible by 4 but not by 100 or divisible by 400.)\n",
    "year=int(input('enter the year'))\n",
    "if year%4==0 or year%400==0 or year%100!=0:\n",
    "    print('leap year')\n",
    "else:\n",
    "    print('not a leap year')\n",
    "    \n",
    "    \n",
    "        \n",
    "   \n",
    "        "
   ]
  },
  {
   "cell_type": "code",
   "execution_count": 9,
   "id": "83c031ec",
   "metadata": {},
   "outputs": [
    {
     "name": "stdout",
     "output_type": "stream",
     "text": [
      "enter the number23\n",
      "none\n"
     ]
    }
   ],
   "source": [
    "#Write a program to check if the given number is divisible by 5, 11, both or none.\n",
    "#a. If it is divisible by 5 then print 5\n",
    "#b. If it is divisible by 11 then print 11\n",
    "#c. If it is divisible by 5 and 11 then print “Both”\n",
    "#d. If it is not divisible by 5 and 11 then print “None”\n",
    "a=int(input('enter the number'))\n",
    "if a%5==0 and a%11==0:\n",
    "    print(\"both\")\n",
    "elif a%5==0:\n",
    "    print(5)\n",
    "elif a%11==0:\n",
    "    print(11)\n",
    "else:\n",
    "    print('none')"
   ]
  },
  {
   "cell_type": "code",
   "execution_count": 13,
   "id": "a4ffe7db",
   "metadata": {},
   "outputs": [
    {
     "name": "stdout",
     "output_type": "stream",
     "text": [
      "enter the number:-00\n",
      "enter the number:-00\n",
      "enter the number:-00\n",
      "0\n"
     ]
    }
   ],
   "source": [
    "#Find the second max of 3 numbers.\n",
    "a=int(input('enter the number:-'))\n",
    "b=int(input('enter the number:-'))\n",
    "c=int(input('enter the number:-'))\n",
    "if a>b:\n",
    "    max=a\n",
    "    smax=b\n",
    "else:\n",
    "    max=b\n",
    "    smax=a\n",
    "if c>max:\n",
    "    max1=c\n",
    "    smax1=max\n",
    "else:\n",
    "    max1=max\n",
    "    smax1=c\n",
    "if smax>smax1:\n",
    "    print(smax)\n",
    "else:\n",
    "    print(smax1)\n",
    "    "
   ]
  },
  {
   "cell_type": "code",
   "execution_count": 19,
   "id": "5643bf16",
   "metadata": {},
   "outputs": [
    {
     "name": "stdout",
     "output_type": "stream",
     "text": [
      "enter the number:-9\n",
      "enter the number:-8\n",
      "enter the number:-6\n",
      "enter the number:-7\n",
      "8\n"
     ]
    }
   ],
   "source": [
    "# Find the second max of 4 numbers\n",
    "a=int(input('enter the number:-'))\n",
    "b=int(input('enter the number:-'))\n",
    "c=int(input('enter the number:-'))\n",
    "d=int(input('enter the number:-'))\n",
    "if a>b:\n",
    "    max=a\n",
    "    smax=b\n",
    "else:\n",
    "    max=b\n",
    "    smax=a\n",
    "if c>d:\n",
    "    max1=c\n",
    "    smax1=d\n",
    "else:\n",
    "    max1=d\n",
    "    smax1=c\n",
    "if max>max1:\n",
    "    if max1>smax:\n",
    "        print(max1)\n",
    "    else:\n",
    "        print(smax)\n",
    "else:\n",
    "    if max>smax1:\n",
    "        print(max)\n",
    "    else:\n",
    "        print(smax1)\n",
    "    \n",
    "    "
   ]
  },
  {
   "cell_type": "code",
   "execution_count": 22,
   "id": "5e7c3d26",
   "metadata": {},
   "outputs": [
    {
     "name": "stdout",
     "output_type": "stream",
     "text": [
      "enter the number:-1\n",
      "enter the number:-2\n",
      "enter the number:-3\n",
      "enter the number:-4\n",
      "2\n"
     ]
    }
   ],
   "source": [
    "#Find the third max of 4 numbers.]\n",
    "a=int(input('enter the number:-'))\n",
    "b=int(input('enter the number:-'))\n",
    "c=int(input('enter the number:-'))\n",
    "d=int(input('enter the number:-'))\n",
    "if a<b:\n",
    "    min=a\n",
    "    smin=b\n",
    "else:\n",
    "    min=b\n",
    "    smin=a\n",
    "if c<d:\n",
    "    min1=c\n",
    "    smin1=d\n",
    "else:\n",
    "    min1=d\n",
    "    smin1=c\n",
    "if min<min1:\n",
    "    if min1<smin:\n",
    "        print(min1)\n",
    "    else:\n",
    "        print(smin)\n",
    "else:\n",
    "    if min<smin1:\n",
    "        print(min)\n",
    "    else:\n",
    "        print(smin1)"
   ]
  },
  {
   "cell_type": "markdown",
   "id": "28cfd601",
   "metadata": {},
   "source": [
    "# LOOP ASSIGNMENT"
   ]
  },
  {
   "cell_type": "code",
   "execution_count": 24,
   "id": "fa4c2881",
   "metadata": {},
   "outputs": [
    {
     "name": "stdout",
     "output_type": "stream",
     "text": [
      "enter the number5\n",
      "15\n"
     ]
    }
   ],
   "source": [
    "#Draw a flowchart to find the sum of the first n natural numbers, where n is any given integer.\n",
    "n=int(input('enter the number'))\n",
    "i=1\n",
    "sum=0\n",
    "while i<=n:\n",
    "    sum+=i\n",
    "    i+=1\n",
    "print(sum)   \n"
   ]
  },
  {
   "cell_type": "code",
   "execution_count": 36,
   "id": "ba7faae7",
   "metadata": {},
   "outputs": [
    {
     "name": "stdout",
     "output_type": "stream",
     "text": [
      "enter n number:-30\n",
      "240\n"
     ]
    }
   ],
   "source": [
    "#Draw a flowchart to find the sum of the first 15 even natural numbers.\n",
    "n=int(input(\"enter n number:-\"))\n",
    "i=2\n",
    "sum=0\n",
    "while i<=n:\n",
    "    if i%2==0:\n",
    "        sum=sum+i\n",
    "    i+=2\n",
    "        \n",
    "print(sum)"
   ]
  },
  {
   "cell_type": "code",
   "execution_count": 4,
   "id": "88cd87ce",
   "metadata": {},
   "outputs": [
    {
     "name": "stdout",
     "output_type": "stream",
     "text": [
      "enter the number10\n",
      "30\n"
     ]
    }
   ],
   "source": [
    "#Construct a flowchart to show how consecutive even numbers starting from 2 are summed up until the sum just exceeds 1000 and then show the sum and the number of even numbers added.\n",
    "n=int(input(\"enter the number\"))\n",
    "i=2\n",
    "sum=0\n",
    "for i in range(2,n+1):\n",
    "    if i%2==0:\n",
    "        sum+=i\n",
    "    i+=1\n",
    "print(sum)    "
   ]
  },
  {
   "cell_type": "code",
   "execution_count": null,
   "id": "dfaa2284",
   "metadata": {},
   "outputs": [],
   "source": [
    "#Construct a flowchart to print the numbers below 100 that are divisible by 7.\n",
    "i=1\n",
    "while i<100:\n",
    "    if i%7==0:\n",
    "        print(i)\n",
    "        i+=1"
   ]
  },
  {
   "cell_type": "code",
   "execution_count": 3,
   "id": "1f7b082e",
   "metadata": {},
   "outputs": [
    {
     "name": "stdout",
     "output_type": "stream",
     "text": [
      "enter n namber:- 5\n",
      "120\n"
     ]
    }
   ],
   "source": [
    "#Construct a flowchart to show how to find the product of n natural numbers.\n",
    "\n",
    "n=int(input(\"enter n namber:- \"))\n",
    "p=1\n",
    "\n",
    "for i in range(1,n+1):\n",
    "    p=p*i\n",
    "    \n",
    "    \n",
    "print(p)\n",
    "\n",
    "    "
   ]
  },
  {
   "cell_type": "code",
   "execution_count": null,
   "id": "130a38e9",
   "metadata": {},
   "outputs": [],
   "source": []
  },
  {
   "cell_type": "code",
   "execution_count": 8,
   "id": "7a096af1",
   "metadata": {},
   "outputs": [
    {
     "name": "stdout",
     "output_type": "stream",
     "text": [
      "4\n"
     ]
    }
   ],
   "source": [
    "a=[2,3,4,5]\n",
    "max_value=max([x for x in a if x%2==0])\n",
    "\n",
    "print(max_value)"
   ]
  },
  {
   "cell_type": "code",
   "execution_count": null,
   "id": "26823527",
   "metadata": {},
   "outputs": [],
   "source": [
    "#Draw a flowchart to show how to find all even natural numbers that are divisible by 7 in\n",
    "#a given range. (Input lower and upper limit of the range from the user)\n",
    "lower_limit=int(input(\"enter the number\"))\n",
    "upper_limit=int(input(\"enter the number\"))\n",
    "i=lower_limit\n",
    "while i<=upper_limit:\n",
    "    if i%2==0:\n",
    "        if i%7==0:\n",
    "            print(i)           \n",
    "        else:\n",
    "            print(\"invalid\")"
   ]
  },
  {
   "cell_type": "code",
   "execution_count": 2,
   "id": "9fe64eea",
   "metadata": {},
   "outputs": [
    {
     "name": "stdout",
     "output_type": "stream",
     "text": [
      "enter the number12\n",
      "enter the number24\n",
      "14\n"
     ]
    }
   ],
   "source": [
    "LL=int(input(\"enter the number\"))\n",
    "UL=int(input(\"enter the number\"))\n",
    "i=LL\n",
    "for i in range(LL,UL+1):\n",
    "    if i%2==0 and i%7==0:\n",
    "        \n",
    "\n",
    "        print(i)\n",
    "i+=1\n",
    "        \n",
    "    "
   ]
  },
  {
   "cell_type": "code",
   "execution_count": 5,
   "id": "bf5216c9",
   "metadata": {},
   "outputs": [
    {
     "name": "stdout",
     "output_type": "stream",
     "text": [
      "enter the number:-9\n",
      "126\n"
     ]
    }
   ],
   "source": [
    "#Construct a flowchart to find the sum of the squares of the first 9 natural numbers that are divisible by 3.\n",
    "a=int(input('enter the number:-'))\n",
    "i=1\n",
    "sum=0\n",
    "for i in range(1,a+1):\n",
    "    if i%3==0:\n",
    "        p=i**2\n",
    "        sum=sum+p\n",
    "        \n",
    "i+=1\n",
    "print(sum)"
   ]
  },
  {
   "cell_type": "code",
   "execution_count": 14,
   "id": "8a795b62",
   "metadata": {},
   "outputs": [
    {
     "name": "stdout",
     "output_type": "stream",
     "text": [
      "enter the number ,a :-90\n",
      "5.082570602848516\n"
     ]
    }
   ],
   "source": [
    "#Construct a flowchart to calculate the sum of the following series where n is input. 1 + 1/2 + 1/3 + 1/4 + 1/5 +…………1/n\n",
    "n=int(input('enter the number ,a :-'))\n",
    "i=1\n",
    "sum=0\n",
    "for i in range(1,n+1):\n",
    "    sum=sum+1/i\n",
    "    \n",
    "i+=1 \n",
    "print(sum)"
   ]
  },
  {
   "cell_type": "code",
   "execution_count": 16,
   "id": "6449a335",
   "metadata": {},
   "outputs": [
    {
     "name": "stdout",
     "output_type": "stream",
     "text": [
      "enter the number1\n",
      "enter the number10\n",
      "enter the number2\n",
      "enter the number3\n",
      "6\n"
     ]
    }
   ],
   "source": [
    "#Construct a flowchart to show how to find the sum of all the numbers that are divisible\n",
    "#by P but not divisible by Q within a given range. (Input lower limit, upper limit, P, and Q from the user)\n",
    "ll=int(input(\"enter the number\"))\n",
    "ul=int(input(\"enter the number\"))\n",
    "p=int(input('enter the number'))\n",
    "q=int(input('enter the number'))\n",
    "i=ll\n",
    "sum=0\n",
    "for i in range(1,ul+1):\n",
    "    if i%p==0 and i%q==0:\n",
    "        sum=sum+i\n",
    "        \n",
    "        print(sum)\n",
    "i+=1        "
   ]
  },
  {
   "cell_type": "code",
   "execution_count": null,
   "id": "6402c4fb",
   "metadata": {},
   "outputs": [],
   "source": [
    "#Draw a flowchart to show how to obtain the HCF and LCM of two numbers. (input two numbers from the user)\n",
    "a=int(input(\"enter the number\"))\n",
    "b=int(input(\"enter the number\"))\n",
    "if a>b:\n",
    "    max=a\n",
    "else:\n",
    "    max=b\n",
    "i=max\n",
    "while \n"
   ]
  },
  {
   "cell_type": "code",
   "execution_count": 2,
   "id": "7a04c15a",
   "metadata": {},
   "outputs": [
    {
     "name": "stdout",
     "output_type": "stream",
     "text": [
      "enter the number534\n",
      "12\n"
     ]
    }
   ],
   "source": [
    "#Draw a flowchart to show how the sum of the digits of a given number can be obtained. (Input the number from the user)\n",
    "n=int(input(\"enter the number\"))\n",
    "sum=0\n",
    "while n>0:\n",
    "    a=n%10\n",
    "    sum+=a\n",
    "    n=n//10\n",
    "print(sum)    \n",
    "    "
   ]
  },
  {
   "cell_type": "code",
   "execution_count": 3,
   "id": "722a92df",
   "metadata": {},
   "outputs": [
    {
     "name": "stdout",
     "output_type": "stream",
     "text": [
      "enter the number12\n",
      "21\n"
     ]
    }
   ],
   "source": [
    "# Draw a flowchart to show the logic of obtaining the reversed form of a given whole number. (Input the number from the user)\n",
    "n=int(input(\"enter the number\"))\n",
    "sum=0\n",
    "while n>0:\n",
    "    a=n%10\n",
    "    sum=sum*10+a\n",
    "    n=n//10\n",
    "print(sum)    "
   ]
  },
  {
   "cell_type": "code",
   "execution_count": 5,
   "id": "5bd12982",
   "metadata": {},
   "outputs": [
    {
     "name": "stdout",
     "output_type": "stream",
     "text": [
      "enter the number12\n",
      "1\n",
      "2\n",
      "3\n",
      "4\n",
      "6\n",
      "12\n"
     ]
    }
   ],
   "source": [
    "#Construct a flowchart to show how the factors of a given number can be obtained. (Input the number from the user)\n",
    "n=int(input(\"enter the number\"))\n",
    "i=1\n",
    "for i in range(1,n+1):\n",
    "    if n%i==0:\n",
    "        print(i)\n",
    "i+=1        \n",
    "    "
   ]
  },
  {
   "cell_type": "code",
   "execution_count": 10,
   "id": "5348add7",
   "metadata": {},
   "outputs": [
    {
     "name": "stdout",
     "output_type": "stream",
     "text": [
      "enter the number 6\n",
      "Given number is perfect number\n"
     ]
    }
   ],
   "source": [
    "# Construct a flowchart to show how to determine whether a given number is a perfect number. (Input the number from the user) Note: A number is said to be a perfect number if the sum of its factors (except itself) equals the number.\n",
    "n=int(input(\"enter the number \"))\n",
    "i=1\n",
    "sum=0\n",
    "while i<n:\n",
    "    if n%i==0:\n",
    "        sum+=i\n",
    "    i+=1\n",
    "if sum==n:\n",
    "    print(\"Given number is perfect number\")\n",
    "\n",
    "else:\n",
    "    print(\" Not a perfect number\")\n",
    "    \n",
    "\n",
    "    "
   ]
  },
  {
   "cell_type": "code",
   "execution_count": 11,
   "id": "84db0452",
   "metadata": {},
   "outputs": [
    {
     "name": "stdout",
     "output_type": "stream",
     "text": [
      "Enter the number3\n",
      "Not prime\n",
      "Not prime\n",
      "Prime Number\n"
     ]
    }
   ],
   "source": [
    "#Construct a flowchart to show how you can decide if a given number is prime or not. (Input the number from the user)\n",
    "n=int(input(\"Enter the number\"))\n",
    "i=1\n",
    "c=0\n",
    "while i<=n:\n",
    "    if n%i==0:\n",
    "        \n",
    "        print(\"Not prime\")\n",
    "    i+=1\n",
    "print(\"Prime Number\")    "
   ]
  },
  {
   "cell_type": "code",
   "execution_count": 6,
   "id": "2c9d87a5",
   "metadata": {},
   "outputs": [
    {
     "name": "stdout",
     "output_type": "stream",
     "text": [
      "enter the number5\n",
      "61725\n"
     ]
    }
   ],
   "source": [
    "#Construct a flowchart to find out the sum of first N terms of the following series. 5 + 55 + 555 + 5555 + .......... up to N terms.\n",
    "n=int(input('enter the number'))\n",
    "i=1\n",
    "r=0\n",
    "sum=0\n",
    "while i<=n:\n",
    "    r=r*10+5\n",
    "    sum=sum+r\n",
    "    i+=1\n",
    "print(sum)    \n",
    "    \n",
    "    \n",
    "\n",
    "    \n",
    "    "
   ]
  },
  {
   "cell_type": "code",
   "execution_count": null,
   "id": "f0947ec7",
   "metadata": {},
   "outputs": [],
   "source": [
    "#Construct a flowchart to print multiplication tables from 1 to 5.\n",
    "n=int(input(\"enter the number\"))\n",
    "i=1\n",
    "while i<=n:\n",
    "    c=1\n",
    "    if c<=10:\n",
    "        p=i*c\n",
    "        print(p)\n",
    "        c=c+1\n",
    "    i+=1    \n",
    "\n",
    "\n"
   ]
  },
  {
   "cell_type": "code",
   "execution_count": 4,
   "id": "a6020f3d",
   "metadata": {},
   "outputs": [
    {
     "name": "stdout",
     "output_type": "stream",
     "text": [
      "6\n",
      "28\n",
      "496\n",
      "8128\n"
     ]
    }
   ],
   "source": [
    "#Develop a flowchart to show how to find all the perfect numbers under 10,000.\n",
    "i=1\n",
    "sum=0\n",
    "while i<10000:\n",
    "        j=1\n",
    "        sum=0\n",
    "        while j<i:\n",
    "            if i%j==0:\n",
    "                sum+=j\n",
    "            j+=1\n",
    "        if i==sum:\n",
    "            print(i)\n",
    "        i+=1        \n",
    "            \n"
   ]
  },
  {
   "cell_type": "code",
   "execution_count": 4,
   "id": "2977f174",
   "metadata": {},
   "outputs": [
    {
     "name": "stdout",
     "output_type": "stream",
     "text": [
      "enter the number100\n",
      "enter the number200\n",
      "yes 153\n"
     ]
    }
   ],
   "source": [
    "#Develop a flowchart to show how to determine all the 3-digit Armstrong numbers. A number is called an Armstrong number if the sum of the values of the digits each raised to the power equal to the number of digits in the number equals the number. For example, 153 is an Armstrong number, because 153 = 1\n",
    "m=int(input(\"enter the number\"))\n",
    "n=int(input(\"enter the number\"))\n",
    "while m<n:\n",
    "    temp=m\n",
    "    a=m\n",
    "    c=0\n",
    "    while a>0:\n",
    "        a=a//10\n",
    "        c=c+1\n",
    "    sum=0\n",
    "    while temp>0:\n",
    "        r=temp%10\n",
    "        sum=sum+r**c\n",
    "        temp=temp//10\n",
    "    if m==sum:\n",
    "        print(\"yes\",m)\n",
    "    m+=1  "
   ]
  },
  {
   "cell_type": "code",
   "execution_count": 11,
   "id": "7e5d54f6",
   "metadata": {},
   "outputs": [
    {
     "name": "stdout",
     "output_type": "stream",
     "text": [
      "enter the number153\n",
      "armstrong number\n"
     ]
    }
   ],
   "source": [
    "#Develop a flowchart to show how to determine all the 3-digit Armstrong numbers. A\n",
    "#number is called an Armstrong number if the sum of the values of the digits each raised\n",
    "#to the power equal to the number of digits in the number equals the number.\n",
    "n=int(input('enter the number'))\n",
    "sum=0\n",
    "temp=n\n",
    "c=0\n",
    "while n>0:\n",
    "    r=n%10\n",
    "    n=n//10\n",
    "    t=r*r*r\n",
    "    sum=sum+t\n",
    "    \n",
    "if sum==temp:\n",
    "    print(\"armstrong number\")\n",
    "else:\n",
    "    print(\"not\")\n",
    "    \n"
   ]
  },
  {
   "cell_type": "code",
   "execution_count": null,
   "id": "f8ab25bb",
   "metadata": {},
   "outputs": [],
   "source": [
    "#Some three-digit numbers show the property that the sum of the factorials of the digits equals the numbers, for example, 145 = 1! + 4! + 5!. Develop a flowchart to show how to determine all such numbers\n",
    "n=int(input(\"enter the number\"))\n",
    "sum=0\n",
    "fact=1\n",
    "i=n\n",
    "while i>0:\n",
    "    a=i%10\n",
    "    while a>0:\n",
    "        fact=fact*a\n",
    "        a=a-1\n",
    "    sum=sum+fact\n",
    "    i=n//10\n",
    "if sum==n:\n",
    "    print(sum)"
   ]
  },
  {
   "cell_type": "code",
   "execution_count": 11,
   "id": "dc290dee",
   "metadata": {},
   "outputs": [
    {
     "name": "stdout",
     "output_type": "stream",
     "text": [
      "enter the number:n5\n",
      "    1   12  123 123412345"
     ]
    }
   ],
   "source": [
    "#Create a pyramid of numbers consisting of a given number of lines. For example, if the given number is 5, then we should see the following:\n",
    "#1\n",
    "#1 2 1\n",
    "#1 2 3 2 1\n",
    "#1 2 3 4 3 2 1\n",
    "#1 2 3 4 5 4 3 2 1\n",
    "n=int(input(\"enter the number:n\"))\n",
    "i=1\n",
    "for i in range(1,n+1):\n",
    "    j=1\n",
    "    while j<=n-i:\n",
    "        print(end=\" \")\n",
    "        j=j+1\n",
    "    k=1\n",
    "    while k<=i:\n",
    "        print(k,end=\"\")\n",
    "        k=k+1\n",
    "    a=k-2\n",
    "    while a>=i:\n",
    "        print(a,end=\"\")\n",
    "        a=a-1\n",
    "    i+=1   "
   ]
  },
  {
   "cell_type": "code",
   "execution_count": 17,
   "id": "fadf5465",
   "metadata": {},
   "outputs": [
    {
     "name": "stdout",
     "output_type": "stream",
     "text": [
      "i\n",
      "ii\n",
      "iii\n",
      "iiii\n",
      "iiiii\n"
     ]
    }
   ],
   "source": [
    "for i in range(1,n+1):\n",
    "    print('i'*i)"
   ]
  },
  {
   "cell_type": "code",
   "execution_count": null,
   "id": "7549eb6e",
   "metadata": {},
   "outputs": [],
   "source": []
  },
  {
   "cell_type": "code",
   "execution_count": 8,
   "id": "28f6e852",
   "metadata": {},
   "outputs": [
    {
     "name": "stdout",
     "output_type": "stream",
     "text": [
      "enter the number:5\n",
      "12345\n",
      "2345\n",
      "345\n",
      "45\n",
      "5\n"
     ]
    }
   ],
   "source": [
    "#12345\n",
    "#2345\n",
    "#345\n",
    "#45\n",
    "#5\n",
    "n=int(input(\"enter the number:\"))\n",
    "i=1\n",
    "while i<=n:\n",
    "    j=i\n",
    "    while j<=n:\n",
    "        print(j,end=\"\")\n",
    "        j=j+1\n",
    "    print()\n",
    "    i+=1"
   ]
  },
  {
   "cell_type": "code",
   "execution_count": null,
   "id": "08dbafa3",
   "metadata": {},
   "outputs": [],
   "source": [
    "\n"
   ]
  },
  {
   "cell_type": "code",
   "execution_count": 7,
   "id": "e3f5b57e",
   "metadata": {},
   "outputs": [
    {
     "name": "stdout",
     "output_type": "stream",
     "text": [
      "enter the number:4\n",
      "1\n",
      "21\n",
      "321\n",
      "4321\n"
     ]
    }
   ],
   "source": [
    "#1\n",
    "#12\n",
    "#123\n",
    "#1234\n",
    "#12345\n",
    "n=int(input(\"enter the number:\"))\n",
    "i=0\n",
    "while i<n:\n",
    "    j=i\n",
    "    while j>=0:\n",
    "        print(j+1,end=\"\")\n",
    "        j=j-1\n",
    "    print()\n",
    "    i+=1\n",
    "    \n",
    "\n"
   ]
  },
  {
   "cell_type": "code",
   "execution_count": 13,
   "id": "96cdcc84",
   "metadata": {},
   "outputs": [
    {
     "name": "stdout",
     "output_type": "stream",
     "text": [
      "enter the number5\n",
      "enter the value5\n",
      "54321\n",
      "432\n",
      "3\n",
      "\n",
      "\n"
     ]
    }
   ],
   "source": [
    "#54321\n",
    "#4321\n",
    "#321\n",
    "#21\n",
    "#1\n",
    "n=int(input(\"enter the number\"))\n",
    "a=int(input('enter the value'))\n",
    "i=1\n",
    "while i<=n:\n",
    "    j=a\n",
    "    while j>=i:\n",
    "        print(j,end=\"\")\n",
    "        j=j-1\n",
    "    print()\n",
    "    i=i+1\n",
    "    a=a-1"
   ]
  },
  {
   "cell_type": "code",
   "execution_count": 14,
   "id": "a4950291",
   "metadata": {},
   "outputs": [
    {
     "name": "stdout",
     "output_type": "stream",
     "text": [
      "enter the number:5\n",
      "54321\n",
      "4321\n",
      "321\n",
      "21\n",
      "1\n"
     ]
    }
   ],
   "source": [
    "n=int(input(\"enter the number:\"))\n",
    "for i in range(n,0,-1):\n",
    "    for j in range(i,0,-1):\n",
    "        print(j,end=\"\")\n",
    "    print()    \n",
    "    "
   ]
  },
  {
   "cell_type": "code",
   "execution_count": 7,
   "id": "cdb76769",
   "metadata": {},
   "outputs": [
    {
     "name": "stdout",
     "output_type": "stream",
     "text": [
      "enter the value5\n",
      "1\n",
      "10\n",
      "101\n",
      "1010\n",
      "10101\n"
     ]
    }
   ],
   "source": [
    "#1\n",
    "#10\n",
    "#101\n",
    "#1010\n",
    "#10101\n",
    "n=int(input(\"enter the value\"))\n",
    "i=1\n",
    "while i<=n:\n",
    "    j=1\n",
    "    k=1\n",
    "    while j<=i:\n",
    "        \n",
    "        x=k%2\n",
    "        print(x,end=\"\")\n",
    "        k=(k+1)%2\n",
    "        j+=1\n",
    "    print()\n",
    "    i+=1"
   ]
  },
  {
   "cell_type": "code",
   "execution_count": 1,
   "id": "5add028e",
   "metadata": {},
   "outputs": [
    {
     "name": "stdout",
     "output_type": "stream",
     "text": [
      "enter the number5\n",
      "1\n",
      "10\n",
      "101\n",
      "1010\n",
      "10101\n"
     ]
    }
   ],
   "source": [
    "#1\n",
    "#10\n",
    "#101\n",
    "#1010\n",
    "#10101\n",
    "n=int(input(\"enter the number\"))\n",
    "i=1\n",
    "while i<=n:\n",
    "    j=1\n",
    "    while j<=i:\n",
    "        r=j%2\n",
    "        print(r,end=\"\")\n",
    "        j=j+1\n",
    "    print()\n",
    "    i=i+1\n"
   ]
  },
  {
   "cell_type": "code",
   "execution_count": 3,
   "id": "d8005178",
   "metadata": {},
   "outputs": [
    {
     "name": "stdout",
     "output_type": "stream",
     "text": [
      "enter the number5\n",
      "1\n",
      "01\n",
      "101\n",
      "0101\n",
      "10101\n"
     ]
    }
   ],
   "source": [
    "#1\n",
    "#01\n",
    "#101\n",
    "#0101\n",
    "#10101\n",
    "n=int(input(\"enter the number\"))\n",
    "for i in range(1, n + 1):\n",
    "        for j in range(1, i + 1):\n",
    "            if (i + j) % 2 == 0:\n",
    "                print(\"1\", end=\"\")\n",
    "            else:\n",
    "                print(\"0\", end=\"\")\n",
    "        print()\n"
   ]
  },
  {
   "cell_type": "code",
   "execution_count": null,
   "id": "ea396cd3",
   "metadata": {},
   "outputs": [],
   "source": [
    "n=int(input(\"enter the number\"))\n",
    "i=1\n",
    "while i<=n:\n",
    "    j=1\n",
    "    while j<=i:\n",
    "        if (i+j)%2==0:\n",
    "            print(\"1\",end=\"\")\n",
    "        else:\n",
    "            print(\"0\",end=\"\")\n",
    "            j=j+1\n",
    "    print()\n",
    "    i+=1\n",
    "           \n",
    "    "
   ]
  },
  {
   "cell_type": "code",
   "execution_count": 4,
   "id": "704b85aa",
   "metadata": {},
   "outputs": [
    {
     "name": "stdout",
     "output_type": "stream",
     "text": [
      "enter the number3\n",
      "*\n",
      "**\n",
      "***\n"
     ]
    }
   ],
   "source": [
    "#*\n",
    "#**\n",
    "#***\n",
    "#****\n",
    "n=int(input(\"enter the number\"))\n",
    "for i in range (1,n+1):\n",
    "    print(\"*\"*i)"
   ]
  },
  {
   "cell_type": "code",
   "execution_count": 11,
   "id": "e1657e41",
   "metadata": {},
   "outputs": [
    {
     "name": "stdout",
     "output_type": "stream",
     "text": [
      "enter the number:3\n",
      "* * * \n",
      "*   \n",
      "* * * \n",
      "  * \n",
      "* * * \n"
     ]
    }
   ],
   "source": [
    "#* * *\n",
    "#*\n",
    "#* * *\n",
    "#    * \n",
    "#* * *\n",
    "n=int(input(\"enter the number:\"))\n",
    "for i in range(1,n+1):\n",
    "    for j in range(1,n+1):\n",
    "        if i==1 or j==1 or i==n:\n",
    "            print(\"*\",end=\"\")\n",
    "        print(end=\" \")\n",
    "        j=j+1\n",
    "    print()\n",
    "    i=i+1\n",
    "for a in range(1,n):\n",
    "    for b in range(1,n+1):\n",
    "        if  a==n-1 or b==n:\n",
    "            print(\"*\",end=\"\")\n",
    "        print(end=\" \")\n",
    "        b=b+1\n",
    "    print()\n",
    "    a=a+1\n",
    "    \n",
    "            \n",
    "    \n",
    "    "
   ]
  },
  {
   "cell_type": "code",
   "execution_count": null,
   "id": "665d04da",
   "metadata": {},
   "outputs": [],
   "source": [
    "# Construct a flowchart to input a positive integer. If the number is even, add up its digits. Otherwise, multiply the individual digits and print the result.\n",
    "a=int(input(\"enter the positive integer:\"))\n",
    "num=a\n",
    "while a>0:\n",
    "    if num%2==0:\n",
    "        sum=0\n",
    "    \n",
    "        r=num%10\n",
    "        sum=sum+r\n",
    "        num=num//10\n",
    "print(sum)\n",
    "    else:\n",
    "        product=1\n",
    "        r=num%10\n",
    "        product*=r\n",
    "        num=num//10\n",
    "print(product)\n",
    "        \n",
    "    \n",
    "        "
   ]
  },
  {
   "cell_type": "markdown",
   "id": "c2f9bd3e",
   "metadata": {},
   "source": [
    "#"
   ]
  },
  {
   "cell_type": "code",
   "execution_count": 5,
   "id": "12eac018",
   "metadata": {},
   "outputs": [
    {
     "name": "stdout",
     "output_type": "stream",
     "text": [
      "enter the number2\n",
      "enter the number3\n",
      "enter the number4\n",
      "4\n",
      "4\n"
     ]
    }
   ],
   "source": [
    "#Construct a flowchart to determine the maximum and the minimum out of n given numbers.\n",
    "n=int(input(\"enter the number\"))\n",
    "max=int(input(\"enter the number\"))\n",
    "min=int(input(\"enter the number\"))\n",
    "if min>max:\n",
    "    t=max\n",
    "    max=min\n",
    "    min=max\n",
    "i=1\n",
    "while i<=n-2:\n",
    "    a=int(input(\"enter the number\"))\n",
    "    if a>max:\n",
    "        max=a\n",
    "    elif a<min:\n",
    "        min=a\n",
    "    i=i+1\n",
    "print(max)\n",
    "print(min)"
   ]
  },
  {
   "cell_type": "code",
   "execution_count": 4,
   "id": "ff442741",
   "metadata": {},
   "outputs": [
    {
     "name": "stdout",
     "output_type": "stream",
     "text": [
      "positive integer:34\n",
      "4\n",
      "3\n"
     ]
    }
   ],
   "source": [
    "a=int(input(\"positive integer:\"))\n",
    "num = a\n",
    "digit_sum = 0\n",
    "digit_product = 1\n",
    "\n",
    "while num > 0:\n",
    "    if num % 2 == 0:\n",
    "        r = num % 10\n",
    "        digit_sum += r\n",
    "    else:\n",
    "        r = num % 10\n",
    "        digit_product *= r\n",
    "    num = num // 10\n",
    "\n",
    "print(digit_sum)\n",
    "print(digit_product)"
   ]
  },
  {
   "cell_type": "code",
   "execution_count": 10,
   "id": "735e90a1",
   "metadata": {},
   "outputs": [
    {
     "name": "stdout",
     "output_type": "stream",
     "text": [
      "enter the number:-34\n",
      "7\n"
     ]
    }
   ],
   "source": [
    "a=int(input(\"enter the number:-\"))\n",
    "\n",
    "if a%2==0:\n",
    "    x=a\n",
    "    sum=0\n",
    "    while x>0:\n",
    "        r=x%10\n",
    "        sum=sum+r\n",
    "        x=x//10\n",
    "    print(sum)\n",
    "    \n",
    "else:\n",
    "    x=a\n",
    "    p=1\n",
    "    while x>0:\n",
    "        r=x%10\n",
    "        p=p*r\n",
    "        p=p//10\n",
    "    print(p)"
   ]
  },
  {
   "cell_type": "code",
   "execution_count": null,
   "id": "59bfd3e8",
   "metadata": {},
   "outputs": [],
   "source": []
  },
  {
   "cell_type": "code",
   "execution_count": null,
   "id": "79d7bf6c",
   "metadata": {},
   "outputs": [],
   "source": []
  }
 ],
 "metadata": {
  "kernelspec": {
   "display_name": "Python 3 (ipykernel)",
   "language": "python",
   "name": "python3"
  },
  "language_info": {
   "codemirror_mode": {
    "name": "ipython",
    "version": 3
   },
   "file_extension": ".py",
   "mimetype": "text/x-python",
   "name": "python",
   "nbconvert_exporter": "python",
   "pygments_lexer": "ipython3",
   "version": "3.11.5"
  }
 },
 "nbformat": 4,
 "nbformat_minor": 5
}
